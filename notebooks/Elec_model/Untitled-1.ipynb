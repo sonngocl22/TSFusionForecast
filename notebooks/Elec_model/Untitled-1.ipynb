{
 "cells": [
  {
   "cell_type": "code",
   "execution_count": 11,
   "metadata": {},
   "outputs": [],
   "source": [
    "import numpy as np\n",
    "import pandas as pd"
   ]
  },
  {
   "cell_type": "code",
   "execution_count": 12,
   "metadata": {},
   "outputs": [],
   "source": [
    "def smape(y_true, y_pred):\n",
    "    \"\"\"\n",
    "    Calculate the Symmetric Mean Absolute Percentage Error (SMAPE).\n",
    "\n",
    "    Args:\n",
    "    y_true (array): True values.\n",
    "    y_pred (array): Predicted values.\n",
    "\n",
    "    Returns:\n",
    "    float: SMAPE score.\n",
    "    \"\"\"\n",
    "    # Avoid division by zero by adding a small epsilon\n",
    "    epsilon = np.finfo(np.float64).eps\n",
    "    denominator = np.maximum(np.abs(y_true) + np.abs(y_pred) + epsilon, 0.5 + epsilon)\n",
    "\n",
    "    # Calculate SMAPE\n",
    "    smape_value = 100/len(y_true) * np.sum(2 * np.abs(y_pred - y_true) / denominator)\n",
    "    return smape_value\n"
   ]
  },
  {
   "cell_type": "code",
   "execution_count": 13,
   "metadata": {},
   "outputs": [],
   "source": [
    "a = [ 62.18886,   53.337177,  46.081467,  42.431015,  46.075554,  58.93823,\n",
    "  78.83022,   97.19235,  108.931725, 106.78115,   99.49789,  91.96594,\n",
    "  88.39992,   88.40285,   92.3576,   100.86532,  115.73664,  129.50262,\n",
    " 137.69539,  135.75789,  124.621475, 108.53585,   93.54312,   81.768555]"
   ]
  },
  {
   "cell_type": "code",
   "execution_count": 14,
   "metadata": {},
   "outputs": [],
   "source": [
    "b = [ 87.3,   85.89 , 85.88 , 83.21,  82.71,  85.44,  86.3 ,  88.,    92. ,  94.89,\n",
    "  91.28,  90.22 , 87.94 , 87.8,   91.5,  102.87, 115.72, 127.98 ,135.76, 124.47,\n",
    " 113.51, 102.58 , 92.38 , 87.41]"
   ]
  },
  {
   "cell_type": "code",
   "execution_count": 15,
   "metadata": {},
   "outputs": [
    {
     "data": {
      "text/plain": [
       "16.484813140321155"
      ]
     },
     "execution_count": 15,
     "metadata": {},
     "output_type": "execute_result"
    }
   ],
   "source": [
    "smape(np.array(a), np.array(b))"
   ]
  },
  {
   "cell_type": "code",
   "execution_count": 24,
   "metadata": {},
   "outputs": [],
   "source": [
    "# 600\n",
    "c = [ 86.25403 ,  78.87679 ,  70.08055 ,  67.265305,  71.84905 ,\n",
    "85.07025 , 102.02854 , 111.93429 , 111.18064 , 102.084885,\n",
    "90.59769 ,  82.56879 ,  78.97533 ,  79.27542 ,  82.88844 ,\n",
    "90.14197 , 101.748604, 114.093506, 120.36964 , 115.07894 ,\n",
    "103.72215 ,  90.12669 ,  79.70996 ,  71.48859 ]"
   ]
  },
  {
   "cell_type": "code",
   "execution_count": 18,
   "metadata": {},
   "outputs": [
    {
     "data": {
      "text/plain": [
       "11.95788174883775"
      ]
     },
     "execution_count": 18,
     "metadata": {},
     "output_type": "execute_result"
    }
   ],
   "source": [
    "smape(np.array(c), np.array(b))"
   ]
  },
  {
   "cell_type": "code",
   "execution_count": 25,
   "metadata": {},
   "outputs": [],
   "source": [
    "# 1000\n",
    "d = [ 74.04164 ,  65.5368  ,  54.252663,  46.281754,  46.92543 ,  60.165234,\n",
    "  82.516136, 104.080124, 114.15776 , 109.41069 ,  96.87125 ,  85.63338,\n",
    "  79.4908  ,  79.382965,  84.12707 ,  95.290474, 112.038055, 127.929756,\n",
    " 134.16985 , 126.32562 , 110.344246,  94.52337 ,  82.9116  ,  76.0923  ]"
   ]
  },
  {
   "cell_type": "code",
   "execution_count": 20,
   "metadata": {},
   "outputs": [
    {
     "data": {
      "text/plain": [
       "15.887600041227167"
      ]
     },
     "execution_count": 20,
     "metadata": {},
     "output_type": "execute_result"
    }
   ],
   "source": [
    "smape(np.array(d), np.array(b))"
   ]
  },
  {
   "cell_type": "code",
   "execution_count": 26,
   "metadata": {},
   "outputs": [],
   "source": [
    "# 1500\n",
    "e = [ 58.653824 , 44.076683 , 32.100403 , 26.180534 , 25.70488  , 30.932945,\n",
    "  45.63038  , 69.262634 , 88.90317  , 90.453995 , 74.510376 , 52.726295,\n",
    "  35.913834 , 26.99482  , 25.00016  , 33.47603  , 55.81622  , 83.97555,\n",
    " 103.13978  ,105.43277  , 93.42175  , 74.18145  , 56.946636 , 43.103302]"
   ]
  },
  {
   "cell_type": "code",
   "execution_count": 27,
   "metadata": {},
   "outputs": [
    {
     "data": {
      "text/plain": [
       "58.012169971387664"
      ]
     },
     "execution_count": 27,
     "metadata": {},
     "output_type": "execute_result"
    }
   ],
   "source": [
    "smape(np.array(e), np.array(b))"
   ]
  },
  {
   "cell_type": "code",
   "execution_count": null,
   "metadata": {},
   "outputs": [],
   "source": []
  },
  {
   "cell_type": "code",
   "execution_count": null,
   "metadata": {},
   "outputs": [],
   "source": []
  },
  {
   "cell_type": "code",
   "execution_count": 3,
   "metadata": {},
   "outputs": [],
   "source": [
    "from ESRNN.m4_data import *\n",
    "from ESRNN.utils_evaluation import evaluate_prediction_owa\n",
    "from ESRNN.utils_visualization import plot_grid_prediction"
   ]
  },
  {
   "cell_type": "code",
   "execution_count": 4,
   "metadata": {},
   "outputs": [
    {
     "name": "stderr",
     "output_type": "stream",
     "text": [
      "c:\\Users\\sonng\\anaconda3\\envs\\tsff_env\\lib\\site-packages\\statsforecast\\core.py:25: TqdmWarning: IProgress not found. Please update jupyter and ipywidgets. See https://ipywidgets.readthedocs.io/en/stable/user_install.html\n",
      "  from tqdm.autonotebook import tqdm\n"
     ]
    }
   ],
   "source": [
    "from statsforecast import StatsForecast"
   ]
  },
  {
   "cell_type": "code",
   "execution_count": 6,
   "metadata": {},
   "outputs": [
    {
     "name": "stdout",
     "output_type": "stream",
     "text": [
      "\n",
      "\n"
     ]
    }
   ],
   "source": [
    "X_train_df, y_train_df, X_test_df, y_test_df = prepare_m4_data(dataset_name=\"Hourly\",\n",
    "                                                               directory=\"../../data/M4\",\n",
    "                                                               num_obs=414)"
   ]
  },
  {
   "cell_type": "code",
   "execution_count": 7,
   "metadata": {},
   "outputs": [
    {
     "data": {
      "text/html": [
       "<div>\n",
       "<style scoped>\n",
       "    .dataframe tbody tr th:only-of-type {\n",
       "        vertical-align: middle;\n",
       "    }\n",
       "\n",
       "    .dataframe tbody tr th {\n",
       "        vertical-align: top;\n",
       "    }\n",
       "\n",
       "    .dataframe thead th {\n",
       "        text-align: right;\n",
       "    }\n",
       "</style>\n",
       "<table border=\"1\" class=\"dataframe\">\n",
       "  <thead>\n",
       "    <tr style=\"text-align: right;\">\n",
       "      <th></th>\n",
       "      <th>unique_id</th>\n",
       "      <th>ds</th>\n",
       "      <th>y</th>\n",
       "    </tr>\n",
       "  </thead>\n",
       "  <tbody>\n",
       "    <tr>\n",
       "      <th>0</th>\n",
       "      <td>H1</td>\n",
       "      <td>1970-01-01 00:00:00</td>\n",
       "      <td>605.0</td>\n",
       "    </tr>\n",
       "    <tr>\n",
       "      <th>1</th>\n",
       "      <td>H1</td>\n",
       "      <td>1970-01-01 01:00:00</td>\n",
       "      <td>586.0</td>\n",
       "    </tr>\n",
       "    <tr>\n",
       "      <th>2</th>\n",
       "      <td>H1</td>\n",
       "      <td>1970-01-01 02:00:00</td>\n",
       "      <td>586.0</td>\n",
       "    </tr>\n",
       "    <tr>\n",
       "      <th>3</th>\n",
       "      <td>H1</td>\n",
       "      <td>1970-01-01 03:00:00</td>\n",
       "      <td>559.0</td>\n",
       "    </tr>\n",
       "    <tr>\n",
       "      <th>4</th>\n",
       "      <td>H1</td>\n",
       "      <td>1970-01-01 04:00:00</td>\n",
       "      <td>511.0</td>\n",
       "    </tr>\n",
       "    <tr>\n",
       "      <th>...</th>\n",
       "      <td>...</td>\n",
       "      <td>...</td>\n",
       "      <td>...</td>\n",
       "    </tr>\n",
       "    <tr>\n",
       "      <th>353495</th>\n",
       "      <td>H99</td>\n",
       "      <td>1970-01-29 23:00:00</td>\n",
       "      <td>27926.0</td>\n",
       "    </tr>\n",
       "    <tr>\n",
       "      <th>353496</th>\n",
       "      <td>H99</td>\n",
       "      <td>1970-01-30 00:00:00</td>\n",
       "      <td>26744.0</td>\n",
       "    </tr>\n",
       "    <tr>\n",
       "      <th>353497</th>\n",
       "      <td>H99</td>\n",
       "      <td>1970-01-30 01:00:00</td>\n",
       "      <td>25829.0</td>\n",
       "    </tr>\n",
       "    <tr>\n",
       "      <th>353498</th>\n",
       "      <td>H99</td>\n",
       "      <td>1970-01-30 02:00:00</td>\n",
       "      <td>25421.0</td>\n",
       "    </tr>\n",
       "    <tr>\n",
       "      <th>353499</th>\n",
       "      <td>H99</td>\n",
       "      <td>1970-01-30 03:00:00</td>\n",
       "      <td>23252.0</td>\n",
       "    </tr>\n",
       "  </tbody>\n",
       "</table>\n",
       "<p>353500 rows × 3 columns</p>\n",
       "</div>"
      ],
      "text/plain": [
       "       unique_id                  ds        y\n",
       "0             H1 1970-01-01 00:00:00    605.0\n",
       "1             H1 1970-01-01 01:00:00    586.0\n",
       "2             H1 1970-01-01 02:00:00    586.0\n",
       "3             H1 1970-01-01 03:00:00    559.0\n",
       "4             H1 1970-01-01 04:00:00    511.0\n",
       "...          ...                 ...      ...\n",
       "353495       H99 1970-01-29 23:00:00  27926.0\n",
       "353496       H99 1970-01-30 00:00:00  26744.0\n",
       "353497       H99 1970-01-30 01:00:00  25829.0\n",
       "353498       H99 1970-01-30 02:00:00  25421.0\n",
       "353499       H99 1970-01-30 03:00:00  23252.0\n",
       "\n",
       "[353500 rows x 3 columns]"
      ]
     },
     "execution_count": 7,
     "metadata": {},
     "output_type": "execute_result"
    }
   ],
   "source": [
    "y_train_df"
   ]
  },
  {
   "cell_type": "code",
   "execution_count": 13,
   "metadata": {},
   "outputs": [
    {
     "data": {
      "text/plain": [
       "count    353500.000000\n",
       "mean       5606.169408\n",
       "std       35495.304697\n",
       "min          10.000000\n",
       "25%          18.100000\n",
       "50%          29.000000\n",
       "75%         497.000000\n",
       "max      703008.000000\n",
       "Name: y, dtype: float64"
      ]
     },
     "execution_count": 13,
     "metadata": {},
     "output_type": "execute_result"
    }
   ],
   "source": [
    "y_train_df['y'].describe()"
   ]
  },
  {
   "cell_type": "code",
   "execution_count": null,
   "metadata": {},
   "outputs": [],
   "source": []
  },
  {
   "cell_type": "code",
   "execution_count": 18,
   "metadata": {},
   "outputs": [],
   "source": [
    "df_elec = pd.read_csv('../../data/electricity/df_electricity_full_2023.csv')"
   ]
  },
  {
   "cell_type": "code",
   "execution_count": 34,
   "metadata": {},
   "outputs": [
    {
     "data": {
      "text/html": [
       "<div>\n",
       "<style scoped>\n",
       "    .dataframe tbody tr th:only-of-type {\n",
       "        vertical-align: middle;\n",
       "    }\n",
       "\n",
       "    .dataframe tbody tr th {\n",
       "        vertical-align: top;\n",
       "    }\n",
       "\n",
       "    .dataframe thead th {\n",
       "        text-align: right;\n",
       "    }\n",
       "</style>\n",
       "<table border=\"1\" class=\"dataframe\">\n",
       "  <thead>\n",
       "    <tr style=\"text-align: right;\">\n",
       "      <th></th>\n",
       "      <th>datetime</th>\n",
       "      <th>datetime_utc</th>\n",
       "      <th>date</th>\n",
       "      <th>day</th>\n",
       "      <th>month</th>\n",
       "      <th>year</th>\n",
       "      <th>hour_index</th>\n",
       "      <th>day_of_week</th>\n",
       "      <th>price_de</th>\n",
       "      <th>price_de_lag_24</th>\n",
       "      <th>...</th>\n",
       "      <th>gen_at</th>\n",
       "      <th>gen_at_lag_24</th>\n",
       "      <th>gen_fr</th>\n",
       "      <th>gen_fr_lag_24</th>\n",
       "      <th>windoff_de</th>\n",
       "      <th>windoff_de_lag_24</th>\n",
       "      <th>windon_de</th>\n",
       "      <th>windon_de_lag_24</th>\n",
       "      <th>solar_de</th>\n",
       "      <th>solar_de_lag_24</th>\n",
       "    </tr>\n",
       "  </thead>\n",
       "  <tbody>\n",
       "    <tr>\n",
       "      <th>0</th>\n",
       "      <td>2022-11-01 00:00:00+01</td>\n",
       "      <td>2022-10-31 23:00:00+00:00</td>\n",
       "      <td>2022-11-01</td>\n",
       "      <td>1</td>\n",
       "      <td>11</td>\n",
       "      <td>2022</td>\n",
       "      <td>0</td>\n",
       "      <td>1</td>\n",
       "      <td>80.65</td>\n",
       "      <td>129.38</td>\n",
       "      <td>...</td>\n",
       "      <td>4079.2</td>\n",
       "      <td>2991.0</td>\n",
       "      <td>40284.0</td>\n",
       "      <td>36238.0</td>\n",
       "      <td>5331.8525</td>\n",
       "      <td>2384.8325</td>\n",
       "      <td>16063.7425</td>\n",
       "      <td>6744.5025</td>\n",
       "      <td>0.0</td>\n",
       "      <td>0.0</td>\n",
       "    </tr>\n",
       "    <tr>\n",
       "      <th>1</th>\n",
       "      <td>2022-11-01 01:00:00+01</td>\n",
       "      <td>2022-11-01 00:00:00+00:00</td>\n",
       "      <td>2022-11-01</td>\n",
       "      <td>1</td>\n",
       "      <td>11</td>\n",
       "      <td>2022</td>\n",
       "      <td>1</td>\n",
       "      <td>1</td>\n",
       "      <td>76.68</td>\n",
       "      <td>119.09</td>\n",
       "      <td>...</td>\n",
       "      <td>4027.1</td>\n",
       "      <td>2942.3</td>\n",
       "      <td>39246.0</td>\n",
       "      <td>36353.5</td>\n",
       "      <td>5206.9600</td>\n",
       "      <td>2536.8800</td>\n",
       "      <td>16839.0400</td>\n",
       "      <td>6414.3500</td>\n",
       "      <td>0.0</td>\n",
       "      <td>0.0</td>\n",
       "    </tr>\n",
       "    <tr>\n",
       "      <th>2</th>\n",
       "      <td>2022-11-01 02:00:00+01</td>\n",
       "      <td>2022-11-01 01:00:00+00:00</td>\n",
       "      <td>2022-11-01</td>\n",
       "      <td>1</td>\n",
       "      <td>11</td>\n",
       "      <td>2022</td>\n",
       "      <td>2</td>\n",
       "      <td>1</td>\n",
       "      <td>55.26</td>\n",
       "      <td>116.32</td>\n",
       "      <td>...</td>\n",
       "      <td>3933.9</td>\n",
       "      <td>2940.3</td>\n",
       "      <td>39366.5</td>\n",
       "      <td>36030.0</td>\n",
       "      <td>5295.7975</td>\n",
       "      <td>2461.7675</td>\n",
       "      <td>17616.8775</td>\n",
       "      <td>5744.3775</td>\n",
       "      <td>0.0</td>\n",
       "      <td>0.0</td>\n",
       "    </tr>\n",
       "    <tr>\n",
       "      <th>3</th>\n",
       "      <td>2022-11-01 03:00:00+01</td>\n",
       "      <td>2022-11-01 02:00:00+00:00</td>\n",
       "      <td>2022-11-01</td>\n",
       "      <td>1</td>\n",
       "      <td>11</td>\n",
       "      <td>2022</td>\n",
       "      <td>3</td>\n",
       "      <td>1</td>\n",
       "      <td>37.00</td>\n",
       "      <td>114.60</td>\n",
       "      <td>...</td>\n",
       "      <td>3766.6</td>\n",
       "      <td>2869.9</td>\n",
       "      <td>37003.5</td>\n",
       "      <td>35798.5</td>\n",
       "      <td>5410.9475</td>\n",
       "      <td>2317.1050</td>\n",
       "      <td>17984.3850</td>\n",
       "      <td>5127.0875</td>\n",
       "      <td>0.0</td>\n",
       "      <td>0.0</td>\n",
       "    </tr>\n",
       "    <tr>\n",
       "      <th>4</th>\n",
       "      <td>2022-11-01 04:00:00+01</td>\n",
       "      <td>2022-11-01 03:00:00+00:00</td>\n",
       "      <td>2022-11-01</td>\n",
       "      <td>1</td>\n",
       "      <td>11</td>\n",
       "      <td>2022</td>\n",
       "      <td>4</td>\n",
       "      <td>1</td>\n",
       "      <td>38.76</td>\n",
       "      <td>115.07</td>\n",
       "      <td>...</td>\n",
       "      <td>3585.8</td>\n",
       "      <td>2988.1</td>\n",
       "      <td>34949.5</td>\n",
       "      <td>36479.0</td>\n",
       "      <td>5552.2900</td>\n",
       "      <td>2176.6850</td>\n",
       "      <td>18902.0375</td>\n",
       "      <td>4400.1125</td>\n",
       "      <td>0.0</td>\n",
       "      <td>0.0</td>\n",
       "    </tr>\n",
       "    <tr>\n",
       "      <th>...</th>\n",
       "      <td>...</td>\n",
       "      <td>...</td>\n",
       "      <td>...</td>\n",
       "      <td>...</td>\n",
       "      <td>...</td>\n",
       "      <td>...</td>\n",
       "      <td>...</td>\n",
       "      <td>...</td>\n",
       "      <td>...</td>\n",
       "      <td>...</td>\n",
       "      <td>...</td>\n",
       "      <td>...</td>\n",
       "      <td>...</td>\n",
       "      <td>...</td>\n",
       "      <td>...</td>\n",
       "      <td>...</td>\n",
       "      <td>...</td>\n",
       "      <td>...</td>\n",
       "      <td>...</td>\n",
       "      <td>...</td>\n",
       "      <td>...</td>\n",
       "    </tr>\n",
       "    <tr>\n",
       "      <th>9017</th>\n",
       "      <td>2023-11-11 19:00:00+01</td>\n",
       "      <td>2023-11-11 18:00:00+00:00</td>\n",
       "      <td>2023-11-11</td>\n",
       "      <td>11</td>\n",
       "      <td>11</td>\n",
       "      <td>2023</td>\n",
       "      <td>19</td>\n",
       "      <td>5</td>\n",
       "      <td>124.47</td>\n",
       "      <td>123.58</td>\n",
       "      <td>...</td>\n",
       "      <td>8844.4</td>\n",
       "      <td>7268.6</td>\n",
       "      <td>58571.0</td>\n",
       "      <td>63410.5</td>\n",
       "      <td>604.6600</td>\n",
       "      <td>1353.7825</td>\n",
       "      <td>13020.1300</td>\n",
       "      <td>15818.6625</td>\n",
       "      <td>0.0</td>\n",
       "      <td>0.0</td>\n",
       "    </tr>\n",
       "    <tr>\n",
       "      <th>9018</th>\n",
       "      <td>2023-11-11 20:00:00+01</td>\n",
       "      <td>2023-11-11 19:00:00+00:00</td>\n",
       "      <td>2023-11-11</td>\n",
       "      <td>11</td>\n",
       "      <td>11</td>\n",
       "      <td>2023</td>\n",
       "      <td>20</td>\n",
       "      <td>5</td>\n",
       "      <td>113.51</td>\n",
       "      <td>112.93</td>\n",
       "      <td>...</td>\n",
       "      <td>7819.3</td>\n",
       "      <td>6770.3</td>\n",
       "      <td>57140.0</td>\n",
       "      <td>61559.0</td>\n",
       "      <td>562.8825</td>\n",
       "      <td>1213.2200</td>\n",
       "      <td>12936.2600</td>\n",
       "      <td>15185.0900</td>\n",
       "      <td>0.0</td>\n",
       "      <td>0.0</td>\n",
       "    </tr>\n",
       "    <tr>\n",
       "      <th>9019</th>\n",
       "      <td>2023-11-11 21:00:00+01</td>\n",
       "      <td>2023-11-11 20:00:00+00:00</td>\n",
       "      <td>2023-11-11</td>\n",
       "      <td>11</td>\n",
       "      <td>11</td>\n",
       "      <td>2023</td>\n",
       "      <td>21</td>\n",
       "      <td>5</td>\n",
       "      <td>102.58</td>\n",
       "      <td>105.10</td>\n",
       "      <td>...</td>\n",
       "      <td>7267.9</td>\n",
       "      <td>6173.9</td>\n",
       "      <td>56443.0</td>\n",
       "      <td>59780.5</td>\n",
       "      <td>491.2300</td>\n",
       "      <td>1110.4750</td>\n",
       "      <td>12595.2525</td>\n",
       "      <td>14189.9350</td>\n",
       "      <td>0.0</td>\n",
       "      <td>0.0</td>\n",
       "    </tr>\n",
       "    <tr>\n",
       "      <th>9020</th>\n",
       "      <td>2023-11-11 22:00:00+01</td>\n",
       "      <td>2023-11-11 21:00:00+00:00</td>\n",
       "      <td>2023-11-11</td>\n",
       "      <td>11</td>\n",
       "      <td>11</td>\n",
       "      <td>2023</td>\n",
       "      <td>22</td>\n",
       "      <td>5</td>\n",
       "      <td>92.38</td>\n",
       "      <td>103.97</td>\n",
       "      <td>...</td>\n",
       "      <td>7076.6</td>\n",
       "      <td>5898.0</td>\n",
       "      <td>56775.5</td>\n",
       "      <td>58930.5</td>\n",
       "      <td>425.3300</td>\n",
       "      <td>1046.8000</td>\n",
       "      <td>12039.9400</td>\n",
       "      <td>13123.5375</td>\n",
       "      <td>0.0</td>\n",
       "      <td>0.0</td>\n",
       "    </tr>\n",
       "    <tr>\n",
       "      <th>9021</th>\n",
       "      <td>2023-11-11 23:00:00+01</td>\n",
       "      <td>2023-11-11 22:00:00+00:00</td>\n",
       "      <td>2023-11-11</td>\n",
       "      <td>11</td>\n",
       "      <td>11</td>\n",
       "      <td>2023</td>\n",
       "      <td>23</td>\n",
       "      <td>5</td>\n",
       "      <td>87.41</td>\n",
       "      <td>93.20</td>\n",
       "      <td>...</td>\n",
       "      <td>6655.5</td>\n",
       "      <td>5189.3</td>\n",
       "      <td>57730.5</td>\n",
       "      <td>57284.0</td>\n",
       "      <td>356.4900</td>\n",
       "      <td>1015.6700</td>\n",
       "      <td>11257.7725</td>\n",
       "      <td>12409.1350</td>\n",
       "      <td>0.0</td>\n",
       "      <td>0.0</td>\n",
       "    </tr>\n",
       "  </tbody>\n",
       "</table>\n",
       "<p>9022 rows × 47 columns</p>\n",
       "</div>"
      ],
      "text/plain": [
       "                    datetime               datetime_utc        date  day  \\\n",
       "0     2022-11-01 00:00:00+01  2022-10-31 23:00:00+00:00  2022-11-01    1   \n",
       "1     2022-11-01 01:00:00+01  2022-11-01 00:00:00+00:00  2022-11-01    1   \n",
       "2     2022-11-01 02:00:00+01  2022-11-01 01:00:00+00:00  2022-11-01    1   \n",
       "3     2022-11-01 03:00:00+01  2022-11-01 02:00:00+00:00  2022-11-01    1   \n",
       "4     2022-11-01 04:00:00+01  2022-11-01 03:00:00+00:00  2022-11-01    1   \n",
       "...                      ...                        ...         ...  ...   \n",
       "9017  2023-11-11 19:00:00+01  2023-11-11 18:00:00+00:00  2023-11-11   11   \n",
       "9018  2023-11-11 20:00:00+01  2023-11-11 19:00:00+00:00  2023-11-11   11   \n",
       "9019  2023-11-11 21:00:00+01  2023-11-11 20:00:00+00:00  2023-11-11   11   \n",
       "9020  2023-11-11 22:00:00+01  2023-11-11 21:00:00+00:00  2023-11-11   11   \n",
       "9021  2023-11-11 23:00:00+01  2023-11-11 22:00:00+00:00  2023-11-11   11   \n",
       "\n",
       "      month  year  hour_index  day_of_week  price_de  price_de_lag_24  ...  \\\n",
       "0        11  2022           0            1     80.65           129.38  ...   \n",
       "1        11  2022           1            1     76.68           119.09  ...   \n",
       "2        11  2022           2            1     55.26           116.32  ...   \n",
       "3        11  2022           3            1     37.00           114.60  ...   \n",
       "4        11  2022           4            1     38.76           115.07  ...   \n",
       "...     ...   ...         ...          ...       ...              ...  ...   \n",
       "9017     11  2023          19            5    124.47           123.58  ...   \n",
       "9018     11  2023          20            5    113.51           112.93  ...   \n",
       "9019     11  2023          21            5    102.58           105.10  ...   \n",
       "9020     11  2023          22            5     92.38           103.97  ...   \n",
       "9021     11  2023          23            5     87.41            93.20  ...   \n",
       "\n",
       "      gen_at  gen_at_lag_24   gen_fr  gen_fr_lag_24  windoff_de  \\\n",
       "0     4079.2         2991.0  40284.0        36238.0   5331.8525   \n",
       "1     4027.1         2942.3  39246.0        36353.5   5206.9600   \n",
       "2     3933.9         2940.3  39366.5        36030.0   5295.7975   \n",
       "3     3766.6         2869.9  37003.5        35798.5   5410.9475   \n",
       "4     3585.8         2988.1  34949.5        36479.0   5552.2900   \n",
       "...      ...            ...      ...            ...         ...   \n",
       "9017  8844.4         7268.6  58571.0        63410.5    604.6600   \n",
       "9018  7819.3         6770.3  57140.0        61559.0    562.8825   \n",
       "9019  7267.9         6173.9  56443.0        59780.5    491.2300   \n",
       "9020  7076.6         5898.0  56775.5        58930.5    425.3300   \n",
       "9021  6655.5         5189.3  57730.5        57284.0    356.4900   \n",
       "\n",
       "      windoff_de_lag_24   windon_de  windon_de_lag_24  solar_de  \\\n",
       "0             2384.8325  16063.7425         6744.5025       0.0   \n",
       "1             2536.8800  16839.0400         6414.3500       0.0   \n",
       "2             2461.7675  17616.8775         5744.3775       0.0   \n",
       "3             2317.1050  17984.3850         5127.0875       0.0   \n",
       "4             2176.6850  18902.0375         4400.1125       0.0   \n",
       "...                 ...         ...               ...       ...   \n",
       "9017          1353.7825  13020.1300        15818.6625       0.0   \n",
       "9018          1213.2200  12936.2600        15185.0900       0.0   \n",
       "9019          1110.4750  12595.2525        14189.9350       0.0   \n",
       "9020          1046.8000  12039.9400        13123.5375       0.0   \n",
       "9021          1015.6700  11257.7725        12409.1350       0.0   \n",
       "\n",
       "      solar_de_lag_24  \n",
       "0                 0.0  \n",
       "1                 0.0  \n",
       "2                 0.0  \n",
       "3                 0.0  \n",
       "4                 0.0  \n",
       "...               ...  \n",
       "9017              0.0  \n",
       "9018              0.0  \n",
       "9019              0.0  \n",
       "9020              0.0  \n",
       "9021              0.0  \n",
       "\n",
       "[9022 rows x 47 columns]"
      ]
     },
     "execution_count": 34,
     "metadata": {},
     "output_type": "execute_result"
    }
   ],
   "source": [
    "df_elec"
   ]
  },
  {
   "cell_type": "code",
   "execution_count": 30,
   "metadata": {},
   "outputs": [
    {
     "name": "stdout",
     "output_type": "stream",
     "text": [
      "<class 'pandas.core.frame.DataFrame'>\n",
      "RangeIndex: 9022 entries, 0 to 9021\n",
      "Data columns (total 47 columns):\n",
      " #   Column             Non-Null Count  Dtype  \n",
      "---  ------             --------------  -----  \n",
      " 0   datetime           9022 non-null   object \n",
      " 1   datetime_utc       9022 non-null   object \n",
      " 2   date               9022 non-null   object \n",
      " 3   day                9022 non-null   int64  \n",
      " 4   month              9022 non-null   int64  \n",
      " 5   year               9022 non-null   int64  \n",
      " 6   hour_index         9022 non-null   int64  \n",
      " 7   day_of_week        9022 non-null   int64  \n",
      " 8   price_de           9022 non-null   float64\n",
      " 9   price_de_lag_24    9022 non-null   float64\n",
      " 10  price_de_lag_48    9022 non-null   float64\n",
      " 11  price_de_lag_168   9022 non-null   float64\n",
      " 12  price_de_lag_336   9022 non-null   float64\n",
      " 13  price_de_avg_24    9022 non-null   float64\n",
      " 14  price_de_avg_168   9022 non-null   float64\n",
      " 15  price_at           9022 non-null   float64\n",
      " 16  price_at_lag_24    9022 non-null   float64\n",
      " 17  price_at_avg_24    9022 non-null   float64\n",
      " 18  price_at_avg_168   9022 non-null   float64\n",
      " 19  price_fr           9022 non-null   float64\n",
      " 20  price_fr_lag_24    9022 non-null   float64\n",
      " 21  price_fr_avg_24    9022 non-null   float64\n",
      " 22  price_fr_avg_168   9022 non-null   float64\n",
      " 23  load_de            9022 non-null   float64\n",
      " 24  load_de_lag_24     9022 non-null   float64\n",
      " 25  load_de_lag_48     9022 non-null   float64\n",
      " 26  load_de_lag_168    9022 non-null   float64\n",
      " 27  load_de_lag_336    9022 non-null   float64\n",
      " 28  load_at            9022 non-null   float64\n",
      " 29  load_at_lag_24     9022 non-null   float64\n",
      " 30  load_fr            9022 non-null   float64\n",
      " 31  load_fr_lag_24     9022 non-null   float64\n",
      " 32  gen_de             9022 non-null   float64\n",
      " 33  gen_de_lag_24      9022 non-null   float64\n",
      " 34  gen_de_lag_48      9022 non-null   float64\n",
      " 35  gen_de_lag_168     9022 non-null   float64\n",
      " 36  gen_de_lag_336     9022 non-null   float64\n",
      " 37  gen_at             9022 non-null   float64\n",
      " 38  gen_at_lag_24      9022 non-null   float64\n",
      " 39  gen_fr             9022 non-null   float64\n",
      " 40  gen_fr_lag_24      9022 non-null   float64\n",
      " 41  windoff_de         9022 non-null   float64\n",
      " 42  windoff_de_lag_24  9022 non-null   float64\n",
      " 43  windon_de          9022 non-null   float64\n",
      " 44  windon_de_lag_24   9022 non-null   float64\n",
      " 45  solar_de           9022 non-null   float64\n",
      " 46  solar_de_lag_24    9022 non-null   float64\n",
      "dtypes: float64(39), int64(5), object(3)\n",
      "memory usage: 3.2+ MB\n"
     ]
    }
   ],
   "source": [
    "df_elec.info()"
   ]
  },
  {
   "cell_type": "code",
   "execution_count": 20,
   "metadata": {},
   "outputs": [
    {
     "data": {
      "text/plain": [
       "count    9022.000000\n",
       "mean      116.178302\n",
       "std        81.735489\n",
       "min      -500.000000\n",
       "25%        80.292500\n",
       "50%       102.995000\n",
       "75%       135.192500\n",
       "max       665.010000\n",
       "Name: price_de, dtype: float64"
      ]
     },
     "execution_count": 20,
     "metadata": {},
     "output_type": "execute_result"
    }
   ],
   "source": [
    "df_elec['price_de'].describe()"
   ]
  },
  {
   "cell_type": "code",
   "execution_count": 21,
   "metadata": {},
   "outputs": [
    {
     "data": {
      "text/plain": [
       "count    9022.000000\n",
       "mean      126.321331\n",
       "std        80.809788\n",
       "min      -500.000000\n",
       "25%        87.030000\n",
       "50%       109.990000\n",
       "75%       145.460000\n",
       "max       665.010000\n",
       "Name: price_at, dtype: float64"
      ]
     },
     "execution_count": 21,
     "metadata": {},
     "output_type": "execute_result"
    }
   ],
   "source": [
    "df_elec['price_at'].describe()"
   ]
  },
  {
   "cell_type": "code",
   "execution_count": 22,
   "metadata": {},
   "outputs": [
    {
     "data": {
      "text/plain": [
       "count    9022.000000\n",
       "mean      120.953198\n",
       "std        84.157958\n",
       "min      -134.940000\n",
       "25%        80.342500\n",
       "50%       104.535000\n",
       "75%       140.955000\n",
       "max       753.000000\n",
       "Name: price_fr, dtype: float64"
      ]
     },
     "execution_count": 22,
     "metadata": {},
     "output_type": "execute_result"
    }
   ],
   "source": [
    "df_elec['price_fr'].describe()"
   ]
  },
  {
   "cell_type": "code",
   "execution_count": 24,
   "metadata": {},
   "outputs": [
    {
     "data": {
      "text/plain": [
       "count     9022.000000\n",
       "mean     53550.607719\n",
       "std       9434.099212\n",
       "min      30852.302500\n",
       "25%      45996.993125\n",
       "50%      53615.243750\n",
       "75%      60704.920625\n",
       "max      74109.175000\n",
       "Name: load_de, dtype: float64"
      ]
     },
     "execution_count": 24,
     "metadata": {},
     "output_type": "execute_result"
    }
   ],
   "source": [
    "df_elec['load_de'].describe()"
   ]
  },
  {
   "cell_type": "code",
   "execution_count": 25,
   "metadata": {},
   "outputs": [
    {
     "data": {
      "text/plain": [
       "count    9022.000000\n",
       "mean     6647.677012\n",
       "std      1238.682559\n",
       "min      4031.000000\n",
       "25%      5638.000000\n",
       "50%      6642.000000\n",
       "75%      7458.000000\n",
       "max      9721.000000\n",
       "Name: load_at, dtype: float64"
      ]
     },
     "execution_count": 25,
     "metadata": {},
     "output_type": "execute_result"
    }
   ],
   "source": [
    "df_elec['load_at'].describe()"
   ]
  },
  {
   "cell_type": "code",
   "execution_count": 26,
   "metadata": {},
   "outputs": [
    {
     "data": {
      "text/plain": [
       "count     9022.000000\n",
       "mean     48695.479605\n",
       "std      10595.884856\n",
       "min      27650.000000\n",
       "25%      41000.000000\n",
       "50%      46950.000000\n",
       "75%      54500.000000\n",
       "max      82650.000000\n",
       "Name: load_fr, dtype: float64"
      ]
     },
     "execution_count": 26,
     "metadata": {},
     "output_type": "execute_result"
    }
   ],
   "source": [
    "df_elec['load_fr'].describe()"
   ]
  },
  {
   "cell_type": "code",
   "execution_count": 27,
   "metadata": {},
   "outputs": [
    {
     "data": {
      "text/plain": [
       "count     9022.000000\n",
       "mean     51524.085071\n",
       "std      12145.087168\n",
       "min      20071.640000\n",
       "25%      42771.382500\n",
       "50%      52026.570000\n",
       "75%      60546.645000\n",
       "max      87192.400000\n",
       "Name: gen_de, dtype: float64"
      ]
     },
     "execution_count": 27,
     "metadata": {},
     "output_type": "execute_result"
    }
   ],
   "source": [
    "df_elec['gen_de'].describe()"
   ]
  },
  {
   "cell_type": "code",
   "execution_count": 28,
   "metadata": {},
   "outputs": [
    {
     "data": {
      "text/plain": [
       "count     9022.000000\n",
       "mean      5984.557803\n",
       "std       1641.248734\n",
       "min          0.000000\n",
       "25%       4787.300000\n",
       "50%       5792.500000\n",
       "75%       7036.725000\n",
       "max      11721.000000\n",
       "Name: gen_at, dtype: float64"
      ]
     },
     "execution_count": 28,
     "metadata": {},
     "output_type": "execute_result"
    }
   ],
   "source": [
    "df_elec['gen_at'].describe()"
   ]
  },
  {
   "cell_type": "code",
   "execution_count": 29,
   "metadata": {},
   "outputs": [
    {
     "data": {
      "text/plain": [
       "count     9022.000000\n",
       "mean     51109.544779\n",
       "std       7218.835689\n",
       "min      32064.000000\n",
       "25%      46195.500000\n",
       "50%      50291.500000\n",
       "75%      54995.875000\n",
       "max      76870.000000\n",
       "Name: gen_fr, dtype: float64"
      ]
     },
     "execution_count": 29,
     "metadata": {},
     "output_type": "execute_result"
    }
   ],
   "source": [
    "df_elec['gen_fr'].describe()"
   ]
  },
  {
   "cell_type": "code",
   "execution_count": 31,
   "metadata": {},
   "outputs": [
    {
     "data": {
      "text/plain": [
       "count    9022.000000\n",
       "mean     2707.849995\n",
       "std      1745.333771\n",
       "min        35.667500\n",
       "25%      1053.775000\n",
       "50%      2614.428750\n",
       "75%      4280.626250\n",
       "max      6436.207500\n",
       "Name: windoff_de, dtype: float64"
      ]
     },
     "execution_count": 31,
     "metadata": {},
     "output_type": "execute_result"
    }
   ],
   "source": [
    "df_elec['windoff_de'].describe()"
   ]
  },
  {
   "cell_type": "code",
   "execution_count": 32,
   "metadata": {},
   "outputs": [
    {
     "data": {
      "text/plain": [
       "count     9022.000000\n",
       "mean     12718.298189\n",
       "std       9608.129376\n",
       "min        207.192500\n",
       "25%       4759.223750\n",
       "50%      10199.711250\n",
       "75%      18561.564375\n",
       "max      43148.832500\n",
       "Name: windon_de, dtype: float64"
      ]
     },
     "execution_count": 32,
     "metadata": {},
     "output_type": "execute_result"
    }
   ],
   "source": [
    "df_elec['windon_de'].describe()"
   ]
  },
  {
   "cell_type": "code",
   "execution_count": 33,
   "metadata": {},
   "outputs": [
    {
     "data": {
      "text/plain": [
       "count     9022.000000\n",
       "mean      6310.253393\n",
       "std       9781.155145\n",
       "min          0.000000\n",
       "25%          0.000000\n",
       "50%        218.741250\n",
       "75%       9807.117500\n",
       "max      41518.442500\n",
       "Name: solar_de, dtype: float64"
      ]
     },
     "execution_count": 33,
     "metadata": {},
     "output_type": "execute_result"
    }
   ],
   "source": [
    "df_elec['solar_de'].describe()"
   ]
  },
  {
   "cell_type": "code",
   "execution_count": 40,
   "metadata": {},
   "outputs": [
    {
     "name": "stderr",
     "output_type": "stream",
     "text": [
      "C:\\Users\\sonng\\AppData\\Local\\Temp\\ipykernel_25496\\1681383372.py:7: FutureWarning: The default value of numeric_only in DataFrame.corr is deprecated. In a future version, it will default to False. Select only valid columns or specify the value of numeric_only to silence this warning.\n",
      "  corr_matrix = df_elec.corr()\n"
     ]
    },
    {
     "data": {
      "image/png": "[encoded data removed]",
      "text/plain": [
       "<Figure size 1500x1000 with 2 Axes>"
      ]
     },
     "metadata": {},
     "output_type": "display_data"
    }
   ],
   "source": [
    "import pandas as pd\n",
    "import seaborn as sns\n",
    "import matplotlib.pyplot as plt\n",
    "\n",
    "# Assuming 'df' is your DataFrame\n",
    "# Calculate pairwise correlation\n",
    "corr_matrix = df_elec.corr()\n",
    "\n",
    "# Sort based on correlation with German electricity price\n",
    "# Replace 'german_price' with the actual column name of the German electricity price\n",
    "sorted_corr = corr_matrix.sort_values(by='price_de', axis=0, ascending=False)\n",
    "sorted_corr = sorted_corr.sort_values(by='price_de', axis=1, ascending=False)\n",
    "\n",
    "# Plot heatmap\n",
    "plt.figure(figsize=(15, 10))\n",
    "sns.heatmap(sorted_corr, annot=False, cmap='coolwarm')\n",
    "# plt.title('Correlation Heatmap Sorted by German Electricity Price Correlation')\n",
    "plt.show()"
   ]
  },
  {
   "cell_type": "code",
   "execution_count": null,
   "metadata": {},
   "outputs": [],
   "source": []
  }
 ],
 "metadata": {
  "kernelspec": {
   "display_name": "tsff_env",
   "language": "python",
   "name": "python3"
  },
  "language_info": {
   "codemirror_mode": {
    "name": "ipython",
    "version": 3
   },
   "file_extension": ".py",
   "mimetype": "text/x-python",
   "name": "python",
   "nbconvert_exporter": "python",
   "pygments_lexer": "ipython3",
   "version": "3.9.0"
  }
 },
 "nbformat": 4,
 "nbformat_minor": 2
}
