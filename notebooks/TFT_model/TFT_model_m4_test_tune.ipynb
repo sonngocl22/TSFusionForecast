{
 "cells": [
  {
   "cell_type": "code",
   "execution_count": 1,
   "metadata": {},
   "outputs": [
    {
     "name": "stderr",
     "output_type": "stream",
     "text": [
      "c:\\Users\\sonng\\anaconda3\\envs\\tsff_env\\lib\\site-packages\\pytorch_forecasting\\models\\base_model.py:30: TqdmWarning: IProgress not found. Please update jupyter and ipywidgets. See https://ipywidgets.readthedocs.io/en/stable/user_install.html\n",
      "  from tqdm.autonotebook import tqdm\n"
     ]
    }
   ],
   "source": [
    "import lightning.pytorch as pl\n",
    "from lightning.pytorch.callbacks import EarlyStopping, LearningRateMonitor\n",
    "from lightning.pytorch.loggers import TensorBoardLogger\n",
    "\n",
    "# import os\n",
    "# os.environ['PYTORCH_CUDA_ALLOC_CONF'] = \"max_split_size_mb:128\"\n",
    "import torch\n",
    "import numpy as np\n",
    "import pandas as pd\n",
    "import pickle\n",
    "\n",
    "from pytorch_forecasting import Baseline, TemporalFusionTransformer, TimeSeriesDataSet\n",
    "from pytorch_forecasting.data import GroupNormalizer\n",
    "from pytorch_forecasting.metrics import MAE, SMAPE, PoissonLoss, QuantileLoss\n",
    "from pytorch_forecasting.models.temporal_fusion_transformer.tuning import optimize_hyperparameters"
   ]
  },
  {
   "cell_type": "code",
   "execution_count": 2,
   "metadata": {},
   "outputs": [],
   "source": [
    "from ESRNN.m4_data import *\n",
    "from ESRNN.utils_evaluation import evaluate_prediction_owa\n",
    "from ESRNN.utils_visualization import plot_grid_prediction"
   ]
  },
  {
   "cell_type": "code",
   "execution_count": 3,
   "metadata": {},
   "outputs": [
    {
     "name": "stdout",
     "output_type": "stream",
     "text": [
      "\n",
      "\n"
     ]
    }
   ],
   "source": [
    "X_train_df, y_train_df, X_test_df, y_test_df = prepare_m4_data(dataset_name=\"Hourly\",\n",
    "                                                               directory=\"../../data/M4\",\n",
    "                                                               num_obs=414)"
   ]
  },
  {
   "cell_type": "code",
   "execution_count": 4,
   "metadata": {},
   "outputs": [],
   "source": [
    "unique_ids = y_train_df['unique_id'].unique()"
   ]
  },
  {
   "cell_type": "code",
   "execution_count": 5,
   "metadata": {},
   "outputs": [],
   "source": [
    "all_forecasts = {}"
   ]
  },
  {
   "cell_type": "code",
   "execution_count": 6,
   "metadata": {},
   "outputs": [
    {
     "name": "stderr",
     "output_type": "stream",
     "text": [
      "Seed set to 42\n"
     ]
    },
    {
     "data": {
      "text/plain": [
       "42"
      ]
     },
     "execution_count": 6,
     "metadata": {},
     "output_type": "execute_result"
    }
   ],
   "source": [
    "pl.seed_everything(42)"
   ]
  },
  {
   "cell_type": "code",
   "execution_count": 7,
   "metadata": {},
   "outputs": [],
   "source": [
    "df_arima_train = pd.read_csv('../../results/m4/base_model_train_set/y_hat_df_arima_ts.csv')\n",
    "df_theta_train = pd.read_csv('../../results/m4/base_model_train_set/y_hat_df_theta_ts.csv')\n",
    "df_xgb_train = pd.read_csv('../../results/m4/base_model_train_set/y_hat_df_xgb_ts.csv')\n",
    "df_gru_train = pd.read_csv('../../results/m4/base_model_train_set/y_hat_df_gru_ts.csv')\n",
    "df_lstm_train = pd.read_csv('../../results/m4/base_model_train_set/y_hat_df_lstm_ts.csv')"
   ]
  },
  {
   "cell_type": "code",
   "execution_count": 8,
   "metadata": {},
   "outputs": [],
   "source": [
    "df_arima_test = pd.read_csv('../../results/m4/y_hat_df_arima.csv')\n",
    "df_theta_test = pd.read_csv('../../results/m4/y_hat_df_theta.csv')\n",
    "df_xgb_test = pd.read_csv('../../results/m4/y_hat_df_xgb.csv')\n",
    "df_gru_test = pd.read_csv('../../results/m4/y_hat_df_gru.csv')\n",
    "df_lstm_test = pd.read_csv('../../results/m4/y_hat_df_lstm.csv')"
   ]
  },
  {
   "cell_type": "code",
   "execution_count": 10,
   "metadata": {},
   "outputs": [
    {
     "name": "stderr",
     "output_type": "stream",
     "text": [
      "GPU available: True (cuda), used: True\n",
      "TPU available: False, using: 0 TPU cores\n",
      "IPU available: False, using: 0 IPUs\n",
      "HPU available: False, using: 0 HPUs\n"
     ]
    },
    {
     "name": "stdout",
     "output_type": "stream",
     "text": [
      "Currently training: H1\n"
     ]
    },
    {
     "name": "stderr",
     "output_type": "stream",
     "text": [
      "c:\\Users\\sonng\\anaconda3\\envs\\tsff_env\\lib\\site-packages\\lightning\\pytorch\\utilities\\parsing.py:198: Attribute 'loss' is an instance of `nn.Module` and is already saved during checkpointing. It is recommended to ignore them using `self.save_hyperparameters(ignore=['loss'])`.\n",
      "c:\\Users\\sonng\\anaconda3\\envs\\tsff_env\\lib\\site-packages\\lightning\\pytorch\\utilities\\parsing.py:198: Attribute 'logging_metrics' is an instance of `nn.Module` and is already saved during checkpointing. It is recommended to ignore them using `self.save_hyperparameters(ignore=['logging_metrics'])`.\n",
      "c:\\Users\\sonng\\anaconda3\\envs\\tsff_env\\lib\\site-packages\\lightning\\pytorch\\callbacks\\model_checkpoint.py:634: Checkpoint directory c:\\Users\\sonng\\Desktop\\Important Files - Sep 2023\\Hildesheim University - Masters in Data Analytics\\Master Thesis\\Code\\Git\\TSFusionForecast\\TSFusionForecast\\notebooks\\TFT_model\\checkpoints exists and is not empty.\n",
      "LOCAL_RANK: 0 - CUDA_VISIBLE_DEVICES: [0]\n"
     ]
    },
    {
     "name": "stdout",
     "output_type": "stream",
     "text": [
      "Sanity Checking DataLoader 0:   0%|          | 0/1 [00:00<?, ?it/s]"
     ]
    },
    {
     "name": "stderr",
     "output_type": "stream",
     "text": [
      "c:\\Users\\sonng\\anaconda3\\envs\\tsff_env\\lib\\site-packages\\lightning\\pytorch\\trainer\\connectors\\data_connector.py:441: The 'val_dataloader' does not have many workers which may be a bottleneck. Consider increasing the value of the `num_workers` argument` to `num_workers=15` in the `DataLoader` to improve performance.\n"
     ]
    },
    {
     "name": "stdout",
     "output_type": "stream",
     "text": [
      "                                                                           "
     ]
    },
    {
     "name": "stderr",
     "output_type": "stream",
     "text": [
      "c:\\Users\\sonng\\anaconda3\\envs\\tsff_env\\lib\\site-packages\\lightning\\pytorch\\trainer\\connectors\\data_connector.py:441: The 'train_dataloader' does not have many workers which may be a bottleneck. Consider increasing the value of the `num_workers` argument` to `num_workers=15` in the `DataLoader` to improve performance.\n"
     ]
    },
    {
     "name": "stdout",
     "output_type": "stream",
     "text": [
      "Epoch 53: 100%|██████████| 3/3 [00:01<00:00,  2.97it/s, train_loss_step=0.0283, val_loss=0.0908, train_loss_epoch=0.0295]\n"
     ]
    },
    {
     "name": "stderr",
     "output_type": "stream",
     "text": [
      "[I 2023-11-23 09:37:01,503] A new study created in memory with name: no-name-ba774e86-f50b-42fc-87a3-b784eeabd3d6\n",
      "c:\\Users\\sonng\\anaconda3\\envs\\tsff_env\\lib\\site-packages\\pytorch_forecasting\\models\\temporal_fusion_transformer\\tuning.py:124: FutureWarning: suggest_loguniform has been deprecated in v3.0.0. This feature will be removed in v6.0.0. See https://github.com/optuna/optuna/releases/tag/v3.0.0. Use suggest_float(..., log=True) instead.\n",
      "  gradient_clip_val = trial.suggest_loguniform(\"gradient_clip_val\", *gradient_clip_val_range)\n",
      "GPU available: True (cuda), used: True\n",
      "TPU available: False, using: 0 TPU cores\n",
      "IPU available: False, using: 0 IPUs\n",
      "HPU available: False, using: 0 HPUs\n",
      "c:\\Users\\sonng\\anaconda3\\envs\\tsff_env\\lib\\site-packages\\pytorch_forecasting\\models\\temporal_fusion_transformer\\tuning.py:148: FutureWarning: suggest_uniform has been deprecated in v3.0.0. This feature will be removed in v6.0.0. See https://github.com/optuna/optuna/releases/tag/v3.0.0. Use suggest_float instead.\n",
      "  dropout=trial.suggest_uniform(\"dropout\", *dropout_range),\n",
      "c:\\Users\\sonng\\anaconda3\\envs\\tsff_env\\lib\\site-packages\\pytorch_forecasting\\models\\temporal_fusion_transformer\\tuning.py:196: FutureWarning: suggest_loguniform has been deprecated in v3.0.0. This feature will be removed in v6.0.0. See https://github.com/optuna/optuna/releases/tag/v3.0.0. Use suggest_float(..., log=True) instead.\n",
      "  model.hparams.learning_rate = trial.suggest_loguniform(\"learning_rate\", *learning_rate_range)\n",
      "Exception in thread Thread-7:\n",
      "Traceback (most recent call last):\n",
      "  File \"c:\\Users\\sonng\\anaconda3\\envs\\tsff_env\\lib\\threading.py\", line 950, in _bootstrap_inner\n",
      "    self.run()\n",
      "  File \"c:\\Users\\sonng\\anaconda3\\envs\\tsff_env\\lib\\site-packages\\tensorboard\\summary\\writer\\event_file_writer.py\", line 244, in run\n",
      "    self._run()\n",
      "  File \"c:\\Users\\sonng\\anaconda3\\envs\\tsff_env\\lib\\site-packages\\tensorboard\\summary\\writer\\event_file_writer.py\", line 275, in _run\n",
      "    self._record_writer.write(data)\n",
      "  File \"c:\\Users\\sonng\\anaconda3\\envs\\tsff_env\\lib\\site-packages\\tensorboard\\summary\\writer\\record_writer.py\", line 40, in write\n",
      "    self._writer.write(header + header_crc + data + footer_crc)\n",
      "  File \"c:\\Users\\sonng\\anaconda3\\envs\\tsff_env\\lib\\site-packages\\tensorboard\\compat\\tensorflow_stub\\io\\gfile.py\", line 768, in write\n",
      "    self.fs.write(self.filename, file_content, self.binary_mode)\n",
      "  File \"c:\\Users\\sonng\\anaconda3\\envs\\tsff_env\\lib\\site-packages\\tensorboard\\compat\\tensorflow_stub\\io\\gfile.py\", line 157, in write\n",
      "[W 2023-11-23 09:37:01,625] Trial 0 failed with parameters: {'gradient_clip_val': 0.01259188986231801, 'hidden_size': 18, 'dropout': 0.2561601774616634, 'hidden_continuous_size': 8, 'attention_head_size': 2, 'learning_rate': 0.0012741620129696123} because of the following error: FileNotFoundError(2, 'No such file or directory').\n",
      "Traceback (most recent call last):\n",
      "  File \"c:\\Users\\sonng\\anaconda3\\envs\\tsff_env\\lib\\site-packages\\optuna\\study\\_optimize.py\", line 200, in _run_trial\n",
      "    value_or_values = func(trial)\n",
      "  File \"c:\\Users\\sonng\\anaconda3\\envs\\tsff_env\\lib\\site-packages\\pytorch_forecasting\\models\\temporal_fusion_transformer\\tuning.py\", line 199, in objective\n",
      "    trainer.fit(model, train_dataloaders=train_dataloaders, val_dataloaders=val_dataloaders)\n",
      "  File \"c:\\Users\\sonng\\anaconda3\\envs\\tsff_env\\lib\\site-packages\\lightning\\pytorch\\trainer\\trainer.py\", line 544, in fit\n",
      "    call._call_and_handle_interrupt(\n",
      "  File \"c:\\Users\\sonng\\anaconda3\\envs\\tsff_env\\lib\\site-packages\\lightning\\pytorch\\trainer\\call.py\", line 44, in _call_and_handle_interrupt\n",
      "    return trainer_fn(*args, **kwargs)\n",
      "  File \"c:\\Users\\sonng\\anaconda3\\envs\\tsff_env\\lib\\site-packages\\lightning\\pytorch\\trainer\\trainer.py\", line 580, in _fit_impl\n",
      "    self._run(model, ckpt_path=ckpt_path)\n",
      "  File \"c:\\Users\\sonng\\anaconda3\\envs\\tsff_env\\lib\\site-packages\\lightning\\pytorch\\trainer\\trainer.py\", line 950, in _run\n",
      "    call._call_setup_hook(self)  # allow user to setup lightning_module in accelerator environment\n",
      "  File \"c:\\Users\\sonng\\anaconda3\\envs\\tsff_env\\lib\\site-packages\\lightning\\pytorch\\trainer\\call.py\", line 86, in _call_setup_hook\n",
      "    if hasattr(logger, \"experiment\"):\n",
      "  File \"c:\\Users\\sonng\\anaconda3\\envs\\tsff_env\\lib\\site-packages\\lightning\\fabric\\loggers\\logger.py\", line 118, in experiment\n",
      "    return fn(self)\n",
      "  File \"c:\\Users\\sonng\\anaconda3\\envs\\tsff_env\\lib\\site-packages\\lightning\\fabric\\loggers\\tensorboard.py\", line 191, in experiment\n",
      "    self._experiment = SummaryWriter(log_dir=self.log_dir, **self._kwargs)\n",
      "  File \"c:\\Users\\sonng\\anaconda3\\envs\\tsff_env\\lib\\site-packages\\torch\\utils\\tensorboard\\writer.py\", line 243, in __init__\n",
      "    self._get_file_writer()\n",
      "  File \"c:\\Users\\sonng\\anaconda3\\envs\\tsff_env\\lib\\site-packages\\torch\\utils\\tensorboard\\writer.py\", line 273, in _get_file_writer\n",
      "    self.file_writer = FileWriter(\n",
      "  File \"c:\\Users\\sonng\\anaconda3\\envs\\tsff_env\\lib\\site-packages\\torch\\utils\\tensorboard\\writer.py\", line 72, in __init__\n",
      "    self.event_writer = EventFileWriter(\n",
      "  File \"c:\\Users\\sonng\\anaconda3\\envs\\tsff_env\\lib\\site-packages\\tensorboard\\summary\\writer\\event_file_writer.py\", line 100, in __init__\n",
      "    self.flush()\n",
      "  File \"c:\\Users\\sonng\\anaconda3\\envs\\tsff_env\\lib\\site-packages\\tensorboard\\summary\\writer\\event_file_writer.py\", line 125, in flush\n",
      "    self._async_writer.flush()\n",
      "  File \"c:\\Users\\sonng\\anaconda3\\envs\\tsff_env\\lib\\site-packages\\tensorboard\\summary\\writer\\event_file_writer.py\", line 194, in flush\n",
      "    self._check_worker_status()\n",
      "  File \"c:\\Users\\sonng\\anaconda3\\envs\\tsff_env\\lib\\site-packages\\tensorboard\\summary\\writer\\event_file_writer.py\", line 212, in _check_worker_status\n",
      "    raise exception\n",
      "  File \"c:\\Users\\sonng\\anaconda3\\envs\\tsff_env\\lib\\threading.py\", line 950, in _bootstrap_inner\n",
      "    self.run()\n",
      "  File \"c:\\Users\\sonng\\anaconda3\\envs\\tsff_env\\lib\\site-packages\\tensorboard\\summary\\writer\\event_file_writer.py\", line 244, in run\n",
      "    self._run()\n",
      "  File \"c:\\Users\\sonng\\anaconda3\\envs\\tsff_env\\lib\\site-packages\\tensorboard\\summary\\writer\\event_file_writer.py\", line 275, in _run\n",
      "    self._record_writer.write(data)\n",
      "  File \"c:\\Users\\sonng\\anaconda3\\envs\\tsff_env\\lib\\site-packages\\tensorboard\\summary\\writer\\record_writer.py\", line 40, in write\n",
      "    self._writer.write(header + header_crc + data + footer_crc)\n",
      "  File \"c:\\Users\\sonng\\anaconda3\\envs\\tsff_env\\lib\\site-packages\\tensorboard\\compat\\tensorflow_stub\\io\\gfile.py\", line 768, in write\n",
      "    self.fs.write(self.filename, file_content, self.binary_mode)\n",
      "  File \"c:\\Users\\sonng\\anaconda3\\envs\\tsff_env\\lib\\site-packages\\tensorboard\\compat\\tensorflow_stub\\io\\gfile.py\", line 157, in write\n",
      "    self._write(filename, file_content, \"wb\" if binary_mode else \"w\")\n",
      "  File \"c:\\Users\\sonng\\anaconda3\\envs\\tsff_env\\lib\\site-packages\\tensorboard\\compat\\tensorflow_stub\\io\\gfile.py\", line 171, in _write\n",
      "    with io.open(filename, mode, encoding=encoding) as f:\n",
      "FileNotFoundError: [Errno 2] No such file or directory: b'lightning_logs\\\\optuna\\\\version_0\\\\events.out.tfevents.1700728621.DESKTOP-58R1CDK.52884.1'\n",
      "    self._write(filename, file_content, \"wb\" if binary_mode else \"w\")\n",
      "  File \"c:\\Users\\sonng\\anaconda3\\envs\\tsff_env\\lib\\site-packages\\tensorboard\\compat\\tensorflow_stub\\io\\gfile.py\", line 171, in _write\n",
      "[W 2023-11-23 09:37:01,629] Trial 0 failed with value None.\n",
      "    with io.open(filename, mode, encoding=encoding) as f:\n",
      "FileNotFoundError: [Errno 2] No such file or directory: b'lightning_logs\\\\optuna\\\\version_0\\\\events.out.tfevents.1700728621.DESKTOP-58R1CDK.52884.1'\n"
     ]
    },
    {
     "ename": "FileNotFoundError",
     "evalue": "[Errno 2] No such file or directory: b'lightning_logs\\\\optuna\\\\version_0\\\\events.out.tfevents.1700728621.DESKTOP-58R1CDK.52884.1'",
     "output_type": "error",
     "traceback": [
      "\u001b[1;31m---------------------------------------------------------------------------\u001b[0m",
      "\u001b[1;31mFileNotFoundError\u001b[0m                         Traceback (most recent call last)",
      "\u001b[1;32mc:\\Users\\sonng\\Desktop\\Important Files - Sep 2023\\Hildesheim University - Masters in Data Analytics\\Master Thesis\\Code\\Git\\TSFusionForecast\\TSFusionForecast\\notebooks\\TFT_model\\TFT_model_m4_test_tune.ipynb Cell 9\u001b[0m line \u001b[0;36m1\n\u001b[0;32m    <a href='vscode-notebook-cell:/c%3A/Users/sonng/Desktop/Important%20Files%20-%20Sep%202023/Hildesheim%20University%20-%20Masters%20in%20Data%20Analytics/Master%20Thesis/Code/Git/TSFusionForecast/TSFusionForecast/notebooks/TFT_model/TFT_model_m4_test_tune.ipynb#X11sZmlsZQ%3D%3D?line=127'>128</a>\u001b[0m trainer\u001b[39m.\u001b[39mfit(\n\u001b[0;32m    <a href='vscode-notebook-cell:/c%3A/Users/sonng/Desktop/Important%20Files%20-%20Sep%202023/Hildesheim%20University%20-%20Masters%20in%20Data%20Analytics/Master%20Thesis/Code/Git/TSFusionForecast/TSFusionForecast/notebooks/TFT_model/TFT_model_m4_test_tune.ipynb#X11sZmlsZQ%3D%3D?line=128'>129</a>\u001b[0m tft,\n\u001b[0;32m    <a href='vscode-notebook-cell:/c%3A/Users/sonng/Desktop/Important%20Files%20-%20Sep%202023/Hildesheim%20University%20-%20Masters%20in%20Data%20Analytics/Master%20Thesis/Code/Git/TSFusionForecast/TSFusionForecast/notebooks/TFT_model/TFT_model_m4_test_tune.ipynb#X11sZmlsZQ%3D%3D?line=129'>130</a>\u001b[0m train_dataloaders\u001b[39m=\u001b[39mtrain_dataloader,\n\u001b[0;32m    <a href='vscode-notebook-cell:/c%3A/Users/sonng/Desktop/Important%20Files%20-%20Sep%202023/Hildesheim%20University%20-%20Masters%20in%20Data%20Analytics/Master%20Thesis/Code/Git/TSFusionForecast/TSFusionForecast/notebooks/TFT_model/TFT_model_m4_test_tune.ipynb#X11sZmlsZQ%3D%3D?line=130'>131</a>\u001b[0m val_dataloaders\u001b[39m=\u001b[39mval_dataloader,\n\u001b[0;32m    <a href='vscode-notebook-cell:/c%3A/Users/sonng/Desktop/Important%20Files%20-%20Sep%202023/Hildesheim%20University%20-%20Masters%20in%20Data%20Analytics/Master%20Thesis/Code/Git/TSFusionForecast/TSFusionForecast/notebooks/TFT_model/TFT_model_m4_test_tune.ipynb#X11sZmlsZQ%3D%3D?line=131'>132</a>\u001b[0m )\n\u001b[0;32m    <a href='vscode-notebook-cell:/c%3A/Users/sonng/Desktop/Important%20Files%20-%20Sep%202023/Hildesheim%20University%20-%20Masters%20in%20Data%20Analytics/Master%20Thesis/Code/Git/TSFusionForecast/TSFusionForecast/notebooks/TFT_model/TFT_model_m4_test_tune.ipynb#X11sZmlsZQ%3D%3D?line=134'>135</a>\u001b[0m \u001b[39m### TUNING\u001b[39;00m\n\u001b[1;32m--> <a href='vscode-notebook-cell:/c%3A/Users/sonng/Desktop/Important%20Files%20-%20Sep%202023/Hildesheim%20University%20-%20Masters%20in%20Data%20Analytics/Master%20Thesis/Code/Git/TSFusionForecast/TSFusionForecast/notebooks/TFT_model/TFT_model_m4_test_tune.ipynb#X11sZmlsZQ%3D%3D?line=135'>136</a>\u001b[0m study \u001b[39m=\u001b[39m optimize_hyperparameters(\n\u001b[0;32m    <a href='vscode-notebook-cell:/c%3A/Users/sonng/Desktop/Important%20Files%20-%20Sep%202023/Hildesheim%20University%20-%20Masters%20in%20Data%20Analytics/Master%20Thesis/Code/Git/TSFusionForecast/TSFusionForecast/notebooks/TFT_model/TFT_model_m4_test_tune.ipynb#X11sZmlsZQ%3D%3D?line=136'>137</a>\u001b[0m     train_dataloader,\n\u001b[0;32m    <a href='vscode-notebook-cell:/c%3A/Users/sonng/Desktop/Important%20Files%20-%20Sep%202023/Hildesheim%20University%20-%20Masters%20in%20Data%20Analytics/Master%20Thesis/Code/Git/TSFusionForecast/TSFusionForecast/notebooks/TFT_model/TFT_model_m4_test_tune.ipynb#X11sZmlsZQ%3D%3D?line=137'>138</a>\u001b[0m     val_dataloader,\n\u001b[0;32m    <a href='vscode-notebook-cell:/c%3A/Users/sonng/Desktop/Important%20Files%20-%20Sep%202023/Hildesheim%20University%20-%20Masters%20in%20Data%20Analytics/Master%20Thesis/Code/Git/TSFusionForecast/TSFusionForecast/notebooks/TFT_model/TFT_model_m4_test_tune.ipynb#X11sZmlsZQ%3D%3D?line=138'>139</a>\u001b[0m     model_path\u001b[39m=\u001b[39;49m\u001b[39m\"\u001b[39;49m\u001b[39moptuna_test\u001b[39;49m\u001b[39m\"\u001b[39;49m,\n\u001b[0;32m    <a href='vscode-notebook-cell:/c%3A/Users/sonng/Desktop/Important%20Files%20-%20Sep%202023/Hildesheim%20University%20-%20Masters%20in%20Data%20Analytics/Master%20Thesis/Code/Git/TSFusionForecast/TSFusionForecast/notebooks/TFT_model/TFT_model_m4_test_tune.ipynb#X11sZmlsZQ%3D%3D?line=139'>140</a>\u001b[0m     n_trials\u001b[39m=\u001b[39;49m\u001b[39m200\u001b[39;49m,\n\u001b[0;32m    <a href='vscode-notebook-cell:/c%3A/Users/sonng/Desktop/Important%20Files%20-%20Sep%202023/Hildesheim%20University%20-%20Masters%20in%20Data%20Analytics/Master%20Thesis/Code/Git/TSFusionForecast/TSFusionForecast/notebooks/TFT_model/TFT_model_m4_test_tune.ipynb#X11sZmlsZQ%3D%3D?line=140'>141</a>\u001b[0m     max_epochs\u001b[39m=\u001b[39;49m\u001b[39m50\u001b[39;49m,\n\u001b[0;32m    <a href='vscode-notebook-cell:/c%3A/Users/sonng/Desktop/Important%20Files%20-%20Sep%202023/Hildesheim%20University%20-%20Masters%20in%20Data%20Analytics/Master%20Thesis/Code/Git/TSFusionForecast/TSFusionForecast/notebooks/TFT_model/TFT_model_m4_test_tune.ipynb#X11sZmlsZQ%3D%3D?line=141'>142</a>\u001b[0m     gradient_clip_val_range\u001b[39m=\u001b[39;49m(\u001b[39m0.01\u001b[39;49m, \u001b[39m1.0\u001b[39;49m),\n\u001b[0;32m    <a href='vscode-notebook-cell:/c%3A/Users/sonng/Desktop/Important%20Files%20-%20Sep%202023/Hildesheim%20University%20-%20Masters%20in%20Data%20Analytics/Master%20Thesis/Code/Git/TSFusionForecast/TSFusionForecast/notebooks/TFT_model/TFT_model_m4_test_tune.ipynb#X11sZmlsZQ%3D%3D?line=142'>143</a>\u001b[0m     hidden_size_range\u001b[39m=\u001b[39;49m(\u001b[39m8\u001b[39;49m, \u001b[39m128\u001b[39;49m),\n\u001b[0;32m    <a href='vscode-notebook-cell:/c%3A/Users/sonng/Desktop/Important%20Files%20-%20Sep%202023/Hildesheim%20University%20-%20Masters%20in%20Data%20Analytics/Master%20Thesis/Code/Git/TSFusionForecast/TSFusionForecast/notebooks/TFT_model/TFT_model_m4_test_tune.ipynb#X11sZmlsZQ%3D%3D?line=143'>144</a>\u001b[0m     hidden_continuous_size_range\u001b[39m=\u001b[39;49m(\u001b[39m8\u001b[39;49m, \u001b[39m128\u001b[39;49m),\n\u001b[0;32m    <a href='vscode-notebook-cell:/c%3A/Users/sonng/Desktop/Important%20Files%20-%20Sep%202023/Hildesheim%20University%20-%20Masters%20in%20Data%20Analytics/Master%20Thesis/Code/Git/TSFusionForecast/TSFusionForecast/notebooks/TFT_model/TFT_model_m4_test_tune.ipynb#X11sZmlsZQ%3D%3D?line=144'>145</a>\u001b[0m     attention_head_size_range\u001b[39m=\u001b[39;49m(\u001b[39m1\u001b[39;49m, \u001b[39m4\u001b[39;49m),\n\u001b[0;32m    <a href='vscode-notebook-cell:/c%3A/Users/sonng/Desktop/Important%20Files%20-%20Sep%202023/Hildesheim%20University%20-%20Masters%20in%20Data%20Analytics/Master%20Thesis/Code/Git/TSFusionForecast/TSFusionForecast/notebooks/TFT_model/TFT_model_m4_test_tune.ipynb#X11sZmlsZQ%3D%3D?line=145'>146</a>\u001b[0m     learning_rate_range\u001b[39m=\u001b[39;49m(\u001b[39m0.001\u001b[39;49m, \u001b[39m0.1\u001b[39;49m),\n\u001b[0;32m    <a href='vscode-notebook-cell:/c%3A/Users/sonng/Desktop/Important%20Files%20-%20Sep%202023/Hildesheim%20University%20-%20Masters%20in%20Data%20Analytics/Master%20Thesis/Code/Git/TSFusionForecast/TSFusionForecast/notebooks/TFT_model/TFT_model_m4_test_tune.ipynb#X11sZmlsZQ%3D%3D?line=146'>147</a>\u001b[0m     dropout_range\u001b[39m=\u001b[39;49m(\u001b[39m0.1\u001b[39;49m, \u001b[39m0.3\u001b[39;49m),\n\u001b[0;32m    <a href='vscode-notebook-cell:/c%3A/Users/sonng/Desktop/Important%20Files%20-%20Sep%202023/Hildesheim%20University%20-%20Masters%20in%20Data%20Analytics/Master%20Thesis/Code/Git/TSFusionForecast/TSFusionForecast/notebooks/TFT_model/TFT_model_m4_test_tune.ipynb#X11sZmlsZQ%3D%3D?line=147'>148</a>\u001b[0m     trainer_kwargs\u001b[39m=\u001b[39;49m\u001b[39mdict\u001b[39;49m(limit_train_batches\u001b[39m=\u001b[39;49m\u001b[39m30\u001b[39;49m),\n\u001b[0;32m    <a href='vscode-notebook-cell:/c%3A/Users/sonng/Desktop/Important%20Files%20-%20Sep%202023/Hildesheim%20University%20-%20Masters%20in%20Data%20Analytics/Master%20Thesis/Code/Git/TSFusionForecast/TSFusionForecast/notebooks/TFT_model/TFT_model_m4_test_tune.ipynb#X11sZmlsZQ%3D%3D?line=148'>149</a>\u001b[0m     reduce_on_plateau_patience\u001b[39m=\u001b[39;49m\u001b[39m4\u001b[39;49m,\n\u001b[0;32m    <a href='vscode-notebook-cell:/c%3A/Users/sonng/Desktop/Important%20Files%20-%20Sep%202023/Hildesheim%20University%20-%20Masters%20in%20Data%20Analytics/Master%20Thesis/Code/Git/TSFusionForecast/TSFusionForecast/notebooks/TFT_model/TFT_model_m4_test_tune.ipynb#X11sZmlsZQ%3D%3D?line=149'>150</a>\u001b[0m     use_learning_rate_finder\u001b[39m=\u001b[39;49m\u001b[39mFalse\u001b[39;49;00m,  \u001b[39m# use Optuna to find ideal learning rate or use in-built learning rate finder\u001b[39;49;00m\n\u001b[0;32m    <a href='vscode-notebook-cell:/c%3A/Users/sonng/Desktop/Important%20Files%20-%20Sep%202023/Hildesheim%20University%20-%20Masters%20in%20Data%20Analytics/Master%20Thesis/Code/Git/TSFusionForecast/TSFusionForecast/notebooks/TFT_model/TFT_model_m4_test_tune.ipynb#X11sZmlsZQ%3D%3D?line=150'>151</a>\u001b[0m )\n\u001b[0;32m    <a href='vscode-notebook-cell:/c%3A/Users/sonng/Desktop/Important%20Files%20-%20Sep%202023/Hildesheim%20University%20-%20Masters%20in%20Data%20Analytics/Master%20Thesis/Code/Git/TSFusionForecast/TSFusionForecast/notebooks/TFT_model/TFT_model_m4_test_tune.ipynb#X11sZmlsZQ%3D%3D?line=152'>153</a>\u001b[0m \u001b[39m# save study results - also we can resume tuning at a later point in time\u001b[39;00m\n\u001b[0;32m    <a href='vscode-notebook-cell:/c%3A/Users/sonng/Desktop/Important%20Files%20-%20Sep%202023/Hildesheim%20University%20-%20Masters%20in%20Data%20Analytics/Master%20Thesis/Code/Git/TSFusionForecast/TSFusionForecast/notebooks/TFT_model/TFT_model_m4_test_tune.ipynb#X11sZmlsZQ%3D%3D?line=153'>154</a>\u001b[0m \u001b[39mwith\u001b[39;00m \u001b[39mopen\u001b[39m(\u001b[39m\"\u001b[39m\u001b[39mtest_study.pkl\u001b[39m\u001b[39m\"\u001b[39m, \u001b[39m\"\u001b[39m\u001b[39mwb\u001b[39m\u001b[39m\"\u001b[39m) \u001b[39mas\u001b[39;00m fout:\n",
      "File \u001b[1;32mc:\\Users\\sonng\\anaconda3\\envs\\tsff_env\\lib\\site-packages\\pytorch_forecasting\\models\\temporal_fusion_transformer\\tuning.py:207\u001b[0m, in \u001b[0;36moptimize_hyperparameters\u001b[1;34m(train_dataloaders, val_dataloaders, model_path, max_epochs, n_trials, timeout, gradient_clip_val_range, hidden_size_range, hidden_continuous_size_range, attention_head_size_range, dropout_range, learning_rate_range, use_learning_rate_finder, trainer_kwargs, log_dir, study, verbose, pruner, **kwargs)\u001b[0m\n\u001b[0;32m    205\u001b[0m \u001b[39mif\u001b[39;00m study \u001b[39mis\u001b[39;00m \u001b[39mNone\u001b[39;00m:\n\u001b[0;32m    206\u001b[0m     study \u001b[39m=\u001b[39m optuna\u001b[39m.\u001b[39mcreate_study(direction\u001b[39m=\u001b[39m\u001b[39m\"\u001b[39m\u001b[39mminimize\u001b[39m\u001b[39m\"\u001b[39m, pruner\u001b[39m=\u001b[39mpruner)\n\u001b[1;32m--> 207\u001b[0m study\u001b[39m.\u001b[39;49moptimize(objective, n_trials\u001b[39m=\u001b[39;49mn_trials, timeout\u001b[39m=\u001b[39;49mtimeout)\n\u001b[0;32m    208\u001b[0m \u001b[39mreturn\u001b[39;00m study\n",
      "File \u001b[1;32mc:\\Users\\sonng\\anaconda3\\envs\\tsff_env\\lib\\site-packages\\optuna\\study\\study.py:451\u001b[0m, in \u001b[0;36mStudy.optimize\u001b[1;34m(self, func, n_trials, timeout, n_jobs, catch, callbacks, gc_after_trial, show_progress_bar)\u001b[0m\n\u001b[0;32m    348\u001b[0m \u001b[39mdef\u001b[39;00m \u001b[39moptimize\u001b[39m(\n\u001b[0;32m    349\u001b[0m     \u001b[39mself\u001b[39m,\n\u001b[0;32m    350\u001b[0m     func: ObjectiveFuncType,\n\u001b[1;32m   (...)\u001b[0m\n\u001b[0;32m    357\u001b[0m     show_progress_bar: \u001b[39mbool\u001b[39m \u001b[39m=\u001b[39m \u001b[39mFalse\u001b[39;00m,\n\u001b[0;32m    358\u001b[0m ) \u001b[39m-\u001b[39m\u001b[39m>\u001b[39m \u001b[39mNone\u001b[39;00m:\n\u001b[0;32m    359\u001b[0m \u001b[39m    \u001b[39m\u001b[39m\"\"\"Optimize an objective function.\u001b[39;00m\n\u001b[0;32m    360\u001b[0m \n\u001b[0;32m    361\u001b[0m \u001b[39m    Optimization is done by choosing a suitable set of hyperparameter values from a given\u001b[39;00m\n\u001b[1;32m   (...)\u001b[0m\n\u001b[0;32m    449\u001b[0m \u001b[39m            If nested invocation of this method occurs.\u001b[39;00m\n\u001b[0;32m    450\u001b[0m \u001b[39m    \"\"\"\u001b[39;00m\n\u001b[1;32m--> 451\u001b[0m     _optimize(\n\u001b[0;32m    452\u001b[0m         study\u001b[39m=\u001b[39;49m\u001b[39mself\u001b[39;49m,\n\u001b[0;32m    453\u001b[0m         func\u001b[39m=\u001b[39;49mfunc,\n\u001b[0;32m    454\u001b[0m         n_trials\u001b[39m=\u001b[39;49mn_trials,\n\u001b[0;32m    455\u001b[0m         timeout\u001b[39m=\u001b[39;49mtimeout,\n\u001b[0;32m    456\u001b[0m         n_jobs\u001b[39m=\u001b[39;49mn_jobs,\n\u001b[0;32m    457\u001b[0m         catch\u001b[39m=\u001b[39;49m\u001b[39mtuple\u001b[39;49m(catch) \u001b[39mif\u001b[39;49;00m \u001b[39misinstance\u001b[39;49m(catch, Iterable) \u001b[39melse\u001b[39;49;00m (catch,),\n\u001b[0;32m    458\u001b[0m         callbacks\u001b[39m=\u001b[39;49mcallbacks,\n\u001b[0;32m    459\u001b[0m         gc_after_trial\u001b[39m=\u001b[39;49mgc_after_trial,\n\u001b[0;32m    460\u001b[0m         show_progress_bar\u001b[39m=\u001b[39;49mshow_progress_bar,\n\u001b[0;32m    461\u001b[0m     )\n",
      "File \u001b[1;32mc:\\Users\\sonng\\anaconda3\\envs\\tsff_env\\lib\\site-packages\\optuna\\study\\_optimize.py:66\u001b[0m, in \u001b[0;36m_optimize\u001b[1;34m(study, func, n_trials, timeout, n_jobs, catch, callbacks, gc_after_trial, show_progress_bar)\u001b[0m\n\u001b[0;32m     64\u001b[0m \u001b[39mtry\u001b[39;00m:\n\u001b[0;32m     65\u001b[0m     \u001b[39mif\u001b[39;00m n_jobs \u001b[39m==\u001b[39m \u001b[39m1\u001b[39m:\n\u001b[1;32m---> 66\u001b[0m         _optimize_sequential(\n\u001b[0;32m     67\u001b[0m             study,\n\u001b[0;32m     68\u001b[0m             func,\n\u001b[0;32m     69\u001b[0m             n_trials,\n\u001b[0;32m     70\u001b[0m             timeout,\n\u001b[0;32m     71\u001b[0m             catch,\n\u001b[0;32m     72\u001b[0m             callbacks,\n\u001b[0;32m     73\u001b[0m             gc_after_trial,\n\u001b[0;32m     74\u001b[0m             reseed_sampler_rng\u001b[39m=\u001b[39;49m\u001b[39mFalse\u001b[39;49;00m,\n\u001b[0;32m     75\u001b[0m             time_start\u001b[39m=\u001b[39;49m\u001b[39mNone\u001b[39;49;00m,\n\u001b[0;32m     76\u001b[0m             progress_bar\u001b[39m=\u001b[39;49mprogress_bar,\n\u001b[0;32m     77\u001b[0m         )\n\u001b[0;32m     78\u001b[0m     \u001b[39melse\u001b[39;00m:\n\u001b[0;32m     79\u001b[0m         \u001b[39mif\u001b[39;00m n_jobs \u001b[39m==\u001b[39m \u001b[39m-\u001b[39m\u001b[39m1\u001b[39m:\n",
      "File \u001b[1;32mc:\\Users\\sonng\\anaconda3\\envs\\tsff_env\\lib\\site-packages\\optuna\\study\\_optimize.py:163\u001b[0m, in \u001b[0;36m_optimize_sequential\u001b[1;34m(study, func, n_trials, timeout, catch, callbacks, gc_after_trial, reseed_sampler_rng, time_start, progress_bar)\u001b[0m\n\u001b[0;32m    160\u001b[0m         \u001b[39mbreak\u001b[39;00m\n\u001b[0;32m    162\u001b[0m \u001b[39mtry\u001b[39;00m:\n\u001b[1;32m--> 163\u001b[0m     frozen_trial \u001b[39m=\u001b[39m _run_trial(study, func, catch)\n\u001b[0;32m    164\u001b[0m \u001b[39mfinally\u001b[39;00m:\n\u001b[0;32m    165\u001b[0m     \u001b[39m# The following line mitigates memory problems that can be occurred in some\u001b[39;00m\n\u001b[0;32m    166\u001b[0m     \u001b[39m# environments (e.g., services that use computing containers such as GitHub Actions).\u001b[39;00m\n\u001b[0;32m    167\u001b[0m     \u001b[39m# Please refer to the following PR for further details:\u001b[39;00m\n\u001b[0;32m    168\u001b[0m     \u001b[39m# https://github.com/optuna/optuna/pull/325.\u001b[39;00m\n\u001b[0;32m    169\u001b[0m     \u001b[39mif\u001b[39;00m gc_after_trial:\n",
      "File \u001b[1;32mc:\\Users\\sonng\\anaconda3\\envs\\tsff_env\\lib\\site-packages\\optuna\\study\\_optimize.py:251\u001b[0m, in \u001b[0;36m_run_trial\u001b[1;34m(study, func, catch)\u001b[0m\n\u001b[0;32m    244\u001b[0m         \u001b[39massert\u001b[39;00m \u001b[39mFalse\u001b[39;00m, \u001b[39m\"\u001b[39m\u001b[39mShould not reach.\u001b[39m\u001b[39m\"\u001b[39m\n\u001b[0;32m    246\u001b[0m \u001b[39mif\u001b[39;00m (\n\u001b[0;32m    247\u001b[0m     frozen_trial\u001b[39m.\u001b[39mstate \u001b[39m==\u001b[39m TrialState\u001b[39m.\u001b[39mFAIL\n\u001b[0;32m    248\u001b[0m     \u001b[39mand\u001b[39;00m func_err \u001b[39mis\u001b[39;00m \u001b[39mnot\u001b[39;00m \u001b[39mNone\u001b[39;00m\n\u001b[0;32m    249\u001b[0m     \u001b[39mand\u001b[39;00m \u001b[39mnot\u001b[39;00m \u001b[39misinstance\u001b[39m(func_err, catch)\n\u001b[0;32m    250\u001b[0m ):\n\u001b[1;32m--> 251\u001b[0m     \u001b[39mraise\u001b[39;00m func_err\n\u001b[0;32m    252\u001b[0m \u001b[39mreturn\u001b[39;00m frozen_trial\n",
      "File \u001b[1;32mc:\\Users\\sonng\\anaconda3\\envs\\tsff_env\\lib\\site-packages\\optuna\\study\\_optimize.py:200\u001b[0m, in \u001b[0;36m_run_trial\u001b[1;34m(study, func, catch)\u001b[0m\n\u001b[0;32m    198\u001b[0m \u001b[39mwith\u001b[39;00m get_heartbeat_thread(trial\u001b[39m.\u001b[39m_trial_id, study\u001b[39m.\u001b[39m_storage):\n\u001b[0;32m    199\u001b[0m     \u001b[39mtry\u001b[39;00m:\n\u001b[1;32m--> 200\u001b[0m         value_or_values \u001b[39m=\u001b[39m func(trial)\n\u001b[0;32m    201\u001b[0m     \u001b[39mexcept\u001b[39;00m exceptions\u001b[39m.\u001b[39mTrialPruned \u001b[39mas\u001b[39;00m e:\n\u001b[0;32m    202\u001b[0m         \u001b[39m# TODO(mamu): Handle multi-objective cases.\u001b[39;00m\n\u001b[0;32m    203\u001b[0m         state \u001b[39m=\u001b[39m TrialState\u001b[39m.\u001b[39mPRUNED\n",
      "File \u001b[1;32mc:\\Users\\sonng\\anaconda3\\envs\\tsff_env\\lib\\site-packages\\pytorch_forecasting\\models\\temporal_fusion_transformer\\tuning.py:199\u001b[0m, in \u001b[0;36moptimize_hyperparameters.<locals>.objective\u001b[1;34m(trial)\u001b[0m\n\u001b[0;32m    196\u001b[0m     model\u001b[39m.\u001b[39mhparams\u001b[39m.\u001b[39mlearning_rate \u001b[39m=\u001b[39m trial\u001b[39m.\u001b[39msuggest_loguniform(\u001b[39m\"\u001b[39m\u001b[39mlearning_rate\u001b[39m\u001b[39m\"\u001b[39m, \u001b[39m*\u001b[39mlearning_rate_range)\n\u001b[0;32m    198\u001b[0m \u001b[39m# fit\u001b[39;00m\n\u001b[1;32m--> 199\u001b[0m trainer\u001b[39m.\u001b[39;49mfit(model, train_dataloaders\u001b[39m=\u001b[39;49mtrain_dataloaders, val_dataloaders\u001b[39m=\u001b[39;49mval_dataloaders)\n\u001b[0;32m    201\u001b[0m \u001b[39m# report result\u001b[39;00m\n\u001b[0;32m    202\u001b[0m \u001b[39mreturn\u001b[39;00m trainer\u001b[39m.\u001b[39mcallback_metrics[\u001b[39m\"\u001b[39m\u001b[39mval_loss\u001b[39m\u001b[39m\"\u001b[39m]\u001b[39m.\u001b[39mitem()\n",
      "File \u001b[1;32mc:\\Users\\sonng\\anaconda3\\envs\\tsff_env\\lib\\site-packages\\lightning\\pytorch\\trainer\\trainer.py:544\u001b[0m, in \u001b[0;36mTrainer.fit\u001b[1;34m(self, model, train_dataloaders, val_dataloaders, datamodule, ckpt_path)\u001b[0m\n\u001b[0;32m    542\u001b[0m \u001b[39mself\u001b[39m\u001b[39m.\u001b[39mstate\u001b[39m.\u001b[39mstatus \u001b[39m=\u001b[39m TrainerStatus\u001b[39m.\u001b[39mRUNNING\n\u001b[0;32m    543\u001b[0m \u001b[39mself\u001b[39m\u001b[39m.\u001b[39mtraining \u001b[39m=\u001b[39m \u001b[39mTrue\u001b[39;00m\n\u001b[1;32m--> 544\u001b[0m call\u001b[39m.\u001b[39;49m_call_and_handle_interrupt(\n\u001b[0;32m    545\u001b[0m     \u001b[39mself\u001b[39;49m, \u001b[39mself\u001b[39;49m\u001b[39m.\u001b[39;49m_fit_impl, model, train_dataloaders, val_dataloaders, datamodule, ckpt_path\n\u001b[0;32m    546\u001b[0m )\n",
      "File \u001b[1;32mc:\\Users\\sonng\\anaconda3\\envs\\tsff_env\\lib\\site-packages\\lightning\\pytorch\\trainer\\call.py:44\u001b[0m, in \u001b[0;36m_call_and_handle_interrupt\u001b[1;34m(trainer, trainer_fn, *args, **kwargs)\u001b[0m\n\u001b[0;32m     42\u001b[0m     \u001b[39mif\u001b[39;00m trainer\u001b[39m.\u001b[39mstrategy\u001b[39m.\u001b[39mlauncher \u001b[39mis\u001b[39;00m \u001b[39mnot\u001b[39;00m \u001b[39mNone\u001b[39;00m:\n\u001b[0;32m     43\u001b[0m         \u001b[39mreturn\u001b[39;00m trainer\u001b[39m.\u001b[39mstrategy\u001b[39m.\u001b[39mlauncher\u001b[39m.\u001b[39mlaunch(trainer_fn, \u001b[39m*\u001b[39margs, trainer\u001b[39m=\u001b[39mtrainer, \u001b[39m*\u001b[39m\u001b[39m*\u001b[39mkwargs)\n\u001b[1;32m---> 44\u001b[0m     \u001b[39mreturn\u001b[39;00m trainer_fn(\u001b[39m*\u001b[39margs, \u001b[39m*\u001b[39m\u001b[39m*\u001b[39mkwargs)\n\u001b[0;32m     46\u001b[0m \u001b[39mexcept\u001b[39;00m _TunerExitException:\n\u001b[0;32m     47\u001b[0m     _call_teardown_hook(trainer)\n",
      "File \u001b[1;32mc:\\Users\\sonng\\anaconda3\\envs\\tsff_env\\lib\\site-packages\\lightning\\pytorch\\trainer\\trainer.py:580\u001b[0m, in \u001b[0;36mTrainer._fit_impl\u001b[1;34m(self, model, train_dataloaders, val_dataloaders, datamodule, ckpt_path)\u001b[0m\n\u001b[0;32m    573\u001b[0m \u001b[39massert\u001b[39;00m \u001b[39mself\u001b[39m\u001b[39m.\u001b[39mstate\u001b[39m.\u001b[39mfn \u001b[39mis\u001b[39;00m \u001b[39mnot\u001b[39;00m \u001b[39mNone\u001b[39;00m\n\u001b[0;32m    574\u001b[0m ckpt_path \u001b[39m=\u001b[39m \u001b[39mself\u001b[39m\u001b[39m.\u001b[39m_checkpoint_connector\u001b[39m.\u001b[39m_select_ckpt_path(\n\u001b[0;32m    575\u001b[0m     \u001b[39mself\u001b[39m\u001b[39m.\u001b[39mstate\u001b[39m.\u001b[39mfn,\n\u001b[0;32m    576\u001b[0m     ckpt_path,\n\u001b[0;32m    577\u001b[0m     model_provided\u001b[39m=\u001b[39m\u001b[39mTrue\u001b[39;00m,\n\u001b[0;32m    578\u001b[0m     model_connected\u001b[39m=\u001b[39m\u001b[39mself\u001b[39m\u001b[39m.\u001b[39mlightning_module \u001b[39mis\u001b[39;00m \u001b[39mnot\u001b[39;00m \u001b[39mNone\u001b[39;00m,\n\u001b[0;32m    579\u001b[0m )\n\u001b[1;32m--> 580\u001b[0m \u001b[39mself\u001b[39;49m\u001b[39m.\u001b[39;49m_run(model, ckpt_path\u001b[39m=\u001b[39;49mckpt_path)\n\u001b[0;32m    582\u001b[0m \u001b[39massert\u001b[39;00m \u001b[39mself\u001b[39m\u001b[39m.\u001b[39mstate\u001b[39m.\u001b[39mstopped\n\u001b[0;32m    583\u001b[0m \u001b[39mself\u001b[39m\u001b[39m.\u001b[39mtraining \u001b[39m=\u001b[39m \u001b[39mFalse\u001b[39;00m\n",
      "File \u001b[1;32mc:\\Users\\sonng\\anaconda3\\envs\\tsff_env\\lib\\site-packages\\lightning\\pytorch\\trainer\\trainer.py:950\u001b[0m, in \u001b[0;36mTrainer._run\u001b[1;34m(self, model, ckpt_path)\u001b[0m\n\u001b[0;32m    947\u001b[0m \u001b[39mself\u001b[39m\u001b[39m.\u001b[39mstrategy\u001b[39m.\u001b[39msetup_environment()\n\u001b[0;32m    948\u001b[0m \u001b[39mself\u001b[39m\u001b[39m.\u001b[39m__setup_profiler()\n\u001b[1;32m--> 950\u001b[0m call\u001b[39m.\u001b[39;49m_call_setup_hook(\u001b[39mself\u001b[39;49m)  \u001b[39m# allow user to setup lightning_module in accelerator environment\u001b[39;00m\n\u001b[0;32m    952\u001b[0m \u001b[39m# check if we should delay restoring checkpoint till later\u001b[39;00m\n\u001b[0;32m    953\u001b[0m \u001b[39mif\u001b[39;00m \u001b[39mnot\u001b[39;00m \u001b[39mself\u001b[39m\u001b[39m.\u001b[39mstrategy\u001b[39m.\u001b[39mrestore_checkpoint_after_setup:\n",
      "File \u001b[1;32mc:\\Users\\sonng\\anaconda3\\envs\\tsff_env\\lib\\site-packages\\lightning\\pytorch\\trainer\\call.py:86\u001b[0m, in \u001b[0;36m_call_setup_hook\u001b[1;34m(trainer)\u001b[0m\n\u001b[0;32m     84\u001b[0m \u001b[39m# Trigger lazy creation of experiment in loggers so loggers have their metadata available\u001b[39;00m\n\u001b[0;32m     85\u001b[0m \u001b[39mfor\u001b[39;00m logger \u001b[39min\u001b[39;00m trainer\u001b[39m.\u001b[39mloggers:\n\u001b[1;32m---> 86\u001b[0m     \u001b[39mif\u001b[39;00m \u001b[39mhasattr\u001b[39;49m(logger, \u001b[39m\"\u001b[39;49m\u001b[39mexperiment\u001b[39;49m\u001b[39m\"\u001b[39;49m):\n\u001b[0;32m     87\u001b[0m         _ \u001b[39m=\u001b[39m logger\u001b[39m.\u001b[39mexperiment\n\u001b[0;32m     89\u001b[0m trainer\u001b[39m.\u001b[39mstrategy\u001b[39m.\u001b[39mbarrier(\u001b[39m\"\u001b[39m\u001b[39mpre_setup\u001b[39m\u001b[39m\"\u001b[39m)\n",
      "File \u001b[1;32mc:\\Users\\sonng\\anaconda3\\envs\\tsff_env\\lib\\site-packages\\lightning\\fabric\\loggers\\logger.py:118\u001b[0m, in \u001b[0;36mrank_zero_experiment.<locals>.experiment\u001b[1;34m(self)\u001b[0m\n\u001b[0;32m    116\u001b[0m \u001b[39mif\u001b[39;00m rank_zero_only\u001b[39m.\u001b[39mrank \u001b[39m>\u001b[39m \u001b[39m0\u001b[39m:\n\u001b[0;32m    117\u001b[0m     \u001b[39mreturn\u001b[39;00m _DummyExperiment()\n\u001b[1;32m--> 118\u001b[0m \u001b[39mreturn\u001b[39;00m fn(\u001b[39mself\u001b[39;49m)\n",
      "File \u001b[1;32mc:\\Users\\sonng\\anaconda3\\envs\\tsff_env\\lib\\site-packages\\lightning\\fabric\\loggers\\tensorboard.py:191\u001b[0m, in \u001b[0;36mTensorBoardLogger.experiment\u001b[1;34m(self)\u001b[0m\n\u001b[0;32m    188\u001b[0m \u001b[39melse\u001b[39;00m:\n\u001b[0;32m    189\u001b[0m     \u001b[39mfrom\u001b[39;00m \u001b[39mtensorboardX\u001b[39;00m \u001b[39mimport\u001b[39;00m SummaryWriter  \u001b[39m# type: ignore[no-redef]\u001b[39;00m\n\u001b[1;32m--> 191\u001b[0m \u001b[39mself\u001b[39m\u001b[39m.\u001b[39m_experiment \u001b[39m=\u001b[39m SummaryWriter(log_dir\u001b[39m=\u001b[39m\u001b[39mself\u001b[39m\u001b[39m.\u001b[39mlog_dir, \u001b[39m*\u001b[39m\u001b[39m*\u001b[39m\u001b[39mself\u001b[39m\u001b[39m.\u001b[39m_kwargs)\n\u001b[0;32m    192\u001b[0m \u001b[39mreturn\u001b[39;00m \u001b[39mself\u001b[39m\u001b[39m.\u001b[39m_experiment\n",
      "File \u001b[1;32mc:\\Users\\sonng\\anaconda3\\envs\\tsff_env\\lib\\site-packages\\torch\\utils\\tensorboard\\writer.py:243\u001b[0m, in \u001b[0;36mSummaryWriter.__init__\u001b[1;34m(self, log_dir, comment, purge_step, max_queue, flush_secs, filename_suffix)\u001b[0m\n\u001b[0;32m    240\u001b[0m \u001b[39m# Initialize the file writers, but they can be cleared out on close\u001b[39;00m\n\u001b[0;32m    241\u001b[0m \u001b[39m# and recreated later as needed.\u001b[39;00m\n\u001b[0;32m    242\u001b[0m \u001b[39mself\u001b[39m\u001b[39m.\u001b[39mfile_writer \u001b[39m=\u001b[39m \u001b[39mself\u001b[39m\u001b[39m.\u001b[39mall_writers \u001b[39m=\u001b[39m \u001b[39mNone\u001b[39;00m\n\u001b[1;32m--> 243\u001b[0m \u001b[39mself\u001b[39;49m\u001b[39m.\u001b[39;49m_get_file_writer()\n\u001b[0;32m    245\u001b[0m \u001b[39m# Create default bins for histograms, see generate_testdata.py in tensorflow/tensorboard\u001b[39;00m\n\u001b[0;32m    246\u001b[0m v \u001b[39m=\u001b[39m \u001b[39m1e-12\u001b[39m\n",
      "File \u001b[1;32mc:\\Users\\sonng\\anaconda3\\envs\\tsff_env\\lib\\site-packages\\torch\\utils\\tensorboard\\writer.py:273\u001b[0m, in \u001b[0;36mSummaryWriter._get_file_writer\u001b[1;34m(self)\u001b[0m\n\u001b[0;32m    271\u001b[0m \u001b[39m\u001b[39m\u001b[39m\"\"\"Returns the default FileWriter instance. Recreates it if closed.\"\"\"\u001b[39;00m\n\u001b[0;32m    272\u001b[0m \u001b[39mif\u001b[39;00m \u001b[39mself\u001b[39m\u001b[39m.\u001b[39mall_writers \u001b[39mis\u001b[39;00m \u001b[39mNone\u001b[39;00m \u001b[39mor\u001b[39;00m \u001b[39mself\u001b[39m\u001b[39m.\u001b[39mfile_writer \u001b[39mis\u001b[39;00m \u001b[39mNone\u001b[39;00m:\n\u001b[1;32m--> 273\u001b[0m     \u001b[39mself\u001b[39m\u001b[39m.\u001b[39mfile_writer \u001b[39m=\u001b[39m FileWriter(\n\u001b[0;32m    274\u001b[0m         \u001b[39mself\u001b[39;49m\u001b[39m.\u001b[39;49mlog_dir, \u001b[39mself\u001b[39;49m\u001b[39m.\u001b[39;49mmax_queue, \u001b[39mself\u001b[39;49m\u001b[39m.\u001b[39;49mflush_secs, \u001b[39mself\u001b[39;49m\u001b[39m.\u001b[39;49mfilename_suffix\n\u001b[0;32m    275\u001b[0m     )\n\u001b[0;32m    276\u001b[0m     \u001b[39mself\u001b[39m\u001b[39m.\u001b[39mall_writers \u001b[39m=\u001b[39m {\u001b[39mself\u001b[39m\u001b[39m.\u001b[39mfile_writer\u001b[39m.\u001b[39mget_logdir(): \u001b[39mself\u001b[39m\u001b[39m.\u001b[39mfile_writer}\n\u001b[0;32m    277\u001b[0m     \u001b[39mif\u001b[39;00m \u001b[39mself\u001b[39m\u001b[39m.\u001b[39mpurge_step \u001b[39mis\u001b[39;00m \u001b[39mnot\u001b[39;00m \u001b[39mNone\u001b[39;00m:\n",
      "File \u001b[1;32mc:\\Users\\sonng\\anaconda3\\envs\\tsff_env\\lib\\site-packages\\torch\\utils\\tensorboard\\writer.py:72\u001b[0m, in \u001b[0;36mFileWriter.__init__\u001b[1;34m(self, log_dir, max_queue, flush_secs, filename_suffix)\u001b[0m\n\u001b[0;32m     67\u001b[0m \u001b[39m# Sometimes PosixPath is passed in and we need to coerce it to\u001b[39;00m\n\u001b[0;32m     68\u001b[0m \u001b[39m# a string in all cases\u001b[39;00m\n\u001b[0;32m     69\u001b[0m \u001b[39m# TODO: See if we can remove this in the future if we are\u001b[39;00m\n\u001b[0;32m     70\u001b[0m \u001b[39m# actually the ones passing in a PosixPath\u001b[39;00m\n\u001b[0;32m     71\u001b[0m log_dir \u001b[39m=\u001b[39m \u001b[39mstr\u001b[39m(log_dir)\n\u001b[1;32m---> 72\u001b[0m \u001b[39mself\u001b[39m\u001b[39m.\u001b[39mevent_writer \u001b[39m=\u001b[39m EventFileWriter(\n\u001b[0;32m     73\u001b[0m     log_dir, max_queue, flush_secs, filename_suffix\n\u001b[0;32m     74\u001b[0m )\n",
      "File \u001b[1;32mc:\\Users\\sonng\\anaconda3\\envs\\tsff_env\\lib\\site-packages\\tensorboard\\summary\\writer\\event_file_writer.py:100\u001b[0m, in \u001b[0;36mEventFileWriter.__init__\u001b[1;34m(self, logdir, max_queue_size, flush_secs, filename_suffix)\u001b[0m\n\u001b[0;32m     92\u001b[0m _event \u001b[39m=\u001b[39m event_pb2\u001b[39m.\u001b[39mEvent(\n\u001b[0;32m     93\u001b[0m     wall_time\u001b[39m=\u001b[39mtime\u001b[39m.\u001b[39mtime(),\n\u001b[0;32m     94\u001b[0m     file_version\u001b[39m=\u001b[39m\u001b[39m\"\u001b[39m\u001b[39mbrain.Event:2\u001b[39m\u001b[39m\"\u001b[39m,\n\u001b[1;32m   (...)\u001b[0m\n\u001b[0;32m     97\u001b[0m     ),\n\u001b[0;32m     98\u001b[0m )\n\u001b[0;32m     99\u001b[0m \u001b[39mself\u001b[39m\u001b[39m.\u001b[39madd_event(_event)\n\u001b[1;32m--> 100\u001b[0m \u001b[39mself\u001b[39;49m\u001b[39m.\u001b[39;49mflush()\n",
      "File \u001b[1;32mc:\\Users\\sonng\\anaconda3\\envs\\tsff_env\\lib\\site-packages\\tensorboard\\summary\\writer\\event_file_writer.py:125\u001b[0m, in \u001b[0;36mEventFileWriter.flush\u001b[1;34m(self)\u001b[0m\n\u001b[0;32m    119\u001b[0m \u001b[39mdef\u001b[39;00m \u001b[39mflush\u001b[39m(\u001b[39mself\u001b[39m):\n\u001b[0;32m    120\u001b[0m \u001b[39m    \u001b[39m\u001b[39m\"\"\"Flushes the event file to disk.\u001b[39;00m\n\u001b[0;32m    121\u001b[0m \n\u001b[0;32m    122\u001b[0m \u001b[39m    Call this method to make sure that all pending events have been\u001b[39;00m\n\u001b[0;32m    123\u001b[0m \u001b[39m    written to disk.\u001b[39;00m\n\u001b[0;32m    124\u001b[0m \u001b[39m    \"\"\"\u001b[39;00m\n\u001b[1;32m--> 125\u001b[0m     \u001b[39mself\u001b[39;49m\u001b[39m.\u001b[39;49m_async_writer\u001b[39m.\u001b[39;49mflush()\n",
      "File \u001b[1;32mc:\\Users\\sonng\\anaconda3\\envs\\tsff_env\\lib\\site-packages\\tensorboard\\summary\\writer\\event_file_writer.py:194\u001b[0m, in \u001b[0;36m_AsyncWriter.flush\u001b[1;34m(self)\u001b[0m\n\u001b[0;32m    190\u001b[0m \u001b[39mself\u001b[39m\u001b[39m.\u001b[39m_writer\u001b[39m.\u001b[39mflush()\n\u001b[0;32m    191\u001b[0m \u001b[39m# Check the status again in case the background worker thread has\u001b[39;00m\n\u001b[0;32m    192\u001b[0m \u001b[39m# failed in the meantime to avoid waiting until the next call to\u001b[39;00m\n\u001b[0;32m    193\u001b[0m \u001b[39m# surface the error.\u001b[39;00m\n\u001b[1;32m--> 194\u001b[0m \u001b[39mself\u001b[39;49m\u001b[39m.\u001b[39;49m_check_worker_status()\n",
      "File \u001b[1;32mc:\\Users\\sonng\\anaconda3\\envs\\tsff_env\\lib\\site-packages\\tensorboard\\summary\\writer\\event_file_writer.py:212\u001b[0m, in \u001b[0;36m_AsyncWriter._check_worker_status\u001b[1;34m(self)\u001b[0m\n\u001b[0;32m    210\u001b[0m exception \u001b[39m=\u001b[39m \u001b[39mself\u001b[39m\u001b[39m.\u001b[39m_worker\u001b[39m.\u001b[39mexception\n\u001b[0;32m    211\u001b[0m \u001b[39mif\u001b[39;00m exception \u001b[39mis\u001b[39;00m \u001b[39mnot\u001b[39;00m \u001b[39mNone\u001b[39;00m:\n\u001b[1;32m--> 212\u001b[0m     \u001b[39mraise\u001b[39;00m exception\n",
      "File \u001b[1;32mc:\\Users\\sonng\\anaconda3\\envs\\tsff_env\\lib\\threading.py:950\u001b[0m, in \u001b[0;36mThread._bootstrap_inner\u001b[1;34m(self)\u001b[0m\n\u001b[0;32m    947\u001b[0m     _sys\u001b[39m.\u001b[39msetprofile(_profile_hook)\n\u001b[0;32m    949\u001b[0m \u001b[39mtry\u001b[39;00m:\n\u001b[1;32m--> 950\u001b[0m     \u001b[39mself\u001b[39;49m\u001b[39m.\u001b[39;49mrun()\n\u001b[0;32m    951\u001b[0m \u001b[39mexcept\u001b[39;00m:\n\u001b[0;32m    952\u001b[0m     \u001b[39mself\u001b[39m\u001b[39m.\u001b[39m_invoke_excepthook(\u001b[39mself\u001b[39m)\n",
      "File \u001b[1;32mc:\\Users\\sonng\\anaconda3\\envs\\tsff_env\\lib\\site-packages\\tensorboard\\summary\\writer\\event_file_writer.py:244\u001b[0m, in \u001b[0;36m_AsyncWriterThread.run\u001b[1;34m(self)\u001b[0m\n\u001b[0;32m    242\u001b[0m \u001b[39mdef\u001b[39;00m \u001b[39mrun\u001b[39m(\u001b[39mself\u001b[39m):\n\u001b[0;32m    243\u001b[0m     \u001b[39mtry\u001b[39;00m:\n\u001b[1;32m--> 244\u001b[0m         \u001b[39mself\u001b[39;49m\u001b[39m.\u001b[39;49m_run()\n\u001b[0;32m    245\u001b[0m     \u001b[39mexcept\u001b[39;00m \u001b[39mException\u001b[39;00m \u001b[39mas\u001b[39;00m ex:\n\u001b[0;32m    246\u001b[0m         \u001b[39mself\u001b[39m\u001b[39m.\u001b[39mexception \u001b[39m=\u001b[39m ex\n",
      "File \u001b[1;32mc:\\Users\\sonng\\anaconda3\\envs\\tsff_env\\lib\\site-packages\\tensorboard\\summary\\writer\\event_file_writer.py:275\u001b[0m, in \u001b[0;36m_AsyncWriterThread._run\u001b[1;34m(self)\u001b[0m\n\u001b[0;32m    273\u001b[0m     \u001b[39mif\u001b[39;00m data \u001b[39mis\u001b[39;00m \u001b[39mself\u001b[39m\u001b[39m.\u001b[39m_shutdown_signal:\n\u001b[0;32m    274\u001b[0m         \u001b[39mreturn\u001b[39;00m\n\u001b[1;32m--> 275\u001b[0m     \u001b[39mself\u001b[39;49m\u001b[39m.\u001b[39;49m_record_writer\u001b[39m.\u001b[39;49mwrite(data)\n\u001b[0;32m    276\u001b[0m     \u001b[39mself\u001b[39m\u001b[39m.\u001b[39m_has_pending_data \u001b[39m=\u001b[39m \u001b[39mTrue\u001b[39;00m\n\u001b[0;32m    277\u001b[0m \u001b[39mexcept\u001b[39;00m queue\u001b[39m.\u001b[39mEmpty:\n",
      "File \u001b[1;32mc:\\Users\\sonng\\anaconda3\\envs\\tsff_env\\lib\\site-packages\\tensorboard\\summary\\writer\\record_writer.py:40\u001b[0m, in \u001b[0;36mRecordWriter.write\u001b[1;34m(self, data)\u001b[0m\n\u001b[0;32m     38\u001b[0m header_crc \u001b[39m=\u001b[39m struct\u001b[39m.\u001b[39mpack(\u001b[39m\"\u001b[39m\u001b[39m<I\u001b[39m\u001b[39m\"\u001b[39m, masked_crc32c(header))\n\u001b[0;32m     39\u001b[0m footer_crc \u001b[39m=\u001b[39m struct\u001b[39m.\u001b[39mpack(\u001b[39m\"\u001b[39m\u001b[39m<I\u001b[39m\u001b[39m\"\u001b[39m, masked_crc32c(data))\n\u001b[1;32m---> 40\u001b[0m \u001b[39mself\u001b[39;49m\u001b[39m.\u001b[39;49m_writer\u001b[39m.\u001b[39;49mwrite(header \u001b[39m+\u001b[39;49m header_crc \u001b[39m+\u001b[39;49m data \u001b[39m+\u001b[39;49m footer_crc)\n",
      "File \u001b[1;32mc:\\Users\\sonng\\anaconda3\\envs\\tsff_env\\lib\\site-packages\\tensorboard\\compat\\tensorflow_stub\\io\\gfile.py:768\u001b[0m, in \u001b[0;36mGFile.write\u001b[1;34m(self, file_content)\u001b[0m\n\u001b[0;32m    765\u001b[0m \u001b[39mif\u001b[39;00m \u001b[39mself\u001b[39m\u001b[39m.\u001b[39mfs_supports_append:\n\u001b[0;32m    766\u001b[0m     \u001b[39mif\u001b[39;00m \u001b[39mnot\u001b[39;00m \u001b[39mself\u001b[39m\u001b[39m.\u001b[39mwrite_started:\n\u001b[0;32m    767\u001b[0m         \u001b[39m# write the first chunk to truncate file if it already exists\u001b[39;00m\n\u001b[1;32m--> 768\u001b[0m         \u001b[39mself\u001b[39;49m\u001b[39m.\u001b[39;49mfs\u001b[39m.\u001b[39;49mwrite(\u001b[39mself\u001b[39;49m\u001b[39m.\u001b[39;49mfilename, file_content, \u001b[39mself\u001b[39;49m\u001b[39m.\u001b[39;49mbinary_mode)\n\u001b[0;32m    769\u001b[0m         \u001b[39mself\u001b[39m\u001b[39m.\u001b[39mwrite_started \u001b[39m=\u001b[39m \u001b[39mTrue\u001b[39;00m\n\u001b[0;32m    771\u001b[0m     \u001b[39melse\u001b[39;00m:\n\u001b[0;32m    772\u001b[0m         \u001b[39m# append the later chunks\u001b[39;00m\n",
      "File \u001b[1;32mc:\\Users\\sonng\\anaconda3\\envs\\tsff_env\\lib\\site-packages\\tensorboard\\compat\\tensorflow_stub\\io\\gfile.py:157\u001b[0m, in \u001b[0;36mLocalFileSystem.write\u001b[1;34m(self, filename, file_content, binary_mode)\u001b[0m\n\u001b[0;32m    148\u001b[0m \u001b[39mdef\u001b[39;00m \u001b[39mwrite\u001b[39m(\u001b[39mself\u001b[39m, filename, file_content, binary_mode\u001b[39m=\u001b[39m\u001b[39mFalse\u001b[39;00m):\n\u001b[0;32m    149\u001b[0m \u001b[39m    \u001b[39m\u001b[39m\"\"\"Writes string file contents to a file, overwriting any existing\u001b[39;00m\n\u001b[0;32m    150\u001b[0m \u001b[39m    contents.\u001b[39;00m\n\u001b[0;32m    151\u001b[0m \n\u001b[1;32m   (...)\u001b[0m\n\u001b[0;32m    155\u001b[0m \u001b[39m        binary_mode: bool, write as binary if True, otherwise text\u001b[39;00m\n\u001b[0;32m    156\u001b[0m \u001b[39m    \"\"\"\u001b[39;00m\n\u001b[1;32m--> 157\u001b[0m     \u001b[39mself\u001b[39;49m\u001b[39m.\u001b[39;49m_write(filename, file_content, \u001b[39m\"\u001b[39;49m\u001b[39mwb\u001b[39;49m\u001b[39m\"\u001b[39;49m \u001b[39mif\u001b[39;49;00m binary_mode \u001b[39melse\u001b[39;49;00m \u001b[39m\"\u001b[39;49m\u001b[39mw\u001b[39;49m\u001b[39m\"\u001b[39;49m)\n",
      "File \u001b[1;32mc:\\Users\\sonng\\anaconda3\\envs\\tsff_env\\lib\\site-packages\\tensorboard\\compat\\tensorflow_stub\\io\\gfile.py:171\u001b[0m, in \u001b[0;36mLocalFileSystem._write\u001b[1;34m(self, filename, file_content, mode)\u001b[0m\n\u001b[0;32m    169\u001b[0m \u001b[39mdef\u001b[39;00m \u001b[39m_write\u001b[39m(\u001b[39mself\u001b[39m, filename, file_content, mode):\n\u001b[0;32m    170\u001b[0m     encoding \u001b[39m=\u001b[39m \u001b[39mNone\u001b[39;00m \u001b[39mif\u001b[39;00m \u001b[39m\"\u001b[39m\u001b[39mb\u001b[39m\u001b[39m\"\u001b[39m \u001b[39min\u001b[39;00m mode \u001b[39melse\u001b[39;00m \u001b[39m\"\u001b[39m\u001b[39mutf8\u001b[39m\u001b[39m\"\u001b[39m\n\u001b[1;32m--> 171\u001b[0m     \u001b[39mwith\u001b[39;00m io\u001b[39m.\u001b[39;49mopen(filename, mode, encoding\u001b[39m=\u001b[39;49mencoding) \u001b[39mas\u001b[39;00m f:\n\u001b[0;32m    172\u001b[0m         compatify \u001b[39m=\u001b[39m compat\u001b[39m.\u001b[39mas_bytes \u001b[39mif\u001b[39;00m \u001b[39m\"\u001b[39m\u001b[39mb\u001b[39m\u001b[39m\"\u001b[39m \u001b[39min\u001b[39;00m mode \u001b[39melse\u001b[39;00m compat\u001b[39m.\u001b[39mas_text\n\u001b[0;32m    173\u001b[0m         f\u001b[39m.\u001b[39mwrite(compatify(file_content))\n",
      "\u001b[1;31mFileNotFoundError\u001b[0m: [Errno 2] No such file or directory: b'lightning_logs\\\\optuna\\\\version_0\\\\events.out.tfevents.1700728621.DESKTOP-58R1CDK.52884.1'"
     ]
    }
   ],
   "source": [
    "for unique_id in unique_ids[0:2]:\n",
    "\n",
    "    print(f'Currently training: {unique_id}')\n",
    "\n",
    "    df_base_models_train= pd.DataFrame({\n",
    "    'unique_id' : df_arima_train.unique_id,\n",
    "    'y_arima' : df_arima_train.y_hat,\n",
    "    'y_theta' : df_theta_train.y_hat,\n",
    "    'y_xgb' : df_xgb_train.y,\n",
    "    'y_gru' : df_gru_train.y_hat,\n",
    "    'y_lstm' : df_lstm_train.y_hat\n",
    "    })\n",
    "\n",
    "    df_base_models_test= pd.DataFrame({\n",
    "    'unique_id' : df_arima_test.unique_id,\n",
    "    'y_arima' : df_arima_test.y_hat,\n",
    "    'y_theta' : df_theta_test.y_hat,\n",
    "    'y_xgb' : df_xgb_test.y_hat,\n",
    "    'y_gru' : df_gru_test.y_hat,\n",
    "    'y_lstm' : df_lstm_test.y_hat\n",
    "    })\n",
    "\n",
    "    # Filter data for the current series (train and val data)\n",
    "    df = y_train_df[y_train_df['unique_id'] == unique_id].copy()\n",
    "    df['ds'] = (df['ds'] - df['ds'].min()).dt.total_seconds() // 3600\n",
    "    df['ds'] = df['ds'].astype(int)\n",
    "    df_train_val = pd.concat([df.iloc[-24*7:].reset_index(drop=True).drop(columns=['unique_id']), \n",
    "                              df_base_models_train[df_base_models_train['unique_id']==unique_id].reset_index(drop=True)], axis=1)\n",
    "    \n",
    "    # Test data\n",
    "    df = y_test_df.drop(columns=['y_hat_naive2'])[y_test_df['unique_id'] == unique_id].copy()\n",
    "    df['ds'] = (df['ds'] - df['ds'].min()).dt.total_seconds() // 3600 + df_train_val['ds'].max() + 1  #700\n",
    "    df['ds'] = df['ds'].astype(int)\n",
    "    df_test = pd.concat([df.reset_index(drop=True).drop(columns=['unique_id']), \n",
    "                         df_base_models_test[df_base_models_test['unique_id']==unique_id].reset_index(drop=True)], axis=1)\n",
    "\n",
    "    # Create the TimeSeriesDataSet for training\n",
    "    max_encoder_length = 24*7\n",
    "    max_prediction_length = 48\n",
    "\n",
    "    training = TimeSeriesDataSet(\n",
    "        df_train_val.iloc[:-max_prediction_length],\n",
    "        time_idx=\"ds\",\n",
    "        target=\"y\",\n",
    "        group_ids=['unique_id'],\n",
    "        max_encoder_length=max_encoder_length,\n",
    "        # min_encoder_length=max_encoder_length // 2,\n",
    "        min_encoder_length=1,\n",
    "        max_prediction_length=max_prediction_length,\n",
    "        # min_prediction_length=max_prediction_length // 2,\n",
    "        min_prediction_length=1,\n",
    "        time_varying_known_reals=['y_arima', 'y_theta', 'y_xgb', 'y_gru', 'y_lstm'],  # Base model forecasts\n",
    "        target_normalizer=GroupNormalizer(\n",
    "            groups=[\"unique_id\"], transformation=\"softplus\"\n",
    "        ),\n",
    "        add_relative_time_idx=True,\n",
    "        add_target_scales=True,\n",
    "        add_encoder_length=True,\n",
    "        # allow_missing_timesteps=Truex\n",
    "        )\n",
    "    \n",
    "    validation = TimeSeriesDataSet.from_dataset(training, df_train_val, predict=True, stop_randomization=True)\n",
    "\n",
    "    # creating the test data that includes the encoder and decoder data\n",
    "    encoder_data = df_train_val[lambda x: x.ds > x.ds.max() - max_encoder_length]\n",
    "    df_test.y = df_train_val.y[df_train_val.ds == df_train_val.ds.max()].values[0]\n",
    "    decoder_data = df_test\n",
    "    new_prediction_data = pd.concat([encoder_data, decoder_data], ignore_index=True)\n",
    "\n",
    "    batch_size = 64  # set this between 32 to 128\n",
    "    train_dataloader = training.to_dataloader(train=True, batch_size=batch_size, num_workers=0)\n",
    "    val_dataloader = validation.to_dataloader(train=False, batch_size=batch_size * 10, num_workers=0)\n",
    "    # test_dataloader = test.to_dataloader(train=False, batch_size=batch_size * 10, num_workers=0)\n",
    "\n",
    "    # ### TUNING\n",
    "    # study = optimize_hyperparameters(\n",
    "    #     train_dataloader,\n",
    "    #     val_dataloader,\n",
    "    #     model_path=\"optuna_tune_test\",\n",
    "    #     n_trials = 10,\n",
    "    #     max_epochs = 50,\n",
    "    #     # learning_rate_range=[0.01, 0.001, 0.0001],\n",
    "    #     # dropout_range=[0.1, 0.2, 0.3, 0.4],\n",
    "    #     trainer_kwargs=dict(limit_train_batches=30),\n",
    "    #     reduce_on_plateau_patience=4,\n",
    "    #     use_learning_rate_finder=False\n",
    "    # )\n",
    "\n",
    "    # with open(f\"study_{unique_id}.pkl\", \"wb\") as fout:\n",
    "    #     pickle.dump(study, fout)\n",
    "\n",
    "    # print(study.best_trial.params)\n",
    "\n",
    "    # ### END TUNING\n",
    "\n",
    "    # configure network and trainer\n",
    "    early_stop_callback = EarlyStopping(monitor=\"val_loss\", min_delta=1e-5, patience=50, verbose=False, mode=\"min\")\n",
    "    lr_logger = LearningRateMonitor()  # log the learning rate\n",
    "    logger = TensorBoardLogger(\"lightning_logs\")  # logging results to a tensorboard\n",
    "\n",
    "    trainer = pl.Trainer(\n",
    "        max_epochs=150,\n",
    "        accelerator=\"gpu\",\n",
    "        # enable_model_summary=True,\n",
    "        gradient_clip_val=0.43012832204522905,\n",
    "        limit_train_batches=50,  # coment in for training, running valiation every 30 batches\n",
    "        # fast_dev_run=True,  # comment in to check that networkor dataset has no serious bugs\n",
    "        callbacks=[early_stop_callback],\n",
    "        logger=False,\n",
    "        enable_model_summary=False\n",
    "    )\n",
    "\n",
    "    tft = TemporalFusionTransformer.from_dataset(\n",
    "        training,\n",
    "        learning_rate=0.05352813757705075,\n",
    "        hidden_size=60,\n",
    "        attention_head_size=4,\n",
    "        dropout=0.12384425005697666,\n",
    "        hidden_continuous_size=27,\n",
    "        loss=SMAPE(),\n",
    "        # log_interval=10,  # uncomment for learning rate finder and otherwise, e.g. to 10 for logging every 10 batches\n",
    "        optimizer=\"Ranger\",\n",
    "        reduce_on_plateau_patience=4,\n",
    "        # print_summary=False\n",
    "    )\n",
    "\n",
    "\n",
    "    trainer.fit(\n",
    "    tft,\n",
    "    train_dataloaders=train_dataloader,\n",
    "    val_dataloaders=val_dataloader,\n",
    "    )\n",
    "\n",
    "    # predictions = tft.predict(test_dataloader, return_y=False, trainer_kwargs=dict(accelerator=\"gpu\"))\n",
    "    new_raw_predictions = tft.predict(new_prediction_data, mode=\"raw\", return_x=True, trainer_kwargs=dict(accelerator=\"gpu\"))\n",
    "    all_forecasts[unique_id] = new_raw_predictions.output.prediction.cpu().numpy().flatten()\n",
    "\n"
   ]
  },
  {
   "cell_type": "code",
   "execution_count": null,
   "metadata": {},
   "outputs": [],
   "source": []
  },
  {
   "cell_type": "code",
   "execution_count": null,
   "metadata": {},
   "outputs": [],
   "source": []
  },
  {
   "cell_type": "code",
   "execution_count": null,
   "metadata": {},
   "outputs": [],
   "source": []
  },
  {
   "cell_type": "code",
   "execution_count": null,
   "metadata": {},
   "outputs": [],
   "source": []
  },
  {
   "cell_type": "code",
   "execution_count": null,
   "metadata": {},
   "outputs": [],
   "source": []
  },
  {
   "cell_type": "code",
   "execution_count": 1,
   "metadata": {},
   "outputs": [
    {
     "name": "stderr",
     "output_type": "stream",
     "text": [
      "c:\\Users\\sonng\\anaconda3\\envs\\tsff_env\\lib\\site-packages\\pytorch_forecasting\\models\\base_model.py:30: TqdmWarning: IProgress not found. Please update jupyter and ipywidgets. See https://ipywidgets.readthedocs.io/en/stable/user_install.html\n",
      "  from tqdm.autonotebook import tqdm\n"
     ]
    }
   ],
   "source": [
    "import lightning.pytorch as pl\n",
    "from lightning.pytorch.callbacks import EarlyStopping, LearningRateMonitor\n",
    "from lightning.pytorch.loggers import TensorBoardLogger\n",
    "import torch\n",
    "import numpy as np\n",
    "import pandas as pd\n",
    "\n",
    "from pytorch_forecasting import Baseline, TemporalFusionTransformer, TimeSeriesDataSet\n",
    "from pytorch_forecasting.data import GroupNormalizer\n",
    "from pytorch_forecasting.metrics import MAE, SMAPE, PoissonLoss, QuantileLoss\n",
    "from pytorch_forecasting.models.temporal_fusion_transformer.tuning import optimize_hyperparameters"
   ]
  },
  {
   "cell_type": "code",
   "execution_count": 2,
   "metadata": {},
   "outputs": [],
   "source": [
    "from ESRNN.m4_data import *\n",
    "from ESRNN.utils_evaluation import evaluate_prediction_owa\n",
    "from ESRNN.utils_visualization import plot_grid_prediction"
   ]
  },
  {
   "cell_type": "code",
   "execution_count": 5,
   "metadata": {},
   "outputs": [
    {
     "name": "stdout",
     "output_type": "stream",
     "text": [
      "\n",
      "\n"
     ]
    }
   ],
   "source": [
    "X_train_df, y_train_df, X_test_df, y_test_df = prepare_m4_data(dataset_name=\"Hourly\",\n",
    "                                                               directory=\"../../data/M4\",\n",
    "                                                               num_obs=414)"
   ]
  },
  {
   "cell_type": "code",
   "execution_count": 6,
   "metadata": {},
   "outputs": [],
   "source": [
    "y_train_h1 = y_train_df[y_train_df['unique_id']=='H1']"
   ]
  },
  {
   "cell_type": "code",
   "execution_count": 7,
   "metadata": {},
   "outputs": [
    {
     "data": {
      "text/html": [
       "<div>\n",
       "<style scoped>\n",
       "    .dataframe tbody tr th:only-of-type {\n",
       "        vertical-align: middle;\n",
       "    }\n",
       "\n",
       "    .dataframe tbody tr th {\n",
       "        vertical-align: top;\n",
       "    }\n",
       "\n",
       "    .dataframe thead th {\n",
       "        text-align: right;\n",
       "    }\n",
       "</style>\n",
       "<table border=\"1\" class=\"dataframe\">\n",
       "  <thead>\n",
       "    <tr style=\"text-align: right;\">\n",
       "      <th></th>\n",
       "      <th>unique_id</th>\n",
       "      <th>ds</th>\n",
       "      <th>y</th>\n",
       "    </tr>\n",
       "  </thead>\n",
       "  <tbody>\n",
       "    <tr>\n",
       "      <th>0</th>\n",
       "      <td>H1</td>\n",
       "      <td>0</td>\n",
       "      <td>605.0</td>\n",
       "    </tr>\n",
       "    <tr>\n",
       "      <th>1</th>\n",
       "      <td>H1</td>\n",
       "      <td>1</td>\n",
       "      <td>586.0</td>\n",
       "    </tr>\n",
       "    <tr>\n",
       "      <th>2</th>\n",
       "      <td>H1</td>\n",
       "      <td>2</td>\n",
       "      <td>586.0</td>\n",
       "    </tr>\n",
       "    <tr>\n",
       "      <th>3</th>\n",
       "      <td>H1</td>\n",
       "      <td>3</td>\n",
       "      <td>559.0</td>\n",
       "    </tr>\n",
       "    <tr>\n",
       "      <th>4</th>\n",
       "      <td>H1</td>\n",
       "      <td>4</td>\n",
       "      <td>511.0</td>\n",
       "    </tr>\n",
       "    <tr>\n",
       "      <th>...</th>\n",
       "      <td>...</td>\n",
       "      <td>...</td>\n",
       "      <td>...</td>\n",
       "    </tr>\n",
       "    <tr>\n",
       "      <th>695</th>\n",
       "      <td>H1</td>\n",
       "      <td>695</td>\n",
       "      <td>790.0</td>\n",
       "    </tr>\n",
       "    <tr>\n",
       "      <th>696</th>\n",
       "      <td>H1</td>\n",
       "      <td>696</td>\n",
       "      <td>784.0</td>\n",
       "    </tr>\n",
       "    <tr>\n",
       "      <th>697</th>\n",
       "      <td>H1</td>\n",
       "      <td>697</td>\n",
       "      <td>752.0</td>\n",
       "    </tr>\n",
       "    <tr>\n",
       "      <th>698</th>\n",
       "      <td>H1</td>\n",
       "      <td>698</td>\n",
       "      <td>739.0</td>\n",
       "    </tr>\n",
       "    <tr>\n",
       "      <th>699</th>\n",
       "      <td>H1</td>\n",
       "      <td>699</td>\n",
       "      <td>684.0</td>\n",
       "    </tr>\n",
       "  </tbody>\n",
       "</table>\n",
       "<p>700 rows × 3 columns</p>\n",
       "</div>"
      ],
      "text/plain": [
       "    unique_id   ds      y\n",
       "0          H1    0  605.0\n",
       "1          H1    1  586.0\n",
       "2          H1    2  586.0\n",
       "3          H1    3  559.0\n",
       "4          H1    4  511.0\n",
       "..        ...  ...    ...\n",
       "695        H1  695  790.0\n",
       "696        H1  696  784.0\n",
       "697        H1  697  752.0\n",
       "698        H1  698  739.0\n",
       "699        H1  699  684.0\n",
       "\n",
       "[700 rows x 3 columns]"
      ]
     },
     "execution_count": 7,
     "metadata": {},
     "output_type": "execute_result"
    }
   ],
   "source": [
    "df = pd.DataFrame()\n",
    "df = y_train_h1.copy()\n",
    "df['ds'] = (df['ds'] - df['ds'].min()).dt.total_seconds() // 3600\n",
    "df['ds'] = df['ds'].astype(int)\n",
    "df"
   ]
  },
  {
   "cell_type": "code",
   "execution_count": 8,
   "metadata": {},
   "outputs": [],
   "source": [
    "max_encoder_length = 24*7\n",
    "max_prediction_length = 48"
   ]
  },
  {
   "cell_type": "code",
   "execution_count": 9,
   "metadata": {},
   "outputs": [],
   "source": [
    "training = TimeSeriesDataSet(\n",
    "    df.iloc[:-48],\n",
    "    time_idx=\"ds\",\n",
    "    target=\"y\",\n",
    "    group_ids=['unique_id'],\n",
    "    min_encoder_length=max_encoder_length // 2,\n",
    "    min_prediction_length=1,\n",
    "    max_encoder_length=max_encoder_length,\n",
    "    max_prediction_length=max_prediction_length,\n",
    "    target_normalizer=GroupNormalizer(\n",
    "        groups=[\"unique_id\"], transformation=\"softplus\"\n",
    "    ),\n",
    "    add_relative_time_idx=True,\n",
    "    add_target_scales=True,\n",
    "    add_encoder_length=True,\n",
    ")"
   ]
  },
  {
   "cell_type": "code",
   "execution_count": 10,
   "metadata": {},
   "outputs": [],
   "source": [
    "validation = TimeSeriesDataSet.from_dataset(training, df, predict=True, stop_randomization=True)\n",
    "\n",
    "batch_size = 128  # set this between 32 to 128\n",
    "train_dataloader = training.to_dataloader(train=True, batch_size=batch_size, num_workers=0)\n",
    "val_dataloader = validation.to_dataloader(train=False, batch_size=batch_size * 10, num_workers=0)"
   ]
  },
  {
   "cell_type": "code",
   "execution_count": 11,
   "metadata": {},
   "outputs": [
    {
     "name": "stderr",
     "output_type": "stream",
     "text": [
      "[I 2023-11-23 09:50:08,137] A new study created in memory with name: no-name-4806bdfb-bcaa-40eb-af1c-b11769b2430a\n",
      "c:\\Users\\sonng\\anaconda3\\envs\\tsff_env\\lib\\site-packages\\pytorch_forecasting\\models\\temporal_fusion_transformer\\tuning.py:124: FutureWarning: suggest_loguniform has been deprecated in v3.0.0. This feature will be removed in v6.0.0. See https://github.com/optuna/optuna/releases/tag/v3.0.0. Use suggest_float(..., log=True) instead.\n",
      "  gradient_clip_val = trial.suggest_loguniform(\"gradient_clip_val\", *gradient_clip_val_range)\n",
      "GPU available: True (cuda), used: True\n",
      "TPU available: False, using: 0 TPU cores\n",
      "IPU available: False, using: 0 IPUs\n",
      "HPU available: False, using: 0 HPUs\n",
      "c:\\Users\\sonng\\anaconda3\\envs\\tsff_env\\lib\\site-packages\\pytorch_forecasting\\models\\temporal_fusion_transformer\\tuning.py:148: FutureWarning: suggest_uniform has been deprecated in v3.0.0. This feature will be removed in v6.0.0. See https://github.com/optuna/optuna/releases/tag/v3.0.0. Use suggest_float instead.\n",
      "  dropout=trial.suggest_uniform(\"dropout\", *dropout_range),\n",
      "c:\\Users\\sonng\\anaconda3\\envs\\tsff_env\\lib\\site-packages\\lightning\\pytorch\\utilities\\parsing.py:198: Attribute 'loss' is an instance of `nn.Module` and is already saved during checkpointing. It is recommended to ignore them using `self.save_hyperparameters(ignore=['loss'])`.\n",
      "c:\\Users\\sonng\\anaconda3\\envs\\tsff_env\\lib\\site-packages\\lightning\\pytorch\\utilities\\parsing.py:198: Attribute 'logging_metrics' is an instance of `nn.Module` and is already saved during checkpointing. It is recommended to ignore them using `self.save_hyperparameters(ignore=['logging_metrics'])`.\n",
      "c:\\Users\\sonng\\anaconda3\\envs\\tsff_env\\lib\\site-packages\\pytorch_forecasting\\models\\temporal_fusion_transformer\\tuning.py:196: FutureWarning: suggest_loguniform has been deprecated in v3.0.0. This feature will be removed in v6.0.0. See https://github.com/optuna/optuna/releases/tag/v3.0.0. Use suggest_float(..., log=True) instead.\n",
      "  model.hparams.learning_rate = trial.suggest_loguniform(\"learning_rate\", *learning_rate_range)\n",
      "Exception in thread Thread-5:\n",
      "Traceback (most recent call last):\n",
      "  File \"c:\\Users\\sonng\\anaconda3\\envs\\tsff_env\\lib\\threading.py\", line 950, in _bootstrap_inner\n",
      "    self.run()\n",
      "  File \"c:\\Users\\sonng\\anaconda3\\envs\\tsff_env\\lib\\site-packages\\tensorboard\\summary\\writer\\event_file_writer.py\", line 244, in run\n",
      "    self._run()\n",
      "  File \"c:\\Users\\sonng\\anaconda3\\envs\\tsff_env\\lib\\site-packages\\tensorboard\\summary\\writer\\event_file_writer.py\", line 275, in _run\n",
      "    self._record_writer.write(data)\n",
      "  File \"c:\\Users\\sonng\\anaconda3\\envs\\tsff_env\\lib\\site-packages\\tensorboard\\summary\\writer\\record_writer.py\", line 40, in write\n",
      "    self._writer.write(header + header_crc + data + footer_crc)\n",
      "  File \"c:\\Users\\sonng\\anaconda3\\envs\\tsff_env\\lib\\site-packages\\tensorboard\\compat\\tensorflow_stub\\io\\gfile.py\", line 768, in write\n",
      "    self.fs.write(self.filename, file_content, self.binary_mode)\n",
      "  File \"c:\\Users\\sonng\\anaconda3\\envs\\tsff_env\\lib\\site-packages\\tensorboard\\compat\\tensorflow_stub\\io\\gfile.py\", line 157, in write\n",
      "    self._write(filename, file_content, \"wb\" if binary_mode else \"w\")\n",
      "  File \"c:\\Users\\sonng\\anaconda3\\envs\\tsff_env\\lib\\site-packages\\tensorboard\\compat\\tensorflow_stub\\io\\gfile.py\", line 171, in _write\n",
      "    with io.open(filename, mode, encoding=encoding) as f:\n",
      "FileNotFoundError: [Errno 2] No such file or directory: b'lightning_logs\\\\optuna\\\\version_0\\\\events.out.tfevents.1700729408.DESKTOP-58R1CDK.62732.0'\n",
      "[W 2023-11-23 09:50:08,595] Trial 0 failed with parameters: {'gradient_clip_val': 0.10142548479940544, 'hidden_size': 10, 'dropout': 0.28724663603492795, 'hidden_continuous_size': 10, 'attention_head_size': 1, 'learning_rate': 0.0966573924167218} because of the following error: FileNotFoundError(2, 'No such file or directory').\n",
      "Traceback (most recent call last):\n",
      "  File \"c:\\Users\\sonng\\anaconda3\\envs\\tsff_env\\lib\\site-packages\\optuna\\study\\_optimize.py\", line 200, in _run_trial\n",
      "    value_or_values = func(trial)\n",
      "  File \"c:\\Users\\sonng\\anaconda3\\envs\\tsff_env\\lib\\site-packages\\pytorch_forecasting\\models\\temporal_fusion_transformer\\tuning.py\", line 199, in objective\n",
      "    trainer.fit(model, train_dataloaders=train_dataloaders, val_dataloaders=val_dataloaders)\n",
      "  File \"c:\\Users\\sonng\\anaconda3\\envs\\tsff_env\\lib\\site-packages\\lightning\\pytorch\\trainer\\trainer.py\", line 544, in fit\n",
      "    call._call_and_handle_interrupt(\n",
      "  File \"c:\\Users\\sonng\\anaconda3\\envs\\tsff_env\\lib\\site-packages\\lightning\\pytorch\\trainer\\call.py\", line 44, in _call_and_handle_interrupt\n",
      "    return trainer_fn(*args, **kwargs)\n",
      "  File \"c:\\Users\\sonng\\anaconda3\\envs\\tsff_env\\lib\\site-packages\\lightning\\pytorch\\trainer\\trainer.py\", line 580, in _fit_impl\n",
      "    self._run(model, ckpt_path=ckpt_path)\n",
      "  File \"c:\\Users\\sonng\\anaconda3\\envs\\tsff_env\\lib\\site-packages\\lightning\\pytorch\\trainer\\trainer.py\", line 950, in _run\n",
      "    call._call_setup_hook(self)  # allow user to setup lightning_module in accelerator environment\n",
      "  File \"c:\\Users\\sonng\\anaconda3\\envs\\tsff_env\\lib\\site-packages\\lightning\\pytorch\\trainer\\call.py\", line 86, in _call_setup_hook\n",
      "    if hasattr(logger, \"experiment\"):\n",
      "  File \"c:\\Users\\sonng\\anaconda3\\envs\\tsff_env\\lib\\site-packages\\lightning\\fabric\\loggers\\logger.py\", line 118, in experiment\n",
      "    return fn(self)\n",
      "  File \"c:\\Users\\sonng\\anaconda3\\envs\\tsff_env\\lib\\site-packages\\lightning\\fabric\\loggers\\tensorboard.py\", line 191, in experiment\n",
      "    self._experiment = SummaryWriter(log_dir=self.log_dir, **self._kwargs)\n",
      "  File \"c:\\Users\\sonng\\anaconda3\\envs\\tsff_env\\lib\\site-packages\\torch\\utils\\tensorboard\\writer.py\", line 243, in __init__\n",
      "    self._get_file_writer()\n",
      "  File \"c:\\Users\\sonng\\anaconda3\\envs\\tsff_env\\lib\\site-packages\\torch\\utils\\tensorboard\\writer.py\", line 273, in _get_file_writer\n",
      "    self.file_writer = FileWriter(\n",
      "  File \"c:\\Users\\sonng\\anaconda3\\envs\\tsff_env\\lib\\site-packages\\torch\\utils\\tensorboard\\writer.py\", line 72, in __init__\n",
      "    self.event_writer = EventFileWriter(\n",
      "  File \"c:\\Users\\sonng\\anaconda3\\envs\\tsff_env\\lib\\site-packages\\tensorboard\\summary\\writer\\event_file_writer.py\", line 100, in __init__\n",
      "    self.flush()\n",
      "  File \"c:\\Users\\sonng\\anaconda3\\envs\\tsff_env\\lib\\site-packages\\tensorboard\\summary\\writer\\event_file_writer.py\", line 125, in flush\n",
      "    self._async_writer.flush()\n",
      "  File \"c:\\Users\\sonng\\anaconda3\\envs\\tsff_env\\lib\\site-packages\\tensorboard\\summary\\writer\\event_file_writer.py\", line 194, in flush\n",
      "    self._check_worker_status()\n",
      "  File \"c:\\Users\\sonng\\anaconda3\\envs\\tsff_env\\lib\\site-packages\\tensorboard\\summary\\writer\\event_file_writer.py\", line 212, in _check_worker_status\n",
      "    raise exception\n",
      "  File \"c:\\Users\\sonng\\anaconda3\\envs\\tsff_env\\lib\\threading.py\", line 950, in _bootstrap_inner\n",
      "    self.run()\n",
      "  File \"c:\\Users\\sonng\\anaconda3\\envs\\tsff_env\\lib\\site-packages\\tensorboard\\summary\\writer\\event_file_writer.py\", line 244, in run\n",
      "    self._run()\n",
      "  File \"c:\\Users\\sonng\\anaconda3\\envs\\tsff_env\\lib\\site-packages\\tensorboard\\summary\\writer\\event_file_writer.py\", line 275, in _run\n",
      "    self._record_writer.write(data)\n",
      "  File \"c:\\Users\\sonng\\anaconda3\\envs\\tsff_env\\lib\\site-packages\\tensorboard\\summary\\writer\\record_writer.py\", line 40, in write\n",
      "    self._writer.write(header + header_crc + data + footer_crc)\n",
      "  File \"c:\\Users\\sonng\\anaconda3\\envs\\tsff_env\\lib\\site-packages\\tensorboard\\compat\\tensorflow_stub\\io\\gfile.py\", line 768, in write\n",
      "    self.fs.write(self.filename, file_content, self.binary_mode)\n",
      "  File \"c:\\Users\\sonng\\anaconda3\\envs\\tsff_env\\lib\\site-packages\\tensorboard\\compat\\tensorflow_stub\\io\\gfile.py\", line 157, in write\n",
      "    self._write(filename, file_content, \"wb\" if binary_mode else \"w\")\n",
      "  File \"c:\\Users\\sonng\\anaconda3\\envs\\tsff_env\\lib\\site-packages\\tensorboard\\compat\\tensorflow_stub\\io\\gfile.py\", line 171, in _write\n",
      "    with io.open(filename, mode, encoding=encoding) as f:\n",
      "FileNotFoundError: [Errno 2] No such file or directory: b'lightning_logs\\\\optuna\\\\version_0\\\\events.out.tfevents.1700729408.DESKTOP-58R1CDK.62732.0'\n",
      "[W 2023-11-23 09:50:08,604] Trial 0 failed with value None.\n"
     ]
    },
    {
     "ename": "FileNotFoundError",
     "evalue": "[Errno 2] No such file or directory: b'lightning_logs\\\\optuna\\\\version_0\\\\events.out.tfevents.1700729408.DESKTOP-58R1CDK.62732.0'",
     "output_type": "error",
     "traceback": [
      "\u001b[1;31m---------------------------------------------------------------------------\u001b[0m",
      "\u001b[1;31mFileNotFoundError\u001b[0m                         Traceback (most recent call last)",
      "\u001b[1;32mc:\\Users\\sonng\\Desktop\\Important Files - Sep 2023\\Hildesheim University - Masters in Data Analytics\\Master Thesis\\Code\\Git\\TSFusionForecast\\TSFusionForecast\\notebooks\\TFT_model\\TFT_model_m4_test_tune.ipynb Cell 23\u001b[0m line \u001b[0;36m6\n\u001b[0;32m      <a href='vscode-notebook-cell:/c%3A/Users/sonng/Desktop/Important%20Files%20-%20Sep%202023/Hildesheim%20University%20-%20Masters%20in%20Data%20Analytics/Master%20Thesis/Code/Git/TSFusionForecast/TSFusionForecast/notebooks/TFT_model/TFT_model_m4_test_tune.ipynb#X33sZmlsZQ%3D%3D?line=2'>3</a>\u001b[0m \u001b[39mfrom\u001b[39;00m \u001b[39mpytorch_forecasting\u001b[39;00m\u001b[39m.\u001b[39;00m\u001b[39mmodels\u001b[39;00m\u001b[39m.\u001b[39;00m\u001b[39mtemporal_fusion_transformer\u001b[39;00m\u001b[39m.\u001b[39;00m\u001b[39mtuning\u001b[39;00m \u001b[39mimport\u001b[39;00m optimize_hyperparameters\n\u001b[0;32m      <a href='vscode-notebook-cell:/c%3A/Users/sonng/Desktop/Important%20Files%20-%20Sep%202023/Hildesheim%20University%20-%20Masters%20in%20Data%20Analytics/Master%20Thesis/Code/Git/TSFusionForecast/TSFusionForecast/notebooks/TFT_model/TFT_model_m4_test_tune.ipynb#X33sZmlsZQ%3D%3D?line=4'>5</a>\u001b[0m \u001b[39m# create study\u001b[39;00m\n\u001b[1;32m----> <a href='vscode-notebook-cell:/c%3A/Users/sonng/Desktop/Important%20Files%20-%20Sep%202023/Hildesheim%20University%20-%20Masters%20in%20Data%20Analytics/Master%20Thesis/Code/Git/TSFusionForecast/TSFusionForecast/notebooks/TFT_model/TFT_model_m4_test_tune.ipynb#X33sZmlsZQ%3D%3D?line=5'>6</a>\u001b[0m study \u001b[39m=\u001b[39m optimize_hyperparameters(\n\u001b[0;32m      <a href='vscode-notebook-cell:/c%3A/Users/sonng/Desktop/Important%20Files%20-%20Sep%202023/Hildesheim%20University%20-%20Masters%20in%20Data%20Analytics/Master%20Thesis/Code/Git/TSFusionForecast/TSFusionForecast/notebooks/TFT_model/TFT_model_m4_test_tune.ipynb#X33sZmlsZQ%3D%3D?line=6'>7</a>\u001b[0m     train_dataloader,\n\u001b[0;32m      <a href='vscode-notebook-cell:/c%3A/Users/sonng/Desktop/Important%20Files%20-%20Sep%202023/Hildesheim%20University%20-%20Masters%20in%20Data%20Analytics/Master%20Thesis/Code/Git/TSFusionForecast/TSFusionForecast/notebooks/TFT_model/TFT_model_m4_test_tune.ipynb#X33sZmlsZQ%3D%3D?line=7'>8</a>\u001b[0m     val_dataloader,\n\u001b[0;32m      <a href='vscode-notebook-cell:/c%3A/Users/sonng/Desktop/Important%20Files%20-%20Sep%202023/Hildesheim%20University%20-%20Masters%20in%20Data%20Analytics/Master%20Thesis/Code/Git/TSFusionForecast/TSFusionForecast/notebooks/TFT_model/TFT_model_m4_test_tune.ipynb#X33sZmlsZQ%3D%3D?line=8'>9</a>\u001b[0m     model_path\u001b[39m=\u001b[39;49m\u001b[39m\"\u001b[39;49m\u001b[39moptuna_test\u001b[39;49m\u001b[39m\"\u001b[39;49m,\n\u001b[0;32m     <a href='vscode-notebook-cell:/c%3A/Users/sonng/Desktop/Important%20Files%20-%20Sep%202023/Hildesheim%20University%20-%20Masters%20in%20Data%20Analytics/Master%20Thesis/Code/Git/TSFusionForecast/TSFusionForecast/notebooks/TFT_model/TFT_model_m4_test_tune.ipynb#X33sZmlsZQ%3D%3D?line=9'>10</a>\u001b[0m     n_trials\u001b[39m=\u001b[39;49m\u001b[39m200\u001b[39;49m,\n\u001b[0;32m     <a href='vscode-notebook-cell:/c%3A/Users/sonng/Desktop/Important%20Files%20-%20Sep%202023/Hildesheim%20University%20-%20Masters%20in%20Data%20Analytics/Master%20Thesis/Code/Git/TSFusionForecast/TSFusionForecast/notebooks/TFT_model/TFT_model_m4_test_tune.ipynb#X33sZmlsZQ%3D%3D?line=10'>11</a>\u001b[0m     max_epochs\u001b[39m=\u001b[39;49m\u001b[39m50\u001b[39;49m,\n\u001b[0;32m     <a href='vscode-notebook-cell:/c%3A/Users/sonng/Desktop/Important%20Files%20-%20Sep%202023/Hildesheim%20University%20-%20Masters%20in%20Data%20Analytics/Master%20Thesis/Code/Git/TSFusionForecast/TSFusionForecast/notebooks/TFT_model/TFT_model_m4_test_tune.ipynb#X33sZmlsZQ%3D%3D?line=11'>12</a>\u001b[0m     gradient_clip_val_range\u001b[39m=\u001b[39;49m(\u001b[39m0.01\u001b[39;49m, \u001b[39m1.0\u001b[39;49m),\n\u001b[0;32m     <a href='vscode-notebook-cell:/c%3A/Users/sonng/Desktop/Important%20Files%20-%20Sep%202023/Hildesheim%20University%20-%20Masters%20in%20Data%20Analytics/Master%20Thesis/Code/Git/TSFusionForecast/TSFusionForecast/notebooks/TFT_model/TFT_model_m4_test_tune.ipynb#X33sZmlsZQ%3D%3D?line=12'>13</a>\u001b[0m     hidden_size_range\u001b[39m=\u001b[39;49m(\u001b[39m8\u001b[39;49m, \u001b[39m128\u001b[39;49m),\n\u001b[0;32m     <a href='vscode-notebook-cell:/c%3A/Users/sonng/Desktop/Important%20Files%20-%20Sep%202023/Hildesheim%20University%20-%20Masters%20in%20Data%20Analytics/Master%20Thesis/Code/Git/TSFusionForecast/TSFusionForecast/notebooks/TFT_model/TFT_model_m4_test_tune.ipynb#X33sZmlsZQ%3D%3D?line=13'>14</a>\u001b[0m     hidden_continuous_size_range\u001b[39m=\u001b[39;49m(\u001b[39m8\u001b[39;49m, \u001b[39m128\u001b[39;49m),\n\u001b[0;32m     <a href='vscode-notebook-cell:/c%3A/Users/sonng/Desktop/Important%20Files%20-%20Sep%202023/Hildesheim%20University%20-%20Masters%20in%20Data%20Analytics/Master%20Thesis/Code/Git/TSFusionForecast/TSFusionForecast/notebooks/TFT_model/TFT_model_m4_test_tune.ipynb#X33sZmlsZQ%3D%3D?line=14'>15</a>\u001b[0m     attention_head_size_range\u001b[39m=\u001b[39;49m(\u001b[39m1\u001b[39;49m, \u001b[39m4\u001b[39;49m),\n\u001b[0;32m     <a href='vscode-notebook-cell:/c%3A/Users/sonng/Desktop/Important%20Files%20-%20Sep%202023/Hildesheim%20University%20-%20Masters%20in%20Data%20Analytics/Master%20Thesis/Code/Git/TSFusionForecast/TSFusionForecast/notebooks/TFT_model/TFT_model_m4_test_tune.ipynb#X33sZmlsZQ%3D%3D?line=15'>16</a>\u001b[0m     learning_rate_range\u001b[39m=\u001b[39;49m(\u001b[39m0.001\u001b[39;49m, \u001b[39m0.1\u001b[39;49m),\n\u001b[0;32m     <a href='vscode-notebook-cell:/c%3A/Users/sonng/Desktop/Important%20Files%20-%20Sep%202023/Hildesheim%20University%20-%20Masters%20in%20Data%20Analytics/Master%20Thesis/Code/Git/TSFusionForecast/TSFusionForecast/notebooks/TFT_model/TFT_model_m4_test_tune.ipynb#X33sZmlsZQ%3D%3D?line=16'>17</a>\u001b[0m     dropout_range\u001b[39m=\u001b[39;49m(\u001b[39m0.1\u001b[39;49m, \u001b[39m0.3\u001b[39;49m),\n\u001b[0;32m     <a href='vscode-notebook-cell:/c%3A/Users/sonng/Desktop/Important%20Files%20-%20Sep%202023/Hildesheim%20University%20-%20Masters%20in%20Data%20Analytics/Master%20Thesis/Code/Git/TSFusionForecast/TSFusionForecast/notebooks/TFT_model/TFT_model_m4_test_tune.ipynb#X33sZmlsZQ%3D%3D?line=17'>18</a>\u001b[0m     trainer_kwargs\u001b[39m=\u001b[39;49m\u001b[39mdict\u001b[39;49m(limit_train_batches\u001b[39m=\u001b[39;49m\u001b[39m30\u001b[39;49m),\n\u001b[0;32m     <a href='vscode-notebook-cell:/c%3A/Users/sonng/Desktop/Important%20Files%20-%20Sep%202023/Hildesheim%20University%20-%20Masters%20in%20Data%20Analytics/Master%20Thesis/Code/Git/TSFusionForecast/TSFusionForecast/notebooks/TFT_model/TFT_model_m4_test_tune.ipynb#X33sZmlsZQ%3D%3D?line=18'>19</a>\u001b[0m     reduce_on_plateau_patience\u001b[39m=\u001b[39;49m\u001b[39m4\u001b[39;49m,\n\u001b[0;32m     <a href='vscode-notebook-cell:/c%3A/Users/sonng/Desktop/Important%20Files%20-%20Sep%202023/Hildesheim%20University%20-%20Masters%20in%20Data%20Analytics/Master%20Thesis/Code/Git/TSFusionForecast/TSFusionForecast/notebooks/TFT_model/TFT_model_m4_test_tune.ipynb#X33sZmlsZQ%3D%3D?line=19'>20</a>\u001b[0m     use_learning_rate_finder\u001b[39m=\u001b[39;49m\u001b[39mFalse\u001b[39;49;00m,  \u001b[39m# use Optuna to find ideal learning rate or use in-built learning rate finder\u001b[39;49;00m\n\u001b[0;32m     <a href='vscode-notebook-cell:/c%3A/Users/sonng/Desktop/Important%20Files%20-%20Sep%202023/Hildesheim%20University%20-%20Masters%20in%20Data%20Analytics/Master%20Thesis/Code/Git/TSFusionForecast/TSFusionForecast/notebooks/TFT_model/TFT_model_m4_test_tune.ipynb#X33sZmlsZQ%3D%3D?line=20'>21</a>\u001b[0m )\n\u001b[0;32m     <a href='vscode-notebook-cell:/c%3A/Users/sonng/Desktop/Important%20Files%20-%20Sep%202023/Hildesheim%20University%20-%20Masters%20in%20Data%20Analytics/Master%20Thesis/Code/Git/TSFusionForecast/TSFusionForecast/notebooks/TFT_model/TFT_model_m4_test_tune.ipynb#X33sZmlsZQ%3D%3D?line=22'>23</a>\u001b[0m \u001b[39m# save study results - also we can resume tuning at a later point in time\u001b[39;00m\n\u001b[0;32m     <a href='vscode-notebook-cell:/c%3A/Users/sonng/Desktop/Important%20Files%20-%20Sep%202023/Hildesheim%20University%20-%20Masters%20in%20Data%20Analytics/Master%20Thesis/Code/Git/TSFusionForecast/TSFusionForecast/notebooks/TFT_model/TFT_model_m4_test_tune.ipynb#X33sZmlsZQ%3D%3D?line=23'>24</a>\u001b[0m \u001b[39mwith\u001b[39;00m \u001b[39mopen\u001b[39m(\u001b[39m\"\u001b[39m\u001b[39mtest_study.pkl\u001b[39m\u001b[39m\"\u001b[39m, \u001b[39m\"\u001b[39m\u001b[39mwb\u001b[39m\u001b[39m\"\u001b[39m) \u001b[39mas\u001b[39;00m fout:\n",
      "File \u001b[1;32mc:\\Users\\sonng\\anaconda3\\envs\\tsff_env\\lib\\site-packages\\pytorch_forecasting\\models\\temporal_fusion_transformer\\tuning.py:207\u001b[0m, in \u001b[0;36moptimize_hyperparameters\u001b[1;34m(train_dataloaders, val_dataloaders, model_path, max_epochs, n_trials, timeout, gradient_clip_val_range, hidden_size_range, hidden_continuous_size_range, attention_head_size_range, dropout_range, learning_rate_range, use_learning_rate_finder, trainer_kwargs, log_dir, study, verbose, pruner, **kwargs)\u001b[0m\n\u001b[0;32m    205\u001b[0m \u001b[39mif\u001b[39;00m study \u001b[39mis\u001b[39;00m \u001b[39mNone\u001b[39;00m:\n\u001b[0;32m    206\u001b[0m     study \u001b[39m=\u001b[39m optuna\u001b[39m.\u001b[39mcreate_study(direction\u001b[39m=\u001b[39m\u001b[39m\"\u001b[39m\u001b[39mminimize\u001b[39m\u001b[39m\"\u001b[39m, pruner\u001b[39m=\u001b[39mpruner)\n\u001b[1;32m--> 207\u001b[0m study\u001b[39m.\u001b[39;49moptimize(objective, n_trials\u001b[39m=\u001b[39;49mn_trials, timeout\u001b[39m=\u001b[39;49mtimeout)\n\u001b[0;32m    208\u001b[0m \u001b[39mreturn\u001b[39;00m study\n",
      "File \u001b[1;32mc:\\Users\\sonng\\anaconda3\\envs\\tsff_env\\lib\\site-packages\\optuna\\study\\study.py:451\u001b[0m, in \u001b[0;36mStudy.optimize\u001b[1;34m(self, func, n_trials, timeout, n_jobs, catch, callbacks, gc_after_trial, show_progress_bar)\u001b[0m\n\u001b[0;32m    348\u001b[0m \u001b[39mdef\u001b[39;00m \u001b[39moptimize\u001b[39m(\n\u001b[0;32m    349\u001b[0m     \u001b[39mself\u001b[39m,\n\u001b[0;32m    350\u001b[0m     func: ObjectiveFuncType,\n\u001b[1;32m   (...)\u001b[0m\n\u001b[0;32m    357\u001b[0m     show_progress_bar: \u001b[39mbool\u001b[39m \u001b[39m=\u001b[39m \u001b[39mFalse\u001b[39;00m,\n\u001b[0;32m    358\u001b[0m ) \u001b[39m-\u001b[39m\u001b[39m>\u001b[39m \u001b[39mNone\u001b[39;00m:\n\u001b[0;32m    359\u001b[0m \u001b[39m    \u001b[39m\u001b[39m\"\"\"Optimize an objective function.\u001b[39;00m\n\u001b[0;32m    360\u001b[0m \n\u001b[0;32m    361\u001b[0m \u001b[39m    Optimization is done by choosing a suitable set of hyperparameter values from a given\u001b[39;00m\n\u001b[1;32m   (...)\u001b[0m\n\u001b[0;32m    449\u001b[0m \u001b[39m            If nested invocation of this method occurs.\u001b[39;00m\n\u001b[0;32m    450\u001b[0m \u001b[39m    \"\"\"\u001b[39;00m\n\u001b[1;32m--> 451\u001b[0m     _optimize(\n\u001b[0;32m    452\u001b[0m         study\u001b[39m=\u001b[39;49m\u001b[39mself\u001b[39;49m,\n\u001b[0;32m    453\u001b[0m         func\u001b[39m=\u001b[39;49mfunc,\n\u001b[0;32m    454\u001b[0m         n_trials\u001b[39m=\u001b[39;49mn_trials,\n\u001b[0;32m    455\u001b[0m         timeout\u001b[39m=\u001b[39;49mtimeout,\n\u001b[0;32m    456\u001b[0m         n_jobs\u001b[39m=\u001b[39;49mn_jobs,\n\u001b[0;32m    457\u001b[0m         catch\u001b[39m=\u001b[39;49m\u001b[39mtuple\u001b[39;49m(catch) \u001b[39mif\u001b[39;49;00m \u001b[39misinstance\u001b[39;49m(catch, Iterable) \u001b[39melse\u001b[39;49;00m (catch,),\n\u001b[0;32m    458\u001b[0m         callbacks\u001b[39m=\u001b[39;49mcallbacks,\n\u001b[0;32m    459\u001b[0m         gc_after_trial\u001b[39m=\u001b[39;49mgc_after_trial,\n\u001b[0;32m    460\u001b[0m         show_progress_bar\u001b[39m=\u001b[39;49mshow_progress_bar,\n\u001b[0;32m    461\u001b[0m     )\n",
      "File \u001b[1;32mc:\\Users\\sonng\\anaconda3\\envs\\tsff_env\\lib\\site-packages\\optuna\\study\\_optimize.py:66\u001b[0m, in \u001b[0;36m_optimize\u001b[1;34m(study, func, n_trials, timeout, n_jobs, catch, callbacks, gc_after_trial, show_progress_bar)\u001b[0m\n\u001b[0;32m     64\u001b[0m \u001b[39mtry\u001b[39;00m:\n\u001b[0;32m     65\u001b[0m     \u001b[39mif\u001b[39;00m n_jobs \u001b[39m==\u001b[39m \u001b[39m1\u001b[39m:\n\u001b[1;32m---> 66\u001b[0m         _optimize_sequential(\n\u001b[0;32m     67\u001b[0m             study,\n\u001b[0;32m     68\u001b[0m             func,\n\u001b[0;32m     69\u001b[0m             n_trials,\n\u001b[0;32m     70\u001b[0m             timeout,\n\u001b[0;32m     71\u001b[0m             catch,\n\u001b[0;32m     72\u001b[0m             callbacks,\n\u001b[0;32m     73\u001b[0m             gc_after_trial,\n\u001b[0;32m     74\u001b[0m             reseed_sampler_rng\u001b[39m=\u001b[39;49m\u001b[39mFalse\u001b[39;49;00m,\n\u001b[0;32m     75\u001b[0m             time_start\u001b[39m=\u001b[39;49m\u001b[39mNone\u001b[39;49;00m,\n\u001b[0;32m     76\u001b[0m             progress_bar\u001b[39m=\u001b[39;49mprogress_bar,\n\u001b[0;32m     77\u001b[0m         )\n\u001b[0;32m     78\u001b[0m     \u001b[39melse\u001b[39;00m:\n\u001b[0;32m     79\u001b[0m         \u001b[39mif\u001b[39;00m n_jobs \u001b[39m==\u001b[39m \u001b[39m-\u001b[39m\u001b[39m1\u001b[39m:\n",
      "File \u001b[1;32mc:\\Users\\sonng\\anaconda3\\envs\\tsff_env\\lib\\site-packages\\optuna\\study\\_optimize.py:163\u001b[0m, in \u001b[0;36m_optimize_sequential\u001b[1;34m(study, func, n_trials, timeout, catch, callbacks, gc_after_trial, reseed_sampler_rng, time_start, progress_bar)\u001b[0m\n\u001b[0;32m    160\u001b[0m         \u001b[39mbreak\u001b[39;00m\n\u001b[0;32m    162\u001b[0m \u001b[39mtry\u001b[39;00m:\n\u001b[1;32m--> 163\u001b[0m     frozen_trial \u001b[39m=\u001b[39m _run_trial(study, func, catch)\n\u001b[0;32m    164\u001b[0m \u001b[39mfinally\u001b[39;00m:\n\u001b[0;32m    165\u001b[0m     \u001b[39m# The following line mitigates memory problems that can be occurred in some\u001b[39;00m\n\u001b[0;32m    166\u001b[0m     \u001b[39m# environments (e.g., services that use computing containers such as GitHub Actions).\u001b[39;00m\n\u001b[0;32m    167\u001b[0m     \u001b[39m# Please refer to the following PR for further details:\u001b[39;00m\n\u001b[0;32m    168\u001b[0m     \u001b[39m# https://github.com/optuna/optuna/pull/325.\u001b[39;00m\n\u001b[0;32m    169\u001b[0m     \u001b[39mif\u001b[39;00m gc_after_trial:\n",
      "File \u001b[1;32mc:\\Users\\sonng\\anaconda3\\envs\\tsff_env\\lib\\site-packages\\optuna\\study\\_optimize.py:251\u001b[0m, in \u001b[0;36m_run_trial\u001b[1;34m(study, func, catch)\u001b[0m\n\u001b[0;32m    244\u001b[0m         \u001b[39massert\u001b[39;00m \u001b[39mFalse\u001b[39;00m, \u001b[39m\"\u001b[39m\u001b[39mShould not reach.\u001b[39m\u001b[39m\"\u001b[39m\n\u001b[0;32m    246\u001b[0m \u001b[39mif\u001b[39;00m (\n\u001b[0;32m    247\u001b[0m     frozen_trial\u001b[39m.\u001b[39mstate \u001b[39m==\u001b[39m TrialState\u001b[39m.\u001b[39mFAIL\n\u001b[0;32m    248\u001b[0m     \u001b[39mand\u001b[39;00m func_err \u001b[39mis\u001b[39;00m \u001b[39mnot\u001b[39;00m \u001b[39mNone\u001b[39;00m\n\u001b[0;32m    249\u001b[0m     \u001b[39mand\u001b[39;00m \u001b[39mnot\u001b[39;00m \u001b[39misinstance\u001b[39m(func_err, catch)\n\u001b[0;32m    250\u001b[0m ):\n\u001b[1;32m--> 251\u001b[0m     \u001b[39mraise\u001b[39;00m func_err\n\u001b[0;32m    252\u001b[0m \u001b[39mreturn\u001b[39;00m frozen_trial\n",
      "File \u001b[1;32mc:\\Users\\sonng\\anaconda3\\envs\\tsff_env\\lib\\site-packages\\optuna\\study\\_optimize.py:200\u001b[0m, in \u001b[0;36m_run_trial\u001b[1;34m(study, func, catch)\u001b[0m\n\u001b[0;32m    198\u001b[0m \u001b[39mwith\u001b[39;00m get_heartbeat_thread(trial\u001b[39m.\u001b[39m_trial_id, study\u001b[39m.\u001b[39m_storage):\n\u001b[0;32m    199\u001b[0m     \u001b[39mtry\u001b[39;00m:\n\u001b[1;32m--> 200\u001b[0m         value_or_values \u001b[39m=\u001b[39m func(trial)\n\u001b[0;32m    201\u001b[0m     \u001b[39mexcept\u001b[39;00m exceptions\u001b[39m.\u001b[39mTrialPruned \u001b[39mas\u001b[39;00m e:\n\u001b[0;32m    202\u001b[0m         \u001b[39m# TODO(mamu): Handle multi-objective cases.\u001b[39;00m\n\u001b[0;32m    203\u001b[0m         state \u001b[39m=\u001b[39m TrialState\u001b[39m.\u001b[39mPRUNED\n",
      "File \u001b[1;32mc:\\Users\\sonng\\anaconda3\\envs\\tsff_env\\lib\\site-packages\\pytorch_forecasting\\models\\temporal_fusion_transformer\\tuning.py:199\u001b[0m, in \u001b[0;36moptimize_hyperparameters.<locals>.objective\u001b[1;34m(trial)\u001b[0m\n\u001b[0;32m    196\u001b[0m     model\u001b[39m.\u001b[39mhparams\u001b[39m.\u001b[39mlearning_rate \u001b[39m=\u001b[39m trial\u001b[39m.\u001b[39msuggest_loguniform(\u001b[39m\"\u001b[39m\u001b[39mlearning_rate\u001b[39m\u001b[39m\"\u001b[39m, \u001b[39m*\u001b[39mlearning_rate_range)\n\u001b[0;32m    198\u001b[0m \u001b[39m# fit\u001b[39;00m\n\u001b[1;32m--> 199\u001b[0m trainer\u001b[39m.\u001b[39;49mfit(model, train_dataloaders\u001b[39m=\u001b[39;49mtrain_dataloaders, val_dataloaders\u001b[39m=\u001b[39;49mval_dataloaders)\n\u001b[0;32m    201\u001b[0m \u001b[39m# report result\u001b[39;00m\n\u001b[0;32m    202\u001b[0m \u001b[39mreturn\u001b[39;00m trainer\u001b[39m.\u001b[39mcallback_metrics[\u001b[39m\"\u001b[39m\u001b[39mval_loss\u001b[39m\u001b[39m\"\u001b[39m]\u001b[39m.\u001b[39mitem()\n",
      "File \u001b[1;32mc:\\Users\\sonng\\anaconda3\\envs\\tsff_env\\lib\\site-packages\\lightning\\pytorch\\trainer\\trainer.py:544\u001b[0m, in \u001b[0;36mTrainer.fit\u001b[1;34m(self, model, train_dataloaders, val_dataloaders, datamodule, ckpt_path)\u001b[0m\n\u001b[0;32m    542\u001b[0m \u001b[39mself\u001b[39m\u001b[39m.\u001b[39mstate\u001b[39m.\u001b[39mstatus \u001b[39m=\u001b[39m TrainerStatus\u001b[39m.\u001b[39mRUNNING\n\u001b[0;32m    543\u001b[0m \u001b[39mself\u001b[39m\u001b[39m.\u001b[39mtraining \u001b[39m=\u001b[39m \u001b[39mTrue\u001b[39;00m\n\u001b[1;32m--> 544\u001b[0m call\u001b[39m.\u001b[39;49m_call_and_handle_interrupt(\n\u001b[0;32m    545\u001b[0m     \u001b[39mself\u001b[39;49m, \u001b[39mself\u001b[39;49m\u001b[39m.\u001b[39;49m_fit_impl, model, train_dataloaders, val_dataloaders, datamodule, ckpt_path\n\u001b[0;32m    546\u001b[0m )\n",
      "File \u001b[1;32mc:\\Users\\sonng\\anaconda3\\envs\\tsff_env\\lib\\site-packages\\lightning\\pytorch\\trainer\\call.py:44\u001b[0m, in \u001b[0;36m_call_and_handle_interrupt\u001b[1;34m(trainer, trainer_fn, *args, **kwargs)\u001b[0m\n\u001b[0;32m     42\u001b[0m     \u001b[39mif\u001b[39;00m trainer\u001b[39m.\u001b[39mstrategy\u001b[39m.\u001b[39mlauncher \u001b[39mis\u001b[39;00m \u001b[39mnot\u001b[39;00m \u001b[39mNone\u001b[39;00m:\n\u001b[0;32m     43\u001b[0m         \u001b[39mreturn\u001b[39;00m trainer\u001b[39m.\u001b[39mstrategy\u001b[39m.\u001b[39mlauncher\u001b[39m.\u001b[39mlaunch(trainer_fn, \u001b[39m*\u001b[39margs, trainer\u001b[39m=\u001b[39mtrainer, \u001b[39m*\u001b[39m\u001b[39m*\u001b[39mkwargs)\n\u001b[1;32m---> 44\u001b[0m     \u001b[39mreturn\u001b[39;00m trainer_fn(\u001b[39m*\u001b[39margs, \u001b[39m*\u001b[39m\u001b[39m*\u001b[39mkwargs)\n\u001b[0;32m     46\u001b[0m \u001b[39mexcept\u001b[39;00m _TunerExitException:\n\u001b[0;32m     47\u001b[0m     _call_teardown_hook(trainer)\n",
      "File \u001b[1;32mc:\\Users\\sonng\\anaconda3\\envs\\tsff_env\\lib\\site-packages\\lightning\\pytorch\\trainer\\trainer.py:580\u001b[0m, in \u001b[0;36mTrainer._fit_impl\u001b[1;34m(self, model, train_dataloaders, val_dataloaders, datamodule, ckpt_path)\u001b[0m\n\u001b[0;32m    573\u001b[0m \u001b[39massert\u001b[39;00m \u001b[39mself\u001b[39m\u001b[39m.\u001b[39mstate\u001b[39m.\u001b[39mfn \u001b[39mis\u001b[39;00m \u001b[39mnot\u001b[39;00m \u001b[39mNone\u001b[39;00m\n\u001b[0;32m    574\u001b[0m ckpt_path \u001b[39m=\u001b[39m \u001b[39mself\u001b[39m\u001b[39m.\u001b[39m_checkpoint_connector\u001b[39m.\u001b[39m_select_ckpt_path(\n\u001b[0;32m    575\u001b[0m     \u001b[39mself\u001b[39m\u001b[39m.\u001b[39mstate\u001b[39m.\u001b[39mfn,\n\u001b[0;32m    576\u001b[0m     ckpt_path,\n\u001b[0;32m    577\u001b[0m     model_provided\u001b[39m=\u001b[39m\u001b[39mTrue\u001b[39;00m,\n\u001b[0;32m    578\u001b[0m     model_connected\u001b[39m=\u001b[39m\u001b[39mself\u001b[39m\u001b[39m.\u001b[39mlightning_module \u001b[39mis\u001b[39;00m \u001b[39mnot\u001b[39;00m \u001b[39mNone\u001b[39;00m,\n\u001b[0;32m    579\u001b[0m )\n\u001b[1;32m--> 580\u001b[0m \u001b[39mself\u001b[39;49m\u001b[39m.\u001b[39;49m_run(model, ckpt_path\u001b[39m=\u001b[39;49mckpt_path)\n\u001b[0;32m    582\u001b[0m \u001b[39massert\u001b[39;00m \u001b[39mself\u001b[39m\u001b[39m.\u001b[39mstate\u001b[39m.\u001b[39mstopped\n\u001b[0;32m    583\u001b[0m \u001b[39mself\u001b[39m\u001b[39m.\u001b[39mtraining \u001b[39m=\u001b[39m \u001b[39mFalse\u001b[39;00m\n",
      "File \u001b[1;32mc:\\Users\\sonng\\anaconda3\\envs\\tsff_env\\lib\\site-packages\\lightning\\pytorch\\trainer\\trainer.py:950\u001b[0m, in \u001b[0;36mTrainer._run\u001b[1;34m(self, model, ckpt_path)\u001b[0m\n\u001b[0;32m    947\u001b[0m \u001b[39mself\u001b[39m\u001b[39m.\u001b[39mstrategy\u001b[39m.\u001b[39msetup_environment()\n\u001b[0;32m    948\u001b[0m \u001b[39mself\u001b[39m\u001b[39m.\u001b[39m__setup_profiler()\n\u001b[1;32m--> 950\u001b[0m call\u001b[39m.\u001b[39;49m_call_setup_hook(\u001b[39mself\u001b[39;49m)  \u001b[39m# allow user to setup lightning_module in accelerator environment\u001b[39;00m\n\u001b[0;32m    952\u001b[0m \u001b[39m# check if we should delay restoring checkpoint till later\u001b[39;00m\n\u001b[0;32m    953\u001b[0m \u001b[39mif\u001b[39;00m \u001b[39mnot\u001b[39;00m \u001b[39mself\u001b[39m\u001b[39m.\u001b[39mstrategy\u001b[39m.\u001b[39mrestore_checkpoint_after_setup:\n",
      "File \u001b[1;32mc:\\Users\\sonng\\anaconda3\\envs\\tsff_env\\lib\\site-packages\\lightning\\pytorch\\trainer\\call.py:86\u001b[0m, in \u001b[0;36m_call_setup_hook\u001b[1;34m(trainer)\u001b[0m\n\u001b[0;32m     84\u001b[0m \u001b[39m# Trigger lazy creation of experiment in loggers so loggers have their metadata available\u001b[39;00m\n\u001b[0;32m     85\u001b[0m \u001b[39mfor\u001b[39;00m logger \u001b[39min\u001b[39;00m trainer\u001b[39m.\u001b[39mloggers:\n\u001b[1;32m---> 86\u001b[0m     \u001b[39mif\u001b[39;00m \u001b[39mhasattr\u001b[39;49m(logger, \u001b[39m\"\u001b[39;49m\u001b[39mexperiment\u001b[39;49m\u001b[39m\"\u001b[39;49m):\n\u001b[0;32m     87\u001b[0m         _ \u001b[39m=\u001b[39m logger\u001b[39m.\u001b[39mexperiment\n\u001b[0;32m     89\u001b[0m trainer\u001b[39m.\u001b[39mstrategy\u001b[39m.\u001b[39mbarrier(\u001b[39m\"\u001b[39m\u001b[39mpre_setup\u001b[39m\u001b[39m\"\u001b[39m)\n",
      "File \u001b[1;32mc:\\Users\\sonng\\anaconda3\\envs\\tsff_env\\lib\\site-packages\\lightning\\fabric\\loggers\\logger.py:118\u001b[0m, in \u001b[0;36mrank_zero_experiment.<locals>.experiment\u001b[1;34m(self)\u001b[0m\n\u001b[0;32m    116\u001b[0m \u001b[39mif\u001b[39;00m rank_zero_only\u001b[39m.\u001b[39mrank \u001b[39m>\u001b[39m \u001b[39m0\u001b[39m:\n\u001b[0;32m    117\u001b[0m     \u001b[39mreturn\u001b[39;00m _DummyExperiment()\n\u001b[1;32m--> 118\u001b[0m \u001b[39mreturn\u001b[39;00m fn(\u001b[39mself\u001b[39;49m)\n",
      "File \u001b[1;32mc:\\Users\\sonng\\anaconda3\\envs\\tsff_env\\lib\\site-packages\\lightning\\fabric\\loggers\\tensorboard.py:191\u001b[0m, in \u001b[0;36mTensorBoardLogger.experiment\u001b[1;34m(self)\u001b[0m\n\u001b[0;32m    188\u001b[0m \u001b[39melse\u001b[39;00m:\n\u001b[0;32m    189\u001b[0m     \u001b[39mfrom\u001b[39;00m \u001b[39mtensorboardX\u001b[39;00m \u001b[39mimport\u001b[39;00m SummaryWriter  \u001b[39m# type: ignore[no-redef]\u001b[39;00m\n\u001b[1;32m--> 191\u001b[0m \u001b[39mself\u001b[39m\u001b[39m.\u001b[39m_experiment \u001b[39m=\u001b[39m SummaryWriter(log_dir\u001b[39m=\u001b[39m\u001b[39mself\u001b[39m\u001b[39m.\u001b[39mlog_dir, \u001b[39m*\u001b[39m\u001b[39m*\u001b[39m\u001b[39mself\u001b[39m\u001b[39m.\u001b[39m_kwargs)\n\u001b[0;32m    192\u001b[0m \u001b[39mreturn\u001b[39;00m \u001b[39mself\u001b[39m\u001b[39m.\u001b[39m_experiment\n",
      "File \u001b[1;32mc:\\Users\\sonng\\anaconda3\\envs\\tsff_env\\lib\\site-packages\\torch\\utils\\tensorboard\\writer.py:243\u001b[0m, in \u001b[0;36mSummaryWriter.__init__\u001b[1;34m(self, log_dir, comment, purge_step, max_queue, flush_secs, filename_suffix)\u001b[0m\n\u001b[0;32m    240\u001b[0m \u001b[39m# Initialize the file writers, but they can be cleared out on close\u001b[39;00m\n\u001b[0;32m    241\u001b[0m \u001b[39m# and recreated later as needed.\u001b[39;00m\n\u001b[0;32m    242\u001b[0m \u001b[39mself\u001b[39m\u001b[39m.\u001b[39mfile_writer \u001b[39m=\u001b[39m \u001b[39mself\u001b[39m\u001b[39m.\u001b[39mall_writers \u001b[39m=\u001b[39m \u001b[39mNone\u001b[39;00m\n\u001b[1;32m--> 243\u001b[0m \u001b[39mself\u001b[39;49m\u001b[39m.\u001b[39;49m_get_file_writer()\n\u001b[0;32m    245\u001b[0m \u001b[39m# Create default bins for histograms, see generate_testdata.py in tensorflow/tensorboard\u001b[39;00m\n\u001b[0;32m    246\u001b[0m v \u001b[39m=\u001b[39m \u001b[39m1e-12\u001b[39m\n",
      "File \u001b[1;32mc:\\Users\\sonng\\anaconda3\\envs\\tsff_env\\lib\\site-packages\\torch\\utils\\tensorboard\\writer.py:273\u001b[0m, in \u001b[0;36mSummaryWriter._get_file_writer\u001b[1;34m(self)\u001b[0m\n\u001b[0;32m    271\u001b[0m \u001b[39m\u001b[39m\u001b[39m\"\"\"Returns the default FileWriter instance. Recreates it if closed.\"\"\"\u001b[39;00m\n\u001b[0;32m    272\u001b[0m \u001b[39mif\u001b[39;00m \u001b[39mself\u001b[39m\u001b[39m.\u001b[39mall_writers \u001b[39mis\u001b[39;00m \u001b[39mNone\u001b[39;00m \u001b[39mor\u001b[39;00m \u001b[39mself\u001b[39m\u001b[39m.\u001b[39mfile_writer \u001b[39mis\u001b[39;00m \u001b[39mNone\u001b[39;00m:\n\u001b[1;32m--> 273\u001b[0m     \u001b[39mself\u001b[39m\u001b[39m.\u001b[39mfile_writer \u001b[39m=\u001b[39m FileWriter(\n\u001b[0;32m    274\u001b[0m         \u001b[39mself\u001b[39;49m\u001b[39m.\u001b[39;49mlog_dir, \u001b[39mself\u001b[39;49m\u001b[39m.\u001b[39;49mmax_queue, \u001b[39mself\u001b[39;49m\u001b[39m.\u001b[39;49mflush_secs, \u001b[39mself\u001b[39;49m\u001b[39m.\u001b[39;49mfilename_suffix\n\u001b[0;32m    275\u001b[0m     )\n\u001b[0;32m    276\u001b[0m     \u001b[39mself\u001b[39m\u001b[39m.\u001b[39mall_writers \u001b[39m=\u001b[39m {\u001b[39mself\u001b[39m\u001b[39m.\u001b[39mfile_writer\u001b[39m.\u001b[39mget_logdir(): \u001b[39mself\u001b[39m\u001b[39m.\u001b[39mfile_writer}\n\u001b[0;32m    277\u001b[0m     \u001b[39mif\u001b[39;00m \u001b[39mself\u001b[39m\u001b[39m.\u001b[39mpurge_step \u001b[39mis\u001b[39;00m \u001b[39mnot\u001b[39;00m \u001b[39mNone\u001b[39;00m:\n",
      "File \u001b[1;32mc:\\Users\\sonng\\anaconda3\\envs\\tsff_env\\lib\\site-packages\\torch\\utils\\tensorboard\\writer.py:72\u001b[0m, in \u001b[0;36mFileWriter.__init__\u001b[1;34m(self, log_dir, max_queue, flush_secs, filename_suffix)\u001b[0m\n\u001b[0;32m     67\u001b[0m \u001b[39m# Sometimes PosixPath is passed in and we need to coerce it to\u001b[39;00m\n\u001b[0;32m     68\u001b[0m \u001b[39m# a string in all cases\u001b[39;00m\n\u001b[0;32m     69\u001b[0m \u001b[39m# TODO: See if we can remove this in the future if we are\u001b[39;00m\n\u001b[0;32m     70\u001b[0m \u001b[39m# actually the ones passing in a PosixPath\u001b[39;00m\n\u001b[0;32m     71\u001b[0m log_dir \u001b[39m=\u001b[39m \u001b[39mstr\u001b[39m(log_dir)\n\u001b[1;32m---> 72\u001b[0m \u001b[39mself\u001b[39m\u001b[39m.\u001b[39mevent_writer \u001b[39m=\u001b[39m EventFileWriter(\n\u001b[0;32m     73\u001b[0m     log_dir, max_queue, flush_secs, filename_suffix\n\u001b[0;32m     74\u001b[0m )\n",
      "File \u001b[1;32mc:\\Users\\sonng\\anaconda3\\envs\\tsff_env\\lib\\site-packages\\tensorboard\\summary\\writer\\event_file_writer.py:100\u001b[0m, in \u001b[0;36mEventFileWriter.__init__\u001b[1;34m(self, logdir, max_queue_size, flush_secs, filename_suffix)\u001b[0m\n\u001b[0;32m     92\u001b[0m _event \u001b[39m=\u001b[39m event_pb2\u001b[39m.\u001b[39mEvent(\n\u001b[0;32m     93\u001b[0m     wall_time\u001b[39m=\u001b[39mtime\u001b[39m.\u001b[39mtime(),\n\u001b[0;32m     94\u001b[0m     file_version\u001b[39m=\u001b[39m\u001b[39m\"\u001b[39m\u001b[39mbrain.Event:2\u001b[39m\u001b[39m\"\u001b[39m,\n\u001b[1;32m   (...)\u001b[0m\n\u001b[0;32m     97\u001b[0m     ),\n\u001b[0;32m     98\u001b[0m )\n\u001b[0;32m     99\u001b[0m \u001b[39mself\u001b[39m\u001b[39m.\u001b[39madd_event(_event)\n\u001b[1;32m--> 100\u001b[0m \u001b[39mself\u001b[39;49m\u001b[39m.\u001b[39;49mflush()\n",
      "File \u001b[1;32mc:\\Users\\sonng\\anaconda3\\envs\\tsff_env\\lib\\site-packages\\tensorboard\\summary\\writer\\event_file_writer.py:125\u001b[0m, in \u001b[0;36mEventFileWriter.flush\u001b[1;34m(self)\u001b[0m\n\u001b[0;32m    119\u001b[0m \u001b[39mdef\u001b[39;00m \u001b[39mflush\u001b[39m(\u001b[39mself\u001b[39m):\n\u001b[0;32m    120\u001b[0m \u001b[39m    \u001b[39m\u001b[39m\"\"\"Flushes the event file to disk.\u001b[39;00m\n\u001b[0;32m    121\u001b[0m \n\u001b[0;32m    122\u001b[0m \u001b[39m    Call this method to make sure that all pending events have been\u001b[39;00m\n\u001b[0;32m    123\u001b[0m \u001b[39m    written to disk.\u001b[39;00m\n\u001b[0;32m    124\u001b[0m \u001b[39m    \"\"\"\u001b[39;00m\n\u001b[1;32m--> 125\u001b[0m     \u001b[39mself\u001b[39;49m\u001b[39m.\u001b[39;49m_async_writer\u001b[39m.\u001b[39;49mflush()\n",
      "File \u001b[1;32mc:\\Users\\sonng\\anaconda3\\envs\\tsff_env\\lib\\site-packages\\tensorboard\\summary\\writer\\event_file_writer.py:194\u001b[0m, in \u001b[0;36m_AsyncWriter.flush\u001b[1;34m(self)\u001b[0m\n\u001b[0;32m    190\u001b[0m \u001b[39mself\u001b[39m\u001b[39m.\u001b[39m_writer\u001b[39m.\u001b[39mflush()\n\u001b[0;32m    191\u001b[0m \u001b[39m# Check the status again in case the background worker thread has\u001b[39;00m\n\u001b[0;32m    192\u001b[0m \u001b[39m# failed in the meantime to avoid waiting until the next call to\u001b[39;00m\n\u001b[0;32m    193\u001b[0m \u001b[39m# surface the error.\u001b[39;00m\n\u001b[1;32m--> 194\u001b[0m \u001b[39mself\u001b[39;49m\u001b[39m.\u001b[39;49m_check_worker_status()\n",
      "File \u001b[1;32mc:\\Users\\sonng\\anaconda3\\envs\\tsff_env\\lib\\site-packages\\tensorboard\\summary\\writer\\event_file_writer.py:212\u001b[0m, in \u001b[0;36m_AsyncWriter._check_worker_status\u001b[1;34m(self)\u001b[0m\n\u001b[0;32m    210\u001b[0m exception \u001b[39m=\u001b[39m \u001b[39mself\u001b[39m\u001b[39m.\u001b[39m_worker\u001b[39m.\u001b[39mexception\n\u001b[0;32m    211\u001b[0m \u001b[39mif\u001b[39;00m exception \u001b[39mis\u001b[39;00m \u001b[39mnot\u001b[39;00m \u001b[39mNone\u001b[39;00m:\n\u001b[1;32m--> 212\u001b[0m     \u001b[39mraise\u001b[39;00m exception\n",
      "File \u001b[1;32mc:\\Users\\sonng\\anaconda3\\envs\\tsff_env\\lib\\threading.py:950\u001b[0m, in \u001b[0;36mThread._bootstrap_inner\u001b[1;34m(self)\u001b[0m\n\u001b[0;32m    947\u001b[0m     _sys\u001b[39m.\u001b[39msetprofile(_profile_hook)\n\u001b[0;32m    949\u001b[0m \u001b[39mtry\u001b[39;00m:\n\u001b[1;32m--> 950\u001b[0m     \u001b[39mself\u001b[39;49m\u001b[39m.\u001b[39;49mrun()\n\u001b[0;32m    951\u001b[0m \u001b[39mexcept\u001b[39;00m:\n\u001b[0;32m    952\u001b[0m     \u001b[39mself\u001b[39m\u001b[39m.\u001b[39m_invoke_excepthook(\u001b[39mself\u001b[39m)\n",
      "File \u001b[1;32mc:\\Users\\sonng\\anaconda3\\envs\\tsff_env\\lib\\site-packages\\tensorboard\\summary\\writer\\event_file_writer.py:244\u001b[0m, in \u001b[0;36m_AsyncWriterThread.run\u001b[1;34m(self)\u001b[0m\n\u001b[0;32m    242\u001b[0m \u001b[39mdef\u001b[39;00m \u001b[39mrun\u001b[39m(\u001b[39mself\u001b[39m):\n\u001b[0;32m    243\u001b[0m     \u001b[39mtry\u001b[39;00m:\n\u001b[1;32m--> 244\u001b[0m         \u001b[39mself\u001b[39;49m\u001b[39m.\u001b[39;49m_run()\n\u001b[0;32m    245\u001b[0m     \u001b[39mexcept\u001b[39;00m \u001b[39mException\u001b[39;00m \u001b[39mas\u001b[39;00m ex:\n\u001b[0;32m    246\u001b[0m         \u001b[39mself\u001b[39m\u001b[39m.\u001b[39mexception \u001b[39m=\u001b[39m ex\n",
      "File \u001b[1;32mc:\\Users\\sonng\\anaconda3\\envs\\tsff_env\\lib\\site-packages\\tensorboard\\summary\\writer\\event_file_writer.py:275\u001b[0m, in \u001b[0;36m_AsyncWriterThread._run\u001b[1;34m(self)\u001b[0m\n\u001b[0;32m    273\u001b[0m     \u001b[39mif\u001b[39;00m data \u001b[39mis\u001b[39;00m \u001b[39mself\u001b[39m\u001b[39m.\u001b[39m_shutdown_signal:\n\u001b[0;32m    274\u001b[0m         \u001b[39mreturn\u001b[39;00m\n\u001b[1;32m--> 275\u001b[0m     \u001b[39mself\u001b[39;49m\u001b[39m.\u001b[39;49m_record_writer\u001b[39m.\u001b[39;49mwrite(data)\n\u001b[0;32m    276\u001b[0m     \u001b[39mself\u001b[39m\u001b[39m.\u001b[39m_has_pending_data \u001b[39m=\u001b[39m \u001b[39mTrue\u001b[39;00m\n\u001b[0;32m    277\u001b[0m \u001b[39mexcept\u001b[39;00m queue\u001b[39m.\u001b[39mEmpty:\n",
      "File \u001b[1;32mc:\\Users\\sonng\\anaconda3\\envs\\tsff_env\\lib\\site-packages\\tensorboard\\summary\\writer\\record_writer.py:40\u001b[0m, in \u001b[0;36mRecordWriter.write\u001b[1;34m(self, data)\u001b[0m\n\u001b[0;32m     38\u001b[0m header_crc \u001b[39m=\u001b[39m struct\u001b[39m.\u001b[39mpack(\u001b[39m\"\u001b[39m\u001b[39m<I\u001b[39m\u001b[39m\"\u001b[39m, masked_crc32c(header))\n\u001b[0;32m     39\u001b[0m footer_crc \u001b[39m=\u001b[39m struct\u001b[39m.\u001b[39mpack(\u001b[39m\"\u001b[39m\u001b[39m<I\u001b[39m\u001b[39m\"\u001b[39m, masked_crc32c(data))\n\u001b[1;32m---> 40\u001b[0m \u001b[39mself\u001b[39;49m\u001b[39m.\u001b[39;49m_writer\u001b[39m.\u001b[39;49mwrite(header \u001b[39m+\u001b[39;49m header_crc \u001b[39m+\u001b[39;49m data \u001b[39m+\u001b[39;49m footer_crc)\n",
      "File \u001b[1;32mc:\\Users\\sonng\\anaconda3\\envs\\tsff_env\\lib\\site-packages\\tensorboard\\compat\\tensorflow_stub\\io\\gfile.py:768\u001b[0m, in \u001b[0;36mGFile.write\u001b[1;34m(self, file_content)\u001b[0m\n\u001b[0;32m    765\u001b[0m \u001b[39mif\u001b[39;00m \u001b[39mself\u001b[39m\u001b[39m.\u001b[39mfs_supports_append:\n\u001b[0;32m    766\u001b[0m     \u001b[39mif\u001b[39;00m \u001b[39mnot\u001b[39;00m \u001b[39mself\u001b[39m\u001b[39m.\u001b[39mwrite_started:\n\u001b[0;32m    767\u001b[0m         \u001b[39m# write the first chunk to truncate file if it already exists\u001b[39;00m\n\u001b[1;32m--> 768\u001b[0m         \u001b[39mself\u001b[39;49m\u001b[39m.\u001b[39;49mfs\u001b[39m.\u001b[39;49mwrite(\u001b[39mself\u001b[39;49m\u001b[39m.\u001b[39;49mfilename, file_content, \u001b[39mself\u001b[39;49m\u001b[39m.\u001b[39;49mbinary_mode)\n\u001b[0;32m    769\u001b[0m         \u001b[39mself\u001b[39m\u001b[39m.\u001b[39mwrite_started \u001b[39m=\u001b[39m \u001b[39mTrue\u001b[39;00m\n\u001b[0;32m    771\u001b[0m     \u001b[39melse\u001b[39;00m:\n\u001b[0;32m    772\u001b[0m         \u001b[39m# append the later chunks\u001b[39;00m\n",
      "File \u001b[1;32mc:\\Users\\sonng\\anaconda3\\envs\\tsff_env\\lib\\site-packages\\tensorboard\\compat\\tensorflow_stub\\io\\gfile.py:157\u001b[0m, in \u001b[0;36mLocalFileSystem.write\u001b[1;34m(self, filename, file_content, binary_mode)\u001b[0m\n\u001b[0;32m    148\u001b[0m \u001b[39mdef\u001b[39;00m \u001b[39mwrite\u001b[39m(\u001b[39mself\u001b[39m, filename, file_content, binary_mode\u001b[39m=\u001b[39m\u001b[39mFalse\u001b[39;00m):\n\u001b[0;32m    149\u001b[0m \u001b[39m    \u001b[39m\u001b[39m\"\"\"Writes string file contents to a file, overwriting any existing\u001b[39;00m\n\u001b[0;32m    150\u001b[0m \u001b[39m    contents.\u001b[39;00m\n\u001b[0;32m    151\u001b[0m \n\u001b[1;32m   (...)\u001b[0m\n\u001b[0;32m    155\u001b[0m \u001b[39m        binary_mode: bool, write as binary if True, otherwise text\u001b[39;00m\n\u001b[0;32m    156\u001b[0m \u001b[39m    \"\"\"\u001b[39;00m\n\u001b[1;32m--> 157\u001b[0m     \u001b[39mself\u001b[39;49m\u001b[39m.\u001b[39;49m_write(filename, file_content, \u001b[39m\"\u001b[39;49m\u001b[39mwb\u001b[39;49m\u001b[39m\"\u001b[39;49m \u001b[39mif\u001b[39;49;00m binary_mode \u001b[39melse\u001b[39;49;00m \u001b[39m\"\u001b[39;49m\u001b[39mw\u001b[39;49m\u001b[39m\"\u001b[39;49m)\n",
      "File \u001b[1;32mc:\\Users\\sonng\\anaconda3\\envs\\tsff_env\\lib\\site-packages\\tensorboard\\compat\\tensorflow_stub\\io\\gfile.py:171\u001b[0m, in \u001b[0;36mLocalFileSystem._write\u001b[1;34m(self, filename, file_content, mode)\u001b[0m\n\u001b[0;32m    169\u001b[0m \u001b[39mdef\u001b[39;00m \u001b[39m_write\u001b[39m(\u001b[39mself\u001b[39m, filename, file_content, mode):\n\u001b[0;32m    170\u001b[0m     encoding \u001b[39m=\u001b[39m \u001b[39mNone\u001b[39;00m \u001b[39mif\u001b[39;00m \u001b[39m\"\u001b[39m\u001b[39mb\u001b[39m\u001b[39m\"\u001b[39m \u001b[39min\u001b[39;00m mode \u001b[39melse\u001b[39;00m \u001b[39m\"\u001b[39m\u001b[39mutf8\u001b[39m\u001b[39m\"\u001b[39m\n\u001b[1;32m--> 171\u001b[0m     \u001b[39mwith\u001b[39;00m io\u001b[39m.\u001b[39;49mopen(filename, mode, encoding\u001b[39m=\u001b[39;49mencoding) \u001b[39mas\u001b[39;00m f:\n\u001b[0;32m    172\u001b[0m         compatify \u001b[39m=\u001b[39m compat\u001b[39m.\u001b[39mas_bytes \u001b[39mif\u001b[39;00m \u001b[39m\"\u001b[39m\u001b[39mb\u001b[39m\u001b[39m\"\u001b[39m \u001b[39min\u001b[39;00m mode \u001b[39melse\u001b[39;00m compat\u001b[39m.\u001b[39mas_text\n\u001b[0;32m    173\u001b[0m         f\u001b[39m.\u001b[39mwrite(compatify(file_content))\n",
      "\u001b[1;31mFileNotFoundError\u001b[0m: [Errno 2] No such file or directory: b'lightning_logs\\\\optuna\\\\version_0\\\\events.out.tfevents.1700729408.DESKTOP-58R1CDK.62732.0'"
     ]
    }
   ],
   "source": [
    "import pickle\n",
    "\n",
    "from pytorch_forecasting.models.temporal_fusion_transformer.tuning import optimize_hyperparameters\n",
    "\n",
    "# create study\n",
    "study = optimize_hyperparameters(\n",
    "    train_dataloader,\n",
    "    val_dataloader,\n",
    "    model_path=\"optuna_test\",\n",
    "    n_trials=200,\n",
    "    max_epochs=50,\n",
    "    gradient_clip_val_range=(0.01, 1.0),\n",
    "    hidden_size_range=(8, 128),\n",
    "    hidden_continuous_size_range=(8, 128),\n",
    "    attention_head_size_range=(1, 4),\n",
    "    learning_rate_range=(0.001, 0.1),\n",
    "    dropout_range=(0.1, 0.3),\n",
    "    trainer_kwargs=dict(limit_train_batches=30),\n",
    "    reduce_on_plateau_patience=4,\n",
    "    use_learning_rate_finder=False,  # use Optuna to find ideal learning rate or use in-built learning rate finder\n",
    ")\n",
    "\n",
    "# save study results - also we can resume tuning at a later point in time\n",
    "with open(\"test_study.pkl\", \"wb\") as fout:\n",
    "    pickle.dump(study, fout)\n",
    "\n",
    "# show best hyperparameters\n",
    "print(study.best_trial.params)"
   ]
  },
  {
   "cell_type": "code",
   "execution_count": null,
   "metadata": {},
   "outputs": [],
   "source": []
  }
 ],
 "metadata": {
  "kernelspec": {
   "display_name": "tsff_env",
   "language": "python",
   "name": "python3"
  },
  "language_info": {
   "codemirror_mode": {
    "name": "ipython",
    "version": 3
   },
   "file_extension": ".py",
   "mimetype": "text/x-python",
   "name": "python",
   "nbconvert_exporter": "python",
   "pygments_lexer": "ipython3",
   "version": "3.9.0"
  }
 },
 "nbformat": 4,
 "nbformat_minor": 2
}
