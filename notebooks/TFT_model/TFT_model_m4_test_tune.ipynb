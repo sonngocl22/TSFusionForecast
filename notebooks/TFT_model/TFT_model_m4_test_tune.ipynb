{
 "cells": [
  {
   "cell_type": "code",
   "execution_count": 3,
   "metadata": {},
   "outputs": [
    {
     "name": "stderr",
     "output_type": "stream",
     "text": [
      "c:\\Users\\sonng\\anaconda3\\envs\\tsff_env\\lib\\site-packages\\pytorch_forecasting\\models\\base_model.py:30: TqdmWarning: IProgress not found. Please update jupyter and ipywidgets. See https://ipywidgets.readthedocs.io/en/stable/user_install.html\n",
      "  from tqdm.autonotebook import tqdm\n"
     ]
    }
   ],
   "source": [
    "import lightning.pytorch as pl\n",
    "from lightning.pytorch.callbacks import EarlyStopping, LearningRateMonitor\n",
    "from lightning.pytorch.loggers import TensorBoardLogger\n",
    "\n",
    "# import os\n",
    "# os.environ['PYTORCH_CUDA_ALLOC_CONF'] = \"max_split_size_mb:128\"\n",
    "import torch\n",
    "import numpy as np\n",
    "import pandas as pd\n",
    "import pickle\n",
    "\n",
    "from pytorch_forecasting import Baseline, TemporalFusionTransformer, TimeSeriesDataSet\n",
    "from pytorch_forecasting.data import GroupNormalizer\n",
    "from pytorch_forecasting.metrics import MAE, SMAPE, PoissonLoss, QuantileLoss\n",
    "from pytorch_forecasting.models.temporal_fusion_transformer.tuning import optimize_hyperparameters"
   ]
  },
  {
   "cell_type": "code",
   "execution_count": 3,
   "metadata": {},
   "outputs": [],
   "source": [
    "import warnings\n",
    "# To ignore all FutureWarnings\n",
    "warnings.simplefilter(action='ignore', category=FutureWarning)\n",
    "warnings.filterwarnings(\"ignore\", \".*does not have many workers.*\")\n",
    "warnings.filterwarnings(\"ignore\", \".*and is already saved during checkpointing*\")\n",
    "warnings.filterwarnings(\"ignore\", \".*The number of training batches*\")\n",
    "\n",
    "import logging\n",
    "logging.getLogger(\"lightning\").setLevel(logging.ERROR)\n",
    "logging.getLogger(\"pytorch_lightning.utilities.rank_zero\").setLevel(logging.ERROR)\n",
    "logging.getLogger(\"pytorch_lightning.accelerators.cuda\").setLevel(logging.ERROR)\n"
   ]
  },
  {
   "cell_type": "code",
   "execution_count": 1,
   "metadata": {},
   "outputs": [],
   "source": [
    "from ESRNN.m4_data import *\n",
    "from ESRNN.utils_evaluation import evaluate_prediction_owa\n",
    "from ESRNN.utils_visualization import plot_grid_prediction"
   ]
  },
  {
   "cell_type": "code",
   "execution_count": 2,
   "metadata": {},
   "outputs": [
    {
     "name": "stdout",
     "output_type": "stream",
     "text": [
      "\n",
      "\n"
     ]
    }
   ],
   "source": [
    "X_train_df, y_train_df, X_test_df, y_test_df = prepare_m4_data(dataset_name=\"Hourly\",\n",
    "                                                               directory=\"../../data/M4\",\n",
    "                                                               num_obs=414)"
   ]
  },
  {
   "cell_type": "code",
   "execution_count": 6,
   "metadata": {},
   "outputs": [],
   "source": [
    "unique_ids = y_train_df['unique_id'].unique()"
   ]
  },
  {
   "cell_type": "code",
   "execution_count": 7,
   "metadata": {},
   "outputs": [],
   "source": [
    "all_forecasts = {}"
   ]
  },
  {
   "cell_type": "code",
   "execution_count": 8,
   "metadata": {},
   "outputs": [
    {
     "name": "stderr",
     "output_type": "stream",
     "text": [
      "Seed set to 42\n"
     ]
    },
    {
     "data": {
      "text/plain": [
       "42"
      ]
     },
     "execution_count": 8,
     "metadata": {},
     "output_type": "execute_result"
    }
   ],
   "source": [
    "pl.seed_everything(42)"
   ]
  },
  {
   "cell_type": "code",
   "execution_count": 9,
   "metadata": {},
   "outputs": [],
   "source": [
    "df_arima_train = pd.read_csv('../../results/m4/base_model_train_set/y_hat_df_arima_ts.csv')\n",
    "df_theta_train = pd.read_csv('../../results/m4/base_model_train_set/y_hat_df_theta_ts.csv')\n",
    "df_xgb_train = pd.read_csv('../../results/m4/base_model_train_set/y_hat_df_xgb_ts.csv')\n",
    "df_gru_train = pd.read_csv('../../results/m4/base_model_train_set/y_hat_df_gru_ts.csv')\n",
    "df_lstm_train = pd.read_csv('../../results/m4/base_model_train_set/y_hat_df_lstm_ts.csv')"
   ]
  },
  {
   "cell_type": "code",
   "execution_count": 10,
   "metadata": {},
   "outputs": [],
   "source": [
    "df_arima_test = pd.read_csv('../../results/m4/y_hat_df_arima.csv')\n",
    "df_theta_test = pd.read_csv('../../results/m4/y_hat_df_theta.csv')\n",
    "df_xgb_test = pd.read_csv('../../results/m4/y_hat_df_xgb.csv')\n",
    "df_gru_test = pd.read_csv('../../results/m4/y_hat_df_gru.csv')\n",
    "df_lstm_test = pd.read_csv('../../results/m4/y_hat_df_lstm.csv')"
   ]
  },
  {
   "cell_type": "code",
   "execution_count": 10,
   "metadata": {},
   "outputs": [
    {
     "name": "stdout",
     "output_type": "stream",
     "text": [
      "Currently training: H1\n"
     ]
    },
    {
     "name": "stderr",
     "output_type": "stream",
     "text": [
      "[I 2023-11-23 18:41:44,623] A new study created in memory with name: no-name-aff0d309-f724-43dc-816e-451a4a9e5a56\n"
     ]
    },
    {
     "name": "stdout",
     "output_type": "stream",
     "text": [
      "Tuning has started for H1...\n"
     ]
    },
    {
     "name": "stderr",
     "output_type": "stream",
     "text": [
      "LOCAL_RANK: 0 - CUDA_VISIBLE_DEVICES: [0]\n",
      "[I 2023-11-23 18:42:24,218] Trial 0 finished with value: 37.251129150390625 and parameters: {'gradient_clip_val': 0.44809527270126237, 'hidden_size': 59, 'dropout': 0.13460685794498822, 'hidden_continuous_size': 55, 'attention_head_size': 3, 'learning_rate': 0.004160708133623006}. Best is trial 0 with value: 37.251129150390625.\n",
      "LOCAL_RANK: 0 - CUDA_VISIBLE_DEVICES: [0]\n",
      "[I 2023-11-23 18:43:06,023] Trial 1 finished with value: 51.3515625 and parameters: {'gradient_clip_val': 0.5781803227958286, 'hidden_size': 114, 'dropout': 0.19484512474605237, 'hidden_continuous_size': 77, 'attention_head_size': 4, 'learning_rate': 0.08574560213041214}. Best is trial 0 with value: 37.251129150390625.\n",
      "LOCAL_RANK: 0 - CUDA_VISIBLE_DEVICES: [0]\n",
      "[I 2023-11-23 18:43:45,005] Trial 2 finished with value: 42.78737258911133 and parameters: {'gradient_clip_val': 0.4552630903730169, 'hidden_size': 89, 'dropout': 0.28160473452343815, 'hidden_continuous_size': 51, 'attention_head_size': 1, 'learning_rate': 0.0032414841287065205}. Best is trial 0 with value: 37.251129150390625.\n",
      "LOCAL_RANK: 0 - CUDA_VISIBLE_DEVICES: [0]\n",
      "[I 2023-11-23 18:44:24,300] Trial 3 finished with value: 43.74505615234375 and parameters: {'gradient_clip_val': 0.12549551617644752, 'hidden_size': 62, 'dropout': 0.10984939709185743, 'hidden_continuous_size': 50, 'attention_head_size': 2, 'learning_rate': 0.018638683328929293}. Best is trial 0 with value: 37.251129150390625.\n",
      "LOCAL_RANK: 0 - CUDA_VISIBLE_DEVICES: [0]\n",
      "[I 2023-11-23 18:45:06,246] Trial 4 finished with value: 39.14651107788086 and parameters: {'gradient_clip_val': 0.11133400844822526, 'hidden_size': 121, 'dropout': 0.20417744170770943, 'hidden_continuous_size': 91, 'attention_head_size': 3, 'learning_rate': 0.02954207976337044}. Best is trial 0 with value: 37.251129150390625.\n",
      "LOCAL_RANK: 0 - CUDA_VISIBLE_DEVICES: [0]\n",
      "[I 2023-11-23 18:45:46,593] Trial 5 finished with value: 32.40385437011719 and parameters: {'gradient_clip_val': 0.2935868029462805, 'hidden_size': 54, 'dropout': 0.15500424707066293, 'hidden_continuous_size': 53, 'attention_head_size': 3, 'learning_rate': 0.0020453422755279}. Best is trial 5 with value: 32.40385437011719.\n",
      "LOCAL_RANK: 0 - CUDA_VISIBLE_DEVICES: [0]\n",
      "[I 2023-11-23 18:46:25,115] Trial 6 finished with value: 44.91006851196289 and parameters: {'gradient_clip_val': 0.14306712777461808, 'hidden_size': 88, 'dropout': 0.10131537882740943, 'hidden_continuous_size': 68, 'attention_head_size': 2, 'learning_rate': 0.03931692368571375}. Best is trial 5 with value: 32.40385437011719.\n",
      "LOCAL_RANK: 0 - CUDA_VISIBLE_DEVICES: [0]\n",
      "[I 2023-11-23 18:47:07,444] Trial 7 finished with value: 41.15062713623047 and parameters: {'gradient_clip_val': 0.5030583959256099, 'hidden_size': 131, 'dropout': 0.1854381391183474, 'hidden_continuous_size': 70, 'attention_head_size': 1, 'learning_rate': 0.0031919150345997745}. Best is trial 5 with value: 32.40385437011719.\n",
      "LOCAL_RANK: 0 - CUDA_VISIBLE_DEVICES: [0]\n",
      "[I 2023-11-23 18:47:47,569] Trial 8 finished with value: 37.719783782958984 and parameters: {'gradient_clip_val': 0.20174082999760826, 'hidden_size': 84, 'dropout': 0.14706499792973937, 'hidden_continuous_size': 65, 'attention_head_size': 4, 'learning_rate': 0.010757763741918629}. Best is trial 5 with value: 32.40385437011719.\n",
      "LOCAL_RANK: 0 - CUDA_VISIBLE_DEVICES: [0]\n",
      "[I 2023-11-23 18:48:19,190] Trial 9 finished with value: 47.29579544067383 and parameters: {'gradient_clip_val': 0.12244695012795553, 'hidden_size': 53, 'dropout': 0.2329253195817425, 'hidden_continuous_size': 53, 'attention_head_size': 4, 'learning_rate': 0.0495279697956319}. Best is trial 5 with value: 32.40385437011719.\n",
      "LOCAL_RANK: 0 - CUDA_VISIBLE_DEVICES: [0]\n",
      "[I 2023-11-23 18:49:08,915] Trial 10 finished with value: 37.50112533569336 and parameters: {'gradient_clip_val': 0.9297729714680055, 'hidden_size': 195, 'dropout': 0.14882330381817693, 'hidden_continuous_size': 133, 'attention_head_size': 3, 'learning_rate': 0.001334313888328984}. Best is trial 5 with value: 32.40385437011719.\n",
      "LOCAL_RANK: 0 - CUDA_VISIBLE_DEVICES: [0]\n",
      "[I 2023-11-23 18:49:40,975] Trial 11 finished with value: 35.10365676879883 and parameters: {'gradient_clip_val': 0.2927282363896863, 'hidden_size': 50, 'dropout': 0.14803522053571833, 'hidden_continuous_size': 50, 'attention_head_size': 3, 'learning_rate': 0.00434808414824694}. Best is trial 5 with value: 32.40385437011719.\n",
      "LOCAL_RANK: 0 - CUDA_VISIBLE_DEVICES: [0]\n",
      "[I 2023-11-23 18:50:22,919] Trial 12 finished with value: 31.411855697631836 and parameters: {'gradient_clip_val': 0.25459640305651376, 'hidden_size': 53, 'dropout': 0.16077470665274035, 'hidden_continuous_size': 50, 'attention_head_size': 3, 'learning_rate': 0.0010153107935951403}. Best is trial 12 with value: 31.411855697631836.\n",
      "LOCAL_RANK: 0 - CUDA_VISIBLE_DEVICES: [0]\n",
      "[I 2023-11-23 18:51:00,563] Trial 13 finished with value: 29.20621681213379 and parameters: {'gradient_clip_val': 0.23058611644678048, 'hidden_size': 68, 'dropout': 0.17207668577318347, 'hidden_continuous_size': 52, 'attention_head_size': 2, 'learning_rate': 0.0010081403988904745}. Best is trial 13 with value: 29.20621681213379.\n",
      "LOCAL_RANK: 0 - CUDA_VISIBLE_DEVICES: [0]\n",
      "[I 2023-11-23 18:51:40,058] Trial 14 finished with value: 31.155607223510742 and parameters: {'gradient_clip_val': 0.20890512276086726, 'hidden_size': 69, 'dropout': 0.1694624752789035, 'hidden_continuous_size': 50, 'attention_head_size': 2, 'learning_rate': 0.0011227495930472545}. Best is trial 13 with value: 29.20621681213379.\n",
      "LOCAL_RANK: 0 - CUDA_VISIBLE_DEVICES: [0]\n",
      "[I 2023-11-23 18:52:19,323] Trial 15 finished with value: 32.3128776550293 and parameters: {'gradient_clip_val': 0.19226761392344294, 'hidden_size': 70, 'dropout': 0.1787558538634298, 'hidden_continuous_size': 52, 'attention_head_size': 2, 'learning_rate': 0.0010184687453616522}. Best is trial 13 with value: 29.20621681213379.\n",
      "LOCAL_RANK: 0 - CUDA_VISIBLE_DEVICES: [0]\n",
      "[I 2023-11-23 18:52:58,866] Trial 16 finished with value: 34.93136215209961 and parameters: {'gradient_clip_val': 0.17633686486607023, 'hidden_size': 73, 'dropout': 0.22048670587871094, 'hidden_continuous_size': 55, 'attention_head_size': 1, 'learning_rate': 0.0018699126672313171}. Best is trial 13 with value: 29.20621681213379.\n",
      "LOCAL_RANK: 0 - CUDA_VISIBLE_DEVICES: [0]\n",
      "[I 2023-11-23 18:53:38,534] Trial 17 finished with value: 39.10308837890625 and parameters: {'gradient_clip_val': 0.22612307047315972, 'hidden_size': 73, 'dropout': 0.17689421668933833, 'hidden_continuous_size': 55, 'attention_head_size': 2, 'learning_rate': 0.0069718281543071385}. Best is trial 13 with value: 29.20621681213379.\n",
      "LOCAL_RANK: 0 - CUDA_VISIBLE_DEVICES: [0]\n",
      "[I 2023-11-23 18:54:17,576] Trial 18 finished with value: 36.176631927490234 and parameters: {'gradient_clip_val': 0.1626535054747774, 'hidden_size': 66, 'dropout': 0.125579790827888, 'hidden_continuous_size': 51, 'attention_head_size': 2, 'learning_rate': 0.0017389715810192312}. Best is trial 13 with value: 29.20621681213379.\n",
      "LOCAL_RANK: 0 - CUDA_VISIBLE_DEVICES: [0]\n",
      "[I 2023-11-23 18:54:56,687] Trial 19 finished with value: 34.26826477050781 and parameters: {'gradient_clip_val': 0.10217348675321403, 'hidden_size': 78, 'dropout': 0.16569100153314836, 'hidden_continuous_size': 57, 'attention_head_size': 1, 'learning_rate': 0.0022766640064612728}. Best is trial 13 with value: 29.20621681213379.\n",
      "LOCAL_RANK: 0 - CUDA_VISIBLE_DEVICES: [0]\n",
      "[I 2023-11-23 18:55:35,656] Trial 20 finished with value: 32.29568099975586 and parameters: {'gradient_clip_val': 0.22331116278381036, 'hidden_size': 61, 'dropout': 0.12353497762841814, 'hidden_continuous_size': 51, 'attention_head_size': 2, 'learning_rate': 0.0014246621694550597}. Best is trial 13 with value: 29.20621681213379.\n",
      "LOCAL_RANK: 0 - CUDA_VISIBLE_DEVICES: [0]\n",
      "[I 2023-11-23 18:56:06,866] Trial 21 finished with value: 33.31474685668945 and parameters: {'gradient_clip_val': 0.2411937978048939, 'hidden_size': 50, 'dropout': 0.1663162306003145, 'hidden_continuous_size': 50, 'attention_head_size': 2, 'learning_rate': 0.0010847476030836608}. Best is trial 13 with value: 29.20621681213379.\n",
      "LOCAL_RANK: 0 - CUDA_VISIBLE_DEVICES: [0]\n",
      "[I 2023-11-23 18:56:47,442] Trial 22 finished with value: 27.451217651367188 and parameters: {'gradient_clip_val': 0.2637891095653573, 'hidden_size': 58, 'dropout': 0.17034384872479372, 'hidden_continuous_size': 50, 'attention_head_size': 3, 'learning_rate': 0.0010258182956617166}. Best is trial 22 with value: 27.451217651367188.\n",
      "LOCAL_RANK: 0 - CUDA_VISIBLE_DEVICES: [0]\n",
      "[I 2023-11-23 18:57:26,878] Trial 23 finished with value: 33.183902740478516 and parameters: {'gradient_clip_val': 0.3515071752324882, 'hidden_size': 65, 'dropout': 0.19986993523341864, 'hidden_continuous_size': 52, 'attention_head_size': 2, 'learning_rate': 0.0016036585939292868}. Best is trial 22 with value: 27.451217651367188.\n",
      "LOCAL_RANK: 0 - CUDA_VISIBLE_DEVICES: [0]\n",
      "[I 2023-11-23 18:58:05,839] Trial 24 finished with value: 34.4127311706543 and parameters: {'gradient_clip_val': 0.17243994769061602, 'hidden_size': 57, 'dropout': 0.17565392125126758, 'hidden_continuous_size': 50, 'attention_head_size': 3, 'learning_rate': 0.002419520434625151}. Best is trial 22 with value: 27.451217651367188.\n",
      "LOCAL_RANK: 0 - CUDA_VISIBLE_DEVICES: [0]\n",
      "[I 2023-11-23 18:58:43,541] Trial 25 finished with value: 35.68738555908203 and parameters: {'gradient_clip_val': 0.14557806858484804, 'hidden_size': 68, 'dropout': 0.18617337990186886, 'hidden_continuous_size': 52, 'attention_head_size': 2, 'learning_rate': 0.0013449382364075543}. Best is trial 22 with value: 27.451217651367188.\n",
      "LOCAL_RANK: 0 - CUDA_VISIBLE_DEVICES: [0]\n",
      "[I 2023-11-23 18:59:19,553] Trial 26 finished with value: 36.08089828491211 and parameters: {'gradient_clip_val': 0.3489592297645397, 'hidden_size': 60, 'dropout': 0.14083802685294766, 'hidden_continuous_size': 51, 'attention_head_size': 1, 'learning_rate': 0.0024033499986412677}. Best is trial 22 with value: 27.451217651367188.\n",
      "LOCAL_RANK: 0 - CUDA_VISIBLE_DEVICES: [0]\n",
      "[I 2023-11-23 18:59:59,790] Trial 27 finished with value: 33.92787551879883 and parameters: {'gradient_clip_val': 0.26239106368102705, 'hidden_size': 78, 'dropout': 0.16517313452782975, 'hidden_continuous_size': 53, 'attention_head_size': 3, 'learning_rate': 0.0010859943224223304}. Best is trial 22 with value: 27.451217651367188.\n",
      "LOCAL_RANK: 0 - CUDA_VISIBLE_DEVICES: [0]\n",
      "[I 2023-11-23 19:00:41,948] Trial 28 finished with value: 32.17070770263672 and parameters: {'gradient_clip_val': 0.20939113728373268, 'hidden_size': 57, 'dropout': 0.2092591251085728, 'hidden_continuous_size': 50, 'attention_head_size': 4, 'learning_rate': 0.0015442533845906872}. Best is trial 22 with value: 27.451217651367188.\n",
      "LOCAL_RANK: 0 - CUDA_VISIBLE_DEVICES: [0]\n",
      "[I 2023-11-23 19:01:21,178] Trial 29 finished with value: 37.096317291259766 and parameters: {'gradient_clip_val': 0.33972252891112353, 'hidden_size': 63, 'dropout': 0.12460583012244994, 'hidden_continuous_size': 51, 'attention_head_size': 2, 'learning_rate': 0.004989307329119756}. Best is trial 22 with value: 27.451217651367188.\n",
      "LOCAL_RANK: 0 - CUDA_VISIBLE_DEVICES: [0]\n",
      "[I 2023-11-23 19:02:02,003] Trial 30 finished with value: 41.6417236328125 and parameters: {'gradient_clip_val': 0.1924663006778535, 'hidden_size': 57, 'dropout': 0.15733455589338488, 'hidden_continuous_size': 50, 'attention_head_size': 3, 'learning_rate': 0.0030418910117170927}. Best is trial 22 with value: 27.451217651367188.\n",
      "LOCAL_RANK: 0 - CUDA_VISIBLE_DEVICES: [0]\n",
      "[I 2023-11-23 19:02:43,035] Trial 31 finished with value: 29.707788467407227 and parameters: {'gradient_clip_val': 0.25985138092225096, 'hidden_size': 54, 'dropout': 0.13578332191253878, 'hidden_continuous_size': 50, 'attention_head_size': 3, 'learning_rate': 0.0010583231370284816}. Best is trial 22 with value: 27.451217651367188.\n",
      "LOCAL_RANK: 0 - CUDA_VISIBLE_DEVICES: [0]\n",
      "[I 2023-11-23 19:03:20,759] Trial 32 finished with value: 26.25396728515625 and parameters: {'gradient_clip_val': 0.269168214151623, 'hidden_size': 68, 'dropout': 0.1286910673488292, 'hidden_continuous_size': 52, 'attention_head_size': 3, 'learning_rate': 0.0010083156281266929}. Best is trial 32 with value: 26.25396728515625.\n",
      "LOCAL_RANK: 0 - CUDA_VISIBLE_DEVICES: [0]\n",
      "[I 2023-11-23 19:04:00,088] Trial 33 finished with value: 35.56142807006836 and parameters: {'gradient_clip_val': 0.2832675373816994, 'hidden_size': 60, 'dropout': 0.12999719911282515, 'hidden_continuous_size': 51, 'attention_head_size': 4, 'learning_rate': 0.0016037671335264135}. Best is trial 32 with value: 26.25396728515625.\n",
      "LOCAL_RANK: 0 - CUDA_VISIBLE_DEVICES: [0]\n",
      "[I 2023-11-23 19:04:40,628] Trial 34 finished with value: 34.43758773803711 and parameters: {'gradient_clip_val': 0.40646918790263104, 'hidden_size': 65, 'dropout': 0.11397457244808225, 'hidden_continuous_size': 52, 'attention_head_size': 3, 'learning_rate': 0.0019453027382065427}. Best is trial 32 with value: 26.25396728515625.\n",
      "LOCAL_RANK: 0 - CUDA_VISIBLE_DEVICES: [0]\n",
      "[I 2023-11-23 19:05:19,406] Trial 35 finished with value: 33.174259185791016 and parameters: {'gradient_clip_val': 0.2543098270899306, 'hidden_size': 96, 'dropout': 0.13701069498437324, 'hidden_continuous_size': 58, 'attention_head_size': 3, 'learning_rate': 0.0013158067227505214}. Best is trial 32 with value: 26.25396728515625.\n",
      "LOCAL_RANK: 0 - CUDA_VISIBLE_DEVICES: [0]\n",
      "[I 2023-11-23 19:06:01,059] Trial 36 finished with value: 35.4378547668457 and parameters: {'gradient_clip_val': 0.298147070717361, 'hidden_size': 55, 'dropout': 0.13386611327281978, 'hidden_continuous_size': 51, 'attention_head_size': 4, 'learning_rate': 0.0031089738753413065}. Best is trial 32 with value: 26.25396728515625.\n",
      "LOCAL_RANK: 0 - CUDA_VISIBLE_DEVICES: [0]\n",
      "[I 2023-11-23 19:06:41,026] Trial 37 finished with value: 30.084394454956055 and parameters: {'gradient_clip_val': 0.2407733620742458, 'hidden_size': 61, 'dropout': 0.1404899905993355, 'hidden_continuous_size': 51, 'attention_head_size': 3, 'learning_rate': 0.0010104673683540176}. Best is trial 32 with value: 26.25396728515625.\n",
      "LOCAL_RANK: 0 - CUDA_VISIBLE_DEVICES: [0]\n",
      "[I 2023-11-23 19:07:23,124] Trial 38 finished with value: 31.155237197875977 and parameters: {'gradient_clip_val': 0.31513345927723074, 'hidden_size': 51, 'dropout': 0.11255429395670491, 'hidden_continuous_size': 50, 'attention_head_size': 3, 'learning_rate': 0.0024260984501822606}. Best is trial 32 with value: 26.25396728515625.\n",
      "LOCAL_RANK: 0 - CUDA_VISIBLE_DEVICES: [0]\n",
      "[I 2023-11-23 19:08:05,493] Trial 39 finished with value: 32.44467544555664 and parameters: {'gradient_clip_val': 0.37959180691522015, 'hidden_size': 54, 'dropout': 0.15438809434594256, 'hidden_continuous_size': 50, 'attention_head_size': 3, 'learning_rate': 0.001271047565005651}. Best is trial 32 with value: 26.25396728515625.\n",
      "LOCAL_RANK: 0 - CUDA_VISIBLE_DEVICES: [0]\n",
      "[I 2023-11-23 19:08:45,258] Trial 40 finished with value: 31.95152473449707 and parameters: {'gradient_clip_val': 0.2610363137087859, 'hidden_size': 78, 'dropout': 0.10458358353123824, 'hidden_continuous_size': 54, 'attention_head_size': 3, 'learning_rate': 0.001510436092966573}. Best is trial 32 with value: 26.25396728515625.\n",
      "LOCAL_RANK: 0 - CUDA_VISIBLE_DEVICES: [0]\n",
      "[I 2023-11-23 19:09:24,241] Trial 41 finished with value: 32.92964553833008 and parameters: {'gradient_clip_val': 0.23357747922346853, 'hidden_size': 57, 'dropout': 0.13718235870341386, 'hidden_continuous_size': 51, 'attention_head_size': 3, 'learning_rate': 0.001043418965821009}. Best is trial 32 with value: 26.25396728515625.\n",
      "LOCAL_RANK: 0 - CUDA_VISIBLE_DEVICES: [0]\n",
      "[I 2023-11-23 19:10:03,650] Trial 42 finished with value: 32.83443832397461 and parameters: {'gradient_clip_val': 0.2779051202664732, 'hidden_size': 62, 'dropout': 0.14411552618932308, 'hidden_continuous_size': 52, 'attention_head_size': 3, 'learning_rate': 0.0017816849938560363}. Best is trial 32 with value: 26.25396728515625.\n",
      "LOCAL_RANK: 0 - CUDA_VISIBLE_DEVICES: [0]\n",
      "[I 2023-11-23 19:10:41,492] Trial 43 finished with value: 29.084928512573242 and parameters: {'gradient_clip_val': 0.2285741071833368, 'hidden_size': 60, 'dropout': 0.1523960936002066, 'hidden_continuous_size': 51, 'attention_head_size': 3, 'learning_rate': 0.001321445615647171}. Best is trial 32 with value: 26.25396728515625.\n",
      "LOCAL_RANK: 0 - CUDA_VISIBLE_DEVICES: [0]\n",
      "[I 2023-11-23 19:11:23,859] Trial 44 finished with value: 32.604949951171875 and parameters: {'gradient_clip_val': 0.3168811976215447, 'hidden_size': 54, 'dropout': 0.15570820741386754, 'hidden_continuous_size': 50, 'attention_head_size': 4, 'learning_rate': 0.0013545151196381808}. Best is trial 32 with value: 26.25396728515625.\n",
      "LOCAL_RANK: 0 - CUDA_VISIBLE_DEVICES: [0]\n",
      "[I 2023-11-23 19:12:03,651] Trial 45 finished with value: 34.61186218261719 and parameters: {'gradient_clip_val': 0.2796712310702772, 'hidden_size': 59, 'dropout': 0.15139489466841421, 'hidden_continuous_size': 52, 'attention_head_size': 3, 'learning_rate': 0.002012736098087321}. Best is trial 32 with value: 26.25396728515625.\n",
      "LOCAL_RANK: 0 - CUDA_VISIBLE_DEVICES: [0]\n",
      "[I 2023-11-23 19:12:43,466] Trial 46 finished with value: 31.41240119934082 and parameters: {'gradient_clip_val': 0.23000504374028552, 'hidden_size': 66, 'dropout': 0.18792164360514696, 'hidden_continuous_size': 53, 'attention_head_size': 3, 'learning_rate': 0.0012360577912623914}. Best is trial 32 with value: 26.25396728515625.\n",
      "LOCAL_RANK: 0 - CUDA_VISIBLE_DEVICES: [0]\n",
      "[I 2023-11-23 19:13:25,555] Trial 47 finished with value: 31.3703670501709 and parameters: {'gradient_clip_val': 0.2090570854263036, 'hidden_size': 51, 'dropout': 0.16209468176871922, 'hidden_continuous_size': 50, 'attention_head_size': 3, 'learning_rate': 0.001302851819183059}. Best is trial 32 with value: 26.25396728515625.\n",
      "LOCAL_RANK: 0 - CUDA_VISIBLE_DEVICES: [0]\n",
      "[I 2023-11-23 19:14:05,630] Trial 48 finished with value: 33.10712432861328 and parameters: {'gradient_clip_val': 0.18867052047103877, 'hidden_size': 73, 'dropout': 0.11955668335921418, 'hidden_continuous_size': 54, 'attention_head_size': 4, 'learning_rate': 0.0017274991561240917}. Best is trial 32 with value: 26.25396728515625.\n",
      "LOCAL_RANK: 0 - CUDA_VISIBLE_DEVICES: [0]\n",
      "[I 2023-11-23 19:14:45,368] Trial 49 finished with value: 30.37628936767578 and parameters: {'gradient_clip_val': 0.21738760026600204, 'hidden_size': 63, 'dropout': 0.1297979326348133, 'hidden_continuous_size': 52, 'attention_head_size': 3, 'learning_rate': 0.001013202945189791}. Best is trial 32 with value: 26.25396728515625.\n",
      "LOCAL_RANK: 0 - CUDA_VISIBLE_DEVICES: [0]\n",
      "[I 2023-11-23 19:15:24,142] Trial 50 finished with value: 36.62063217163086 and parameters: {'gradient_clip_val': 0.31132930692199723, 'hidden_size': 88, 'dropout': 0.14903508575435515, 'hidden_continuous_size': 56, 'attention_head_size': 2, 'learning_rate': 0.002651657138235861}. Best is trial 32 with value: 26.25396728515625.\n",
      "LOCAL_RANK: 0 - CUDA_VISIBLE_DEVICES: [0]\n",
      "[I 2023-11-23 19:16:04,293] Trial 51 finished with value: 36.105796813964844 and parameters: {'gradient_clip_val': 0.24512547964162132, 'hidden_size': 70, 'dropout': 0.140634675931295, 'hidden_continuous_size': 54, 'attention_head_size': 3, 'learning_rate': 0.0010204842144544317}. Best is trial 32 with value: 26.25396728515625.\n",
      "LOCAL_RANK: 0 - CUDA_VISIBLE_DEVICES: [0]\n",
      "[I 2023-11-23 19:16:43,132] Trial 52 finished with value: 30.062891006469727 and parameters: {'gradient_clip_val': 0.26240124333777465, 'hidden_size': 60, 'dropout': 0.14250756967782027, 'hidden_continuous_size': 51, 'attention_head_size': 3, 'learning_rate': 0.0012436836070063456}. Best is trial 32 with value: 26.25396728515625.\n",
      "LOCAL_RANK: 0 - CUDA_VISIBLE_DEVICES: [0]\n",
      "[I 2023-11-23 19:17:25,105] Trial 53 finished with value: 35.18770980834961 and parameters: {'gradient_clip_val': 0.2629425375050543, 'hidden_size': 53, 'dropout': 0.1714870441770821, 'hidden_continuous_size': 51, 'attention_head_size': 3, 'learning_rate': 0.0019930939873892255}. Best is trial 32 with value: 26.25396728515625.\n",
      "LOCAL_RANK: 0 - CUDA_VISIBLE_DEVICES: [0]\n",
      "[I 2023-11-23 19:18:04,777] Trial 54 finished with value: 40.26854705810547 and parameters: {'gradient_clip_val': 0.27839591297646804, 'hidden_size': 59, 'dropout': 0.11870025558717381, 'hidden_continuous_size': 51, 'attention_head_size': 3, 'learning_rate': 0.0012143655374715592}. Best is trial 32 with value: 26.25396728515625.\n",
      "LOCAL_RANK: 0 - CUDA_VISIBLE_DEVICES: [0]\n",
      "[I 2023-11-23 19:18:42,333] Trial 55 finished with value: 34.353153228759766 and parameters: {'gradient_clip_val': 0.20200015317773268, 'hidden_size': 68, 'dropout': 0.14710967471788533, 'hidden_continuous_size': 53, 'attention_head_size': 2, 'learning_rate': 0.0015120846059279796}. Best is trial 32 with value: 26.25396728515625.\n",
      "LOCAL_RANK: 0 - CUDA_VISIBLE_DEVICES: [0]\n",
      "[I 2023-11-23 19:19:21,933] Trial 56 finished with value: 31.572938919067383 and parameters: {'gradient_clip_val': 0.2245278163675023, 'hidden_size': 63, 'dropout': 0.1589225433492452, 'hidden_continuous_size': 52, 'attention_head_size': 3, 'learning_rate': 0.001246737475484214}. Best is trial 32 with value: 26.25396728515625.\n",
      "LOCAL_RANK: 0 - CUDA_VISIBLE_DEVICES: [0]\n",
      "[I 2023-11-23 19:19:54,186] Trial 57 finished with value: 34.72616958618164 and parameters: {'gradient_clip_val': 0.24142183027816264, 'hidden_size': 50, 'dropout': 0.1724438428473447, 'hidden_continuous_size': 50, 'attention_head_size': 3, 'learning_rate': 0.0018185036489475268}. Best is trial 32 with value: 26.25396728515625.\n",
      "LOCAL_RANK: 0 - CUDA_VISIBLE_DEVICES: [0]\n",
      "[I 2023-11-23 19:20:33,314] Trial 58 finished with value: 37.688053131103516 and parameters: {'gradient_clip_val': 0.3051675310826186, 'hidden_size': 56, 'dropout': 0.13188011132048882, 'hidden_continuous_size': 51, 'attention_head_size': 2, 'learning_rate': 0.0021492768199188068}. Best is trial 32 with value: 26.25396728515625.\n",
      "LOCAL_RANK: 0 - CUDA_VISIBLE_DEVICES: [0]\n",
      "[I 2023-11-23 19:21:14,891] Trial 59 finished with value: 33.412227630615234 and parameters: {'gradient_clip_val': 0.18157703421213026, 'hidden_size': 53, 'dropout': 0.18015399368557367, 'hidden_continuous_size': 50, 'attention_head_size': 3, 'learning_rate': 0.0014483338791232672}. Best is trial 32 with value: 26.25396728515625.\n",
      "LOCAL_RANK: 0 - CUDA_VISIBLE_DEVICES: [0]\n",
      "[I 2023-11-23 19:21:54,661] Trial 60 finished with value: 31.583084106445312 and parameters: {'gradient_clip_val': 0.16230616578281684, 'hidden_size': 65, 'dropout': 0.1626158456787818, 'hidden_continuous_size': 52, 'attention_head_size': 4, 'learning_rate': 0.0011875549141064506}. Best is trial 32 with value: 26.25396728515625.\n",
      "LOCAL_RANK: 0 - CUDA_VISIBLE_DEVICES: [0]\n",
      "[I 2023-11-23 19:22:32,604] Trial 61 finished with value: 40.58675003051758 and parameters: {'gradient_clip_val': 0.2489318291219464, 'hidden_size': 60, 'dropout': 0.14261560853244484, 'hidden_continuous_size': 51, 'attention_head_size': 3, 'learning_rate': 0.0010095070101396883}. Best is trial 32 with value: 26.25396728515625.\n",
      "LOCAL_RANK: 0 - CUDA_VISIBLE_DEVICES: [0]\n",
      "[I 2023-11-23 19:23:12,765] Trial 62 finished with value: 30.693490982055664 and parameters: {'gradient_clip_val': 0.23473757830002345, 'hidden_size': 62, 'dropout': 0.15194330078107796, 'hidden_continuous_size': 51, 'attention_head_size': 3, 'learning_rate': 0.0011571321800813517}. Best is trial 32 with value: 26.25396728515625.\n",
      "LOCAL_RANK: 0 - CUDA_VISIBLE_DEVICES: [0]\n",
      "[I 2023-11-23 19:23:52,511] Trial 63 finished with value: 35.99835205078125 and parameters: {'gradient_clip_val': 0.21538141702896774, 'hidden_size': 58, 'dropout': 0.1244090078825368, 'hidden_continuous_size': 51, 'attention_head_size': 3, 'learning_rate': 0.0015885964586370696}. Best is trial 32 with value: 26.25396728515625.\n",
      "LOCAL_RANK: 0 - CUDA_VISIBLE_DEVICES: [0]\n",
      "[I 2023-11-23 19:24:30,465] Trial 64 finished with value: 34.761173248291016 and parameters: {'gradient_clip_val': 0.2644265029894919, 'hidden_size': 56, 'dropout': 0.1363822569660087, 'hidden_continuous_size': 51, 'attention_head_size': 3, 'learning_rate': 0.0011597328349329016}. Best is trial 32 with value: 26.25396728515625.\n",
      "LOCAL_RANK: 0 - CUDA_VISIBLE_DEVICES: [0]\n",
      "[I 2023-11-23 19:25:11,569] Trial 65 finished with value: 31.46116065979004 and parameters: {'gradient_clip_val': 0.1964291650638466, 'hidden_size': 71, 'dropout': 0.16925284644427346, 'hidden_continuous_size': 53, 'attention_head_size': 2, 'learning_rate': 0.0010041975370712573}. Best is trial 32 with value: 26.25396728515625.\n",
      "LOCAL_RANK: 0 - CUDA_VISIBLE_DEVICES: [0]\n",
      "[I 2023-11-23 19:25:50,106] Trial 66 finished with value: 31.85069465637207 and parameters: {'gradient_clip_val': 0.2885741199218727, 'hidden_size': 60, 'dropout': 0.14504251561676854, 'hidden_continuous_size': 50, 'attention_head_size': 3, 'learning_rate': 0.001484692389298177}. Best is trial 32 with value: 26.25396728515625.\n",
      "LOCAL_RANK: 0 - CUDA_VISIBLE_DEVICES: [0]\n",
      "[I 2023-11-23 19:26:31,508] Trial 67 finished with value: 36.354557037353516 and parameters: {'gradient_clip_val': 0.2174268136704038, 'hidden_size': 67, 'dropout': 0.13110029895555106, 'hidden_continuous_size': 53, 'attention_head_size': 3, 'learning_rate': 0.0017236207215533474}. Best is trial 32 with value: 26.25396728515625.\n",
      "LOCAL_RANK: 0 - CUDA_VISIBLE_DEVICES: [0]\n",
      "[I 2023-11-23 19:27:11,754] Trial 68 finished with value: 31.517471313476562 and parameters: {'gradient_clip_val': 0.32880300798082335, 'hidden_size': 64, 'dropout': 0.1533406741474016, 'hidden_continuous_size': 52, 'attention_head_size': 2, 'learning_rate': 0.001378809312148064}. Best is trial 32 with value: 26.25396728515625.\n",
      "LOCAL_RANK: 0 - CUDA_VISIBLE_DEVICES: [0]\n",
      "[I 2023-11-23 19:27:53,998] Trial 69 finished with value: 31.833402633666992 and parameters: {'gradient_clip_val': 0.24322477515022464, 'hidden_size': 55, 'dropout': 0.1599071277577998, 'hidden_continuous_size': 51, 'attention_head_size': 3, 'learning_rate': 0.0011326602254963477}. Best is trial 32 with value: 26.25396728515625.\n",
      "LOCAL_RANK: 0 - CUDA_VISIBLE_DEVICES: [0]\n",
      "[I 2023-11-23 19:28:35,197] Trial 70 finished with value: 33.92204666137695 and parameters: {'gradient_clip_val': 0.2706203415731579, 'hidden_size': 52, 'dropout': 0.1385933947743218, 'hidden_continuous_size': 50, 'attention_head_size': 3, 'learning_rate': 0.0021445176247181013}. Best is trial 32 with value: 26.25396728515625.\n",
      "LOCAL_RANK: 0 - CUDA_VISIBLE_DEVICES: [0]\n",
      "[I 2023-11-23 19:29:15,781] Trial 71 finished with value: 32.19203567504883 and parameters: {'gradient_clip_val': 0.21335573528859508, 'hidden_size': 62, 'dropout': 0.13251059977495816, 'hidden_continuous_size': 52, 'attention_head_size': 3, 'learning_rate': 0.0011324813644342448}. Best is trial 32 with value: 26.25396728515625.\n",
      "LOCAL_RANK: 0 - CUDA_VISIBLE_DEVICES: [0]\n",
      "[I 2023-11-23 19:29:54,038] Trial 72 finished with value: 32.57086181640625 and parameters: {'gradient_clip_val': 0.22621673987639634, 'hidden_size': 64, 'dropout': 0.14670795883084767, 'hidden_continuous_size': 52, 'attention_head_size': 3, 'learning_rate': 0.0013556872177956814}. Best is trial 32 with value: 26.25396728515625.\n",
      "LOCAL_RANK: 0 - CUDA_VISIBLE_DEVICES: [0]\n",
      "[I 2023-11-23 19:30:32,969] Trial 73 finished with value: 31.829015731811523 and parameters: {'gradient_clip_val': 0.25247495119573754, 'hidden_size': 68, 'dropout': 0.12767012357931862, 'hidden_continuous_size': 54, 'attention_head_size': 3, 'learning_rate': 0.001009546514866724}. Best is trial 32 with value: 26.25396728515625.\n",
      "LOCAL_RANK: 0 - CUDA_VISIBLE_DEVICES: [0]\n",
      "[I 2023-11-23 19:31:13,576] Trial 74 finished with value: 33.38399124145508 and parameters: {'gradient_clip_val': 0.298417505987003, 'hidden_size': 75, 'dropout': 0.11943431324072949, 'hidden_continuous_size': 53, 'attention_head_size': 3, 'learning_rate': 0.0015776788698133298}. Best is trial 32 with value: 26.25396728515625.\n",
      "LOCAL_RANK: 0 - CUDA_VISIBLE_DEVICES: [0]\n",
      "[I 2023-11-23 19:31:54,712] Trial 75 finished with value: 32.94689178466797 and parameters: {'gradient_clip_val': 0.19939562065247127, 'hidden_size': 58, 'dropout': 0.1412755606058572, 'hidden_continuous_size': 52, 'attention_head_size': 1, 'learning_rate': 0.0011724454681387166}. Best is trial 32 with value: 26.25396728515625.\n",
      "LOCAL_RANK: 0 - CUDA_VISIBLE_DEVICES: [0]\n",
      "[I 2023-11-23 19:32:33,992] Trial 76 finished with value: 29.948698043823242 and parameters: {'gradient_clip_val': 0.2738935936582809, 'hidden_size': 61, 'dropout': 0.16551971785175434, 'hidden_continuous_size': 50, 'attention_head_size': 3, 'learning_rate': 0.001334143745080143}. Best is trial 32 with value: 26.25396728515625.\n",
      "LOCAL_RANK: 0 - CUDA_VISIBLE_DEVICES: [0]\n",
      "[I 2023-11-23 19:33:16,170] Trial 77 finished with value: 32.773345947265625 and parameters: {'gradient_clip_val': 0.2926167482960176, 'hidden_size': 55, 'dropout': 0.16691315030456785, 'hidden_continuous_size': 50, 'attention_head_size': 3, 'learning_rate': 0.0017185247490938455}. Best is trial 32 with value: 26.25396728515625.\n",
      "LOCAL_RANK: 0 - CUDA_VISIBLE_DEVICES: [0]\n",
      "[I 2023-11-23 19:33:53,838] Trial 78 finished with value: 29.80051612854004 and parameters: {'gradient_clip_val': 0.33506791929533647, 'hidden_size': 60, 'dropout': 0.1571152748315357, 'hidden_continuous_size': 50, 'attention_head_size': 3, 'learning_rate': 0.0013862225689789266}. Best is trial 32 with value: 26.25396728515625.\n",
      "LOCAL_RANK: 0 - CUDA_VISIBLE_DEVICES: [0]\n",
      "[I 2023-11-23 19:34:32,773] Trial 79 finished with value: 35.458072662353516 and parameters: {'gradient_clip_val': 0.33095160053528233, 'hidden_size': 66, 'dropout': 0.15833571248712272, 'hidden_continuous_size': 50, 'attention_head_size': 2, 'learning_rate': 0.0014338066401538866}. Best is trial 32 with value: 26.25396728515625.\n",
      "LOCAL_RANK: 0 - CUDA_VISIBLE_DEVICES: [0]\n",
      "[I 2023-11-23 19:35:11,749] Trial 80 finished with value: 34.015708923339844 and parameters: {'gradient_clip_val': 0.37212892075657344, 'hidden_size': 58, 'dropout': 0.1758688452542399, 'hidden_continuous_size': 50, 'attention_head_size': 4, 'learning_rate': 0.0018859862040651312}. Best is trial 32 with value: 26.25396728515625.\n",
      "LOCAL_RANK: 0 - CUDA_VISIBLE_DEVICES: [0]\n",
      "[I 2023-11-23 19:35:51,074] Trial 81 finished with value: 31.339332580566406 and parameters: {'gradient_clip_val': 0.2633948257296443, 'hidden_size': 61, 'dropout': 0.15694867939156829, 'hidden_continuous_size': 50, 'attention_head_size': 3, 'learning_rate': 0.0012892538409241547}. Best is trial 32 with value: 26.25396728515625.\n",
      "LOCAL_RANK: 0 - CUDA_VISIBLE_DEVICES: [0]\n",
      "[I 2023-11-23 19:36:30,792] Trial 82 finished with value: 30.716482162475586 and parameters: {'gradient_clip_val': 0.27584175226348606, 'hidden_size': 52, 'dropout': 0.1496703938682521, 'hidden_continuous_size': 50, 'attention_head_size': 3, 'learning_rate': 0.0011138773771272347}. Best is trial 32 with value: 26.25396728515625.\n",
      "LOCAL_RANK: 0 - CUDA_VISIBLE_DEVICES: [0]\n",
      "[I 2023-11-23 19:37:09,609] Trial 83 finished with value: 32.11301040649414 and parameters: {'gradient_clip_val': 0.24923985809683294, 'hidden_size': 61, 'dropout': 0.16640319810097148, 'hidden_continuous_size': 51, 'attention_head_size': 3, 'learning_rate': 0.0013490933102709986}. Best is trial 32 with value: 26.25396728515625.\n",
      "LOCAL_RANK: 0 - CUDA_VISIBLE_DEVICES: [0]\n",
      "[I 2023-11-23 19:37:49,933] Trial 84 finished with value: 37.05649185180664 and parameters: {'gradient_clip_val': 0.2343807956752482, 'hidden_size': 56, 'dropout': 0.16346574310501275, 'hidden_continuous_size': 50, 'attention_head_size': 3, 'learning_rate': 0.0016496203322328394}. Best is trial 32 with value: 26.25396728515625.\n",
      "LOCAL_RANK: 0 - CUDA_VISIBLE_DEVICES: [0]\n",
      "[I 2023-11-23 19:38:29,723] Trial 85 finished with value: 33.66135025024414 and parameters: {'gradient_clip_val': 0.31586964879331597, 'hidden_size': 59, 'dropout': 0.18046238784415014, 'hidden_continuous_size': 51, 'attention_head_size': 3, 'learning_rate': 0.0012572241428852162}. Best is trial 32 with value: 26.25396728515625.\n",
      "LOCAL_RANK: 0 - CUDA_VISIBLE_DEVICES: [0]\n",
      "[I 2023-11-23 19:39:10,713] Trial 86 finished with value: 44.758426666259766 and parameters: {'gradient_clip_val': 0.29148225851491705, 'hidden_size': 54, 'dropout': 0.13619980294317566, 'hidden_continuous_size': 50, 'attention_head_size': 3, 'learning_rate': 0.0014426182298658116}. Best is trial 32 with value: 26.25396728515625.\n",
      "LOCAL_RANK: 0 - CUDA_VISIBLE_DEVICES: [0]\n",
      "[I 2023-11-23 19:39:51,054] Trial 87 finished with value: 29.351003646850586 and parameters: {'gradient_clip_val': 0.26488654025233455, 'hidden_size': 70, 'dropout': 0.1517218033504447, 'hidden_continuous_size': 61, 'attention_head_size': 3, 'learning_rate': 0.001149734509921199}. Best is trial 32 with value: 26.25396728515625.\n",
      "LOCAL_RANK: 0 - CUDA_VISIBLE_DEVICES: [0]\n",
      "[I 2023-11-23 19:40:30,504] Trial 88 finished with value: 35.173160552978516 and parameters: {'gradient_clip_val': 0.2713221249310604, 'hidden_size': 69, 'dropout': 0.17146179195808628, 'hidden_continuous_size': 61, 'attention_head_size': 3, 'learning_rate': 0.0019690823872417634}. Best is trial 32 with value: 26.25396728515625.\n",
      "LOCAL_RANK: 0 - CUDA_VISIBLE_DEVICES: [0]\n",
      "[I 2023-11-23 19:41:10,954] Trial 89 finished with value: 39.206844329833984 and parameters: {'gradient_clip_val': 0.354865454708977, 'hidden_size': 71, 'dropout': 0.15489215007723164, 'hidden_continuous_size': 61, 'attention_head_size': 3, 'learning_rate': 0.0026732586408131937}. Best is trial 32 with value: 26.25396728515625.\n",
      "LOCAL_RANK: 0 - CUDA_VISIBLE_DEVICES: [0]\n",
      "[I 2023-11-23 19:41:50,644] Trial 90 finished with value: 40.89888000488281 and parameters: {'gradient_clip_val': 0.2994664356102659, 'hidden_size': 66, 'dropout': 0.14977209887245496, 'hidden_continuous_size': 55, 'attention_head_size': 3, 'learning_rate': 0.0011295631436012954}. Best is trial 32 with value: 26.25396728515625.\n",
      "LOCAL_RANK: 0 - CUDA_VISIBLE_DEVICES: [0]\n",
      "[I 2023-11-23 19:42:28,891] Trial 91 finished with value: 31.626007080078125 and parameters: {'gradient_clip_val': 0.2594263800886893, 'hidden_size': 64, 'dropout': 0.14348803133025628, 'hidden_continuous_size': 56, 'attention_head_size': 3, 'learning_rate': 0.0012189681526662214}. Best is trial 32 with value: 26.25396728515625.\n",
      "LOCAL_RANK: 0 - CUDA_VISIBLE_DEVICES: [0]\n",
      "[I 2023-11-23 19:43:09,333] Trial 92 finished with value: 31.9735107421875 and parameters: {'gradient_clip_val': 0.24073822278119272, 'hidden_size': 61, 'dropout': 0.15406530164124627, 'hidden_continuous_size': 51, 'attention_head_size': 3, 'learning_rate': 0.0010118020203206245}. Best is trial 32 with value: 26.25396728515625.\n",
      "LOCAL_RANK: 0 - CUDA_VISIBLE_DEVICES: [0]\n",
      "[I 2023-11-23 19:43:49,062] Trial 93 finished with value: 35.60063552856445 and parameters: {'gradient_clip_val': 0.23202741381752665, 'hidden_size': 57, 'dropout': 0.16104653919221076, 'hidden_continuous_size': 54, 'attention_head_size': 3, 'learning_rate': 0.0015735248627015566}. Best is trial 32 with value: 26.25396728515625.\n",
      "LOCAL_RANK: 0 - CUDA_VISIBLE_DEVICES: [0]\n",
      "[I 2023-11-23 19:44:28,928] Trial 94 finished with value: 30.889144897460938 and parameters: {'gradient_clip_val': 0.28467301014020163, 'hidden_size': 63, 'dropout': 0.1405848607927231, 'hidden_continuous_size': 57, 'attention_head_size': 3, 'learning_rate': 0.0010946754583523316}. Best is trial 32 with value: 26.25396728515625.\n",
      "LOCAL_RANK: 0 - CUDA_VISIBLE_DEVICES: [0]\n",
      "[I 2023-11-23 19:45:07,832] Trial 95 finished with value: 32.75210189819336 and parameters: {'gradient_clip_val': 0.25085076756120755, 'hidden_size': 68, 'dropout': 0.14637851506538202, 'hidden_continuous_size': 59, 'attention_head_size': 3, 'learning_rate': 0.0012993264676738538}. Best is trial 32 with value: 26.25396728515625.\n",
      "LOCAL_RANK: 0 - CUDA_VISIBLE_DEVICES: [0]\n",
      "[I 2023-11-23 19:45:47,059] Trial 96 finished with value: 33.032936096191406 and parameters: {'gradient_clip_val': 0.22440262785543755, 'hidden_size': 59, 'dropout': 0.13384456866686376, 'hidden_continuous_size': 55, 'attention_head_size': 3, 'learning_rate': 0.0014630341858834525}. Best is trial 32 with value: 26.25396728515625.\n",
      "LOCAL_RANK: 0 - CUDA_VISIBLE_DEVICES: [0]\n",
      "[I 2023-11-23 19:46:27,335] Trial 97 finished with value: 33.74845886230469 and parameters: {'gradient_clip_val': 0.2680988792940984, 'hidden_size': 62, 'dropout': 0.1648016211783141, 'hidden_continuous_size': 51, 'attention_head_size': 3, 'learning_rate': 0.0012157612719843152}. Best is trial 32 with value: 26.25396728515625.\n",
      "LOCAL_RANK: 0 - CUDA_VISIBLE_DEVICES: [0]\n",
      "[I 2023-11-23 19:47:06,887] Trial 98 finished with value: 36.8175163269043 and parameters: {'gradient_clip_val': 0.3265244849837788, 'hidden_size': 66, 'dropout': 0.12707246204474806, 'hidden_continuous_size': 51, 'attention_head_size': 2, 'learning_rate': 0.0018299692094617965}. Best is trial 32 with value: 26.25396728515625.\n",
      "LOCAL_RANK: 0 - CUDA_VISIBLE_DEVICES: [0]\n",
      "[I 2023-11-23 19:47:44,933] Trial 99 finished with value: 30.567245483398438 and parameters: {'gradient_clip_val': 0.20414722534363905, 'hidden_size': 64, 'dropout': 0.14927644594951886, 'hidden_continuous_size': 50, 'attention_head_size': 3, 'learning_rate': 0.0010954650078154717}. Best is trial 32 with value: 26.25396728515625.\n",
      "LOCAL_RANK: 0 - CUDA_VISIBLE_DEVICES: [0]\n"
     ]
    },
    {
     "name": "stdout",
     "output_type": "stream",
     "text": [
      "Tuning done! Best params for H1: \n",
      "{'gradient_clip_val': 0.269168214151623, 'hidden_size': 68, 'dropout': 0.1286910673488292, 'hidden_continuous_size': 52, 'attention_head_size': 3, 'learning_rate': 0.0010083156281266929}\n",
      "Epoch 94: 100%|██████████| 3/3 [00:00<00:00,  3.97it/s, train_loss_step=0.0359, val_loss=0.0825, train_loss_epoch=0.0356]\n"
     ]
    },
    {
     "name": "stderr",
     "output_type": "stream",
     "text": [
      "LOCAL_RANK: 0 - CUDA_VISIBLE_DEVICES: [0]\n"
     ]
    }
   ],
   "source": [
    "for unique_id in ['H1']:\n",
    "\n",
    "    print(f'Currently training: {unique_id}')\n",
    "\n",
    "    df_base_models_train= pd.DataFrame({\n",
    "    'unique_id' : df_arima_train.unique_id,\n",
    "    'y_arima' : df_arima_train.y_hat,\n",
    "    'y_theta' : df_theta_train.y_hat,\n",
    "    'y_xgb' : df_xgb_train.y,\n",
    "    'y_gru' : df_gru_train.y_hat,\n",
    "    'y_lstm' : df_lstm_train.y_hat\n",
    "    })\n",
    "\n",
    "    df_base_models_test= pd.DataFrame({\n",
    "    'unique_id' : df_arima_test.unique_id,\n",
    "    'y_arima' : df_arima_test.y_hat,\n",
    "    'y_theta' : df_theta_test.y_hat,\n",
    "    'y_xgb' : df_xgb_test.y_hat,\n",
    "    'y_gru' : df_gru_test.y_hat,\n",
    "    'y_lstm' : df_lstm_test.y_hat\n",
    "    })\n",
    "\n",
    "    # Filter data for the current series (train and val data)\n",
    "    df = y_train_df[y_train_df['unique_id'] == unique_id].copy()\n",
    "    df['ds'] = (df['ds'] - df['ds'].min()).dt.total_seconds() // 3600\n",
    "    df['ds'] = df['ds'].astype(int)\n",
    "    df_train_val = pd.concat([df.iloc[-24*7:].reset_index(drop=True).drop(columns=['unique_id']), \n",
    "                              df_base_models_train[df_base_models_train['unique_id']==unique_id].reset_index(drop=True)], axis=1)\n",
    "    \n",
    "    # Test data\n",
    "    df = y_test_df.drop(columns=['y_hat_naive2'])[y_test_df['unique_id'] == unique_id].copy()\n",
    "    df['ds'] = (df['ds'] - df['ds'].min()).dt.total_seconds() // 3600 + df_train_val['ds'].max() + 1  #700\n",
    "    df['ds'] = df['ds'].astype(int)\n",
    "    df_test = pd.concat([df.reset_index(drop=True).drop(columns=['unique_id']), \n",
    "                         df_base_models_test[df_base_models_test['unique_id']==unique_id].reset_index(drop=True)], axis=1)\n",
    "\n",
    "    # Create the TimeSeriesDataSet for training\n",
    "    max_encoder_length = 24*7\n",
    "    max_prediction_length = 48\n",
    "\n",
    "    training = TimeSeriesDataSet(\n",
    "        df_train_val.iloc[:-max_prediction_length],\n",
    "        time_idx=\"ds\",\n",
    "        target=\"y\",\n",
    "        group_ids=['unique_id'],\n",
    "        max_encoder_length=max_encoder_length,\n",
    "        # min_encoder_length=max_encoder_length // 2,\n",
    "        min_encoder_length=1,\n",
    "        max_prediction_length=max_prediction_length,\n",
    "        # min_prediction_length=max_prediction_length // 2,\n",
    "        min_prediction_length=1,\n",
    "        time_varying_known_reals=['y_arima', 'y_theta', 'y_xgb', 'y_gru', 'y_lstm'],  # Base model forecasts\n",
    "        target_normalizer=GroupNormalizer(\n",
    "            groups=[\"unique_id\"], transformation=\"softplus\"\n",
    "        ),\n",
    "        add_relative_time_idx=True,\n",
    "        add_target_scales=True,\n",
    "        add_encoder_length=True,\n",
    "        # allow_missing_timesteps=True\n",
    "        )\n",
    "    \n",
    "    validation = TimeSeriesDataSet.from_dataset(training, df_train_val, predict=True, stop_randomization=True)\n",
    "\n",
    "    # creating the test data that includes the encoder and decoder data\n",
    "    encoder_data = df_train_val[lambda x: x.ds > x.ds.max() - max_encoder_length]\n",
    "    df_test.y = df_train_val.y[df_train_val.ds == df_train_val.ds.max()].values[0]\n",
    "    decoder_data = df_test\n",
    "    new_prediction_data = pd.concat([encoder_data, decoder_data], ignore_index=True)\n",
    "\n",
    "    batch_size = 64  # set this between 32 to 128\n",
    "    train_dataloader = training.to_dataloader(train=True, batch_size=batch_size, num_workers=0)\n",
    "    val_dataloader = validation.to_dataloader(train=False, batch_size=batch_size * 10, num_workers=0)\n",
    "\n",
    "    ### TUNING\n",
    "    best_params = {}\n",
    "    print(f'Tuning has started for {unique_id}...')\n",
    "    study = optimize_hyperparameters(\n",
    "        train_dataloader,\n",
    "        val_dataloader,\n",
    "        model_path=\"optuna_tune_test\",\n",
    "        n_trials = 100,\n",
    "        max_epochs = 50,\n",
    "        gradient_clip_val_range=(0.1, 1.0),\n",
    "        hidden_size_range=(50, 200),\n",
    "        hidden_continuous_size_range=(50, 200),\n",
    "        attention_head_size_range=(1, 4),\n",
    "        learning_rate_range=(0.001, 0.1),\n",
    "        dropout_range=(0.1, 0.3),\n",
    "        trainer_kwargs=dict(limit_train_batches=30,\n",
    "                            enable_checkpointing=False,\n",
    "                            callbacks=[]),\n",
    "        reduce_on_plateau_patience=4,\n",
    "        use_learning_rate_finder=False,\n",
    "    )\n",
    "\n",
    "    with open(f\"best_params/study_{unique_id}.pkl\", \"wb\") as fout:\n",
    "        pickle.dump(study, fout)\n",
    "\n",
    "    print(f'Tuning done! Best params for {unique_id}: ')\n",
    "    print(study.best_trial.params)\n",
    "\n",
    "    ### END TUNING\n",
    "\n",
    "    best_params = study.best_trial.params\n",
    "\n",
    "    # configure network and trainer\n",
    "    early_stop_callback = EarlyStopping(monitor=\"val_loss\", min_delta=1e-5, patience=50, verbose=False, mode=\"min\")\n",
    "    lr_logger = LearningRateMonitor()  # log the learning rate\n",
    "    logger = TensorBoardLogger(\"lightning_logs\")  # logging results to a tensorboard\n",
    "\n",
    "    trainer = pl.Trainer(\n",
    "        max_epochs=150,\n",
    "        accelerator=\"gpu\",\n",
    "        gradient_clip_val=best_params['gradient_clip_val'],\n",
    "        limit_train_batches=50,  # coment in for training, running valiation every 30 batches\n",
    "        # fast_dev_run=True,  # comment in to check that networkor dataset has no serious bugs\n",
    "        callbacks=[early_stop_callback],\n",
    "        logger=False,\n",
    "        enable_model_summary=False,\n",
    "        enable_checkpointing=False\n",
    "    )\n",
    "\n",
    "    tft = TemporalFusionTransformer.from_dataset(\n",
    "        training,\n",
    "        learning_rate=best_params['learning_rate'],\n",
    "        hidden_size=best_params['hidden_size'],\n",
    "        attention_head_size=best_params['attention_head_size'],\n",
    "        dropout=best_params['dropout'],\n",
    "        hidden_continuous_size=best_params['hidden_continuous_size'],\n",
    "        loss=SMAPE(),\n",
    "        # log_interval=10,  # uncomment for learning rate finder and otherwise, e.g. to 10 for logging every 10 batches\n",
    "        optimizer=\"Ranger\",\n",
    "        reduce_on_plateau_patience=4,\n",
    "    )\n",
    "\n",
    "\n",
    "    trainer.fit(\n",
    "    tft,\n",
    "    train_dataloaders=train_dataloader,\n",
    "    val_dataloaders=val_dataloader,\n",
    "    )\n",
    "\n",
    "    new_raw_predictions = tft.predict(new_prediction_data, mode=\"raw\", return_x=True, trainer_kwargs=dict(accelerator=\"gpu\"))\n",
    "    all_forecasts[unique_id] = new_raw_predictions.output.prediction.cpu().numpy().flatten()\n",
    "\n"
   ]
  },
  {
   "cell_type": "code",
   "execution_count": 11,
   "metadata": {},
   "outputs": [
    {
     "data": {
      "text/plain": [
       "{'gradient_clip_val': 0.269168214151623,\n",
       " 'hidden_size': 68,\n",
       " 'dropout': 0.1286910673488292,\n",
       " 'hidden_continuous_size': 52,\n",
       " 'attention_head_size': 3,\n",
       " 'learning_rate': 0.0010083156281266929}"
      ]
     },
     "execution_count": 11,
     "metadata": {},
     "output_type": "execute_result"
    }
   ],
   "source": [
    "best_params"
   ]
  },
  {
   "cell_type": "code",
   "execution_count": 14,
   "metadata": {},
   "outputs": [
    {
     "data": {
      "text/plain": [
       "{'gradient_clip_val': 0.01252719132864506,\n",
       " 'hidden_size': 90,\n",
       " 'dropout': 0.24957288175755601,\n",
       " 'hidden_continuous_size': 17,\n",
       " 'attention_head_size': 3,\n",
       " 'learning_rate': 0.002420687005025646}"
      ]
     },
     "execution_count": 14,
     "metadata": {},
     "output_type": "execute_result"
    }
   ],
   "source": [
    "best_params"
   ]
  },
  {
   "cell_type": "code",
   "execution_count": 12,
   "metadata": {},
   "outputs": [],
   "source": [
    "y_hat_new = all_forecasts['H1']"
   ]
  },
  {
   "cell_type": "code",
   "execution_count": 23,
   "metadata": {},
   "outputs": [],
   "source": [
    "tft_fix = pd.read_csv('../../results/m4/TFT/training/y_hat_df_tft_bm7_fix.csv')"
   ]
  },
  {
   "cell_type": "code",
   "execution_count": 24,
   "metadata": {},
   "outputs": [],
   "source": [
    "y_hat_fix = tft_fix[tft_fix['unique_id'] == 'H1'].y_hat.to_numpy()"
   ]
  },
  {
   "cell_type": "code",
   "execution_count": 25,
   "metadata": {},
   "outputs": [],
   "source": [
    "y = y_test_df[y_test_df['unique_id'] == 'H1'].y.to_numpy()"
   ]
  },
  {
   "cell_type": "code",
   "execution_count": 24,
   "metadata": {},
   "outputs": [
    {
     "data": {
      "text/plain": [
       "297.0546158329076"
      ]
     },
     "execution_count": 24,
     "metadata": {},
     "output_type": "execute_result"
    }
   ],
   "source": [
    "np.sqrt(((y - y_hat_fix)**2).sum())"
   ]
  },
  {
   "cell_type": "code",
   "execution_count": 25,
   "metadata": {},
   "outputs": [
    {
     "data": {
      "text/plain": [
       "239.7857669789725"
      ]
     },
     "execution_count": 25,
     "metadata": {},
     "output_type": "execute_result"
    }
   ],
   "source": [
    "np.sqrt(((y - y_hat_new)**2).sum())"
   ]
  },
  {
   "cell_type": "code",
   "execution_count": 17,
   "metadata": {},
   "outputs": [
    {
     "data": {
      "text/plain": [
       "array([619., 565., 532., 495., 481., 467., 473., 488., 501., 534., 576.,\n",
       "       639., 712., 772., 830., 880., 893., 896., 891., 854., 803., 769.,\n",
       "       751., 701., 635., 572., 532., 493., 477., 468., 464., 477., 492.,\n",
       "       519., 568., 624., 696., 761., 812., 836., 838., 829., 807., 785.,\n",
       "       756., 719., 703., 659.])"
      ]
     },
     "execution_count": 17,
     "metadata": {},
     "output_type": "execute_result"
    }
   ],
   "source": [
    "y"
   ]
  },
  {
   "cell_type": "code",
   "execution_count": 18,
   "metadata": {},
   "outputs": [
    {
     "data": {
      "text/plain": [
       "array([599.87714, 535.1106 , 492.69775, 458.47858, 433.04303, 418.69598,\n",
       "       413.63538, 425.68256, 433.354  , 474.0841 , 535.26105, 608.76917,\n",
       "       680.6441 , 741.88257, 783.6853 , 810.09534, 823.4004 , 828.59406,\n",
       "       831.62866, 826.578  , 808.09357, 771.691  , 741.979  , 673.0538 ,\n",
       "       596.1395 , 522.65454, 479.08722, 446.90875, 425.7067 , 414.18658,\n",
       "       411.84396, 426.32535, 435.20245, 477.3517 , 539.3244 , 612.76495,\n",
       "       687.0244 , 752.6356 , 797.5754 , 823.9369 , 836.6084 , 839.63513,\n",
       "       839.9314 , 832.3441 , 813.07574, 775.1058 , 744.4075 , 672.5274 ])"
      ]
     },
     "execution_count": 18,
     "metadata": {},
     "output_type": "execute_result"
    }
   ],
   "source": [
    "y_hat_fix"
   ]
  },
  {
   "cell_type": "code",
   "execution_count": 19,
   "metadata": {},
   "outputs": [
    {
     "data": {
      "text/plain": [
       "array([593.6775 , 526.3957 , 490.18463, 455.47583, 431.90118, 423.44656,\n",
       "       435.80698, 446.98163, 462.7348 , 497.44717, 545.48486, 627.6648 ,\n",
       "       698.3399 , 758.13745, 797.61975, 825.3072 , 837.12775, 840.80286,\n",
       "       840.0369 , 831.2204 , 807.3965 , 764.04175, 730.743  , 672.9338 ,\n",
       "       601.40375, 527.83795, 494.13165, 469.8308 , 434.35284, 419.6026 ,\n",
       "       428.38242, 449.09546, 463.0781 , 500.19058, 552.2465 , 634.4358 ,\n",
       "       707.3888 , 761.6421 , 806.7964 , 831.5182 , 845.06537, 849.30615,\n",
       "       847.30664, 837.69336, 813.26154, 772.75085, 738.3668 , 683.72546],\n",
       "      dtype=float32)"
      ]
     },
     "execution_count": 19,
     "metadata": {},
     "output_type": "execute_result"
    }
   ],
   "source": [
    "y_hat_new"
   ]
  },
  {
   "cell_type": "code",
   "execution_count": 22,
   "metadata": {},
   "outputs": [
    {
     "data": {
      "text/plain": [
       "array([ 19.12286,  29.8894 ,  39.30225,  36.52142,  47.95697,  48.30402,\n",
       "        59.36462,  62.31744,  67.646  ,  59.9159 ,  40.73895,  30.23083,\n",
       "        31.3559 ,  30.11743,  46.3147 ,  69.90466,  69.5996 ,  67.40594,\n",
       "        59.37134,  27.422  ,  -5.09357,  -2.691  ,   9.021  ,  27.9462 ,\n",
       "        38.8605 ,  49.34546,  52.91278,  46.09125,  51.2933 ,  53.81342,\n",
       "        52.15604,  50.67465,  56.79755,  41.6483 ,  28.6756 ,  11.23505,\n",
       "         8.9756 ,   8.3644 ,  14.4246 ,  12.0631 ,   1.3916 , -10.63513,\n",
       "       -32.9314 , -47.3441 , -57.07574, -56.1058 , -41.4075 , -13.5274 ])"
      ]
     },
     "execution_count": 22,
     "metadata": {},
     "output_type": "execute_result"
    }
   ],
   "source": [
    "y - y_hat_fix"
   ]
  },
  {
   "cell_type": "code",
   "execution_count": 23,
   "metadata": {},
   "outputs": [
    {
     "data": {
      "text/plain": [
       "array([ 25.32250977,  38.60430908,  41.81536865,  39.52416992,\n",
       "        49.09881592,  43.55343628,  37.19302368,  41.01837158,\n",
       "        38.26519775,  36.55282593,  30.51513672,  11.33520508,\n",
       "        13.66009521,  13.86254883,  32.38024902,  54.69281006,\n",
       "        55.87225342,  55.19714355,  50.96307373,  22.77960205,\n",
       "        -4.39648438,   4.95825195,  20.25701904,  28.06622314,\n",
       "        33.59625244,  44.16204834,  37.86834717,  23.16918945,\n",
       "        42.64715576,  48.3973999 ,  35.61758423,  27.90454102,\n",
       "        28.92190552,  18.80941772,  15.753479  , -10.43579102,\n",
       "       -11.38879395,  -0.64208984,   5.20361328,   4.48181152,\n",
       "        -7.06536865, -20.30615234, -40.30664062, -52.69335938,\n",
       "       -57.26153564, -53.75085449, -35.36682129, -24.72546387])"
      ]
     },
     "execution_count": 23,
     "metadata": {},
     "output_type": "execute_result"
    }
   ],
   "source": [
    "y - y_hat_new"
   ]
  },
  {
   "cell_type": "code",
   "execution_count": 26,
   "metadata": {},
   "outputs": [],
   "source": [
    "y_hat_new_tuned = np.array(\n",
    "       [580.929  , 500.33313, 453.0575 , 422.3617 , 404.78137, 397.22607,\n",
    "       395.95535, 402.99728, 410.1695 , 430.85004, 476.80298, 546.1606 ,\n",
    "       629.58405, 721.15564, 786.5959 , 822.59186, 836.2089 , 837.9536 ,\n",
    "       835.432  , 828.7916 , 814.7545 , 786.9878 , 748.9407 , 706.76965,\n",
    "       611.71436, 515.8975 , 464.03384, 430.43143, 410.90222, 402.03238,\n",
    "       400.5323 , 407.26727, 414.1297 , 435.1363 , 481.22034, 551.06036,\n",
    "       639.42596, 733.9288 , 797.51306, 829.7677 , 841.40234, 842.2708 ,\n",
    "       839.2884 , 831.82733, 817.5591 , 789.24927, 751.616  , 709.39325])"
   ]
  },
  {
   "cell_type": "code",
   "execution_count": 27,
   "metadata": {},
   "outputs": [
    {
     "data": {
      "text/plain": [
       "297.0546158329076"
      ]
     },
     "execution_count": 27,
     "metadata": {},
     "output_type": "execute_result"
    }
   ],
   "source": [
    "np.sqrt(((y - y_hat_fix)**2).sum())"
   ]
  },
  {
   "cell_type": "code",
   "execution_count": 28,
   "metadata": {},
   "outputs": [
    {
     "data": {
      "text/plain": [
       "425.1093153632626"
      ]
     },
     "execution_count": 28,
     "metadata": {},
     "output_type": "execute_result"
    }
   ],
   "source": [
    "np.sqrt(((y - y_hat_new_tuned)**2).sum())"
   ]
  },
  {
   "cell_type": "code",
   "execution_count": null,
   "metadata": {},
   "outputs": [],
   "source": []
  },
  {
   "cell_type": "code",
   "execution_count": 19,
   "metadata": {},
   "outputs": [],
   "source": [
    "tft_fix = pd.read_csv('../../results/m4/TFT/training/y_hat_df_tft_bm7_fix.csv')\n",
    "y_hat_fix = tft_fix[tft_fix['unique_id'] == 'H2'].y_hat.to_numpy()\n",
    "y = y_test_df[y_test_df['unique_id'] == 'H2'].y.to_numpy()"
   ]
  },
  {
   "cell_type": "code",
   "execution_count": 20,
   "metadata": {},
   "outputs": [],
   "source": [
    "y_hat_new_tuned_h2 = np.array(\n",
    "       [3648.6055, 3198.5742, 2769.7896, 2532.5613, 2367.6936, 2272.463 ,\n",
    "       2241.8467, 2279.6484, 2402.8403, 2632.213 , 2941.5076, 3264.5334,\n",
    "       3572.5544, 3819.8118, 3947.2212, 3992.1929, 4000.2188, 3999.1426,\n",
    "       3996.725 , 3994.8708, 3985.8467, 3961.5388, 3900.3215, 3832.404 ,\n",
    "       3683.63  , 3252.626 , 2809.6714, 2557.1655, 2405.5974, 2331.3054,\n",
    "       2321.322 , 2377.0835, 2512.728 , 2751.2598, 3051.8052, 3373.4436,\n",
    "       3671.6187, 3877.7148, 3973.837 , 4007.355 , 4013.4058, 4015.5168,\n",
    "       4010.6128, 4008.2886, 4000.525 , 3977.0308, 3913.165 , 3833.0796])"
   ]
  },
  {
   "cell_type": "code",
   "execution_count": 21,
   "metadata": {},
   "outputs": [
    {
     "data": {
      "text/plain": [
       "4816.917033854871"
      ]
     },
     "execution_count": 21,
     "metadata": {},
     "output_type": "execute_result"
    }
   ],
   "source": [
    "np.sqrt(((y - y_hat_fix)**2).sum())"
   ]
  },
  {
   "cell_type": "code",
   "execution_count": 22,
   "metadata": {},
   "outputs": [
    {
     "data": {
      "text/plain": [
       "5390.844602370027"
      ]
     },
     "execution_count": 22,
     "metadata": {},
     "output_type": "execute_result"
    }
   ],
   "source": [
    "np.sqrt(((y - y_hat_new_tuned_h2)**2).sum())"
   ]
  },
  {
   "cell_type": "code",
   "execution_count": 30,
   "metadata": {},
   "outputs": [],
   "source": [
    "test_dict = {'H1': np.array([580.929  , 500.33313, 453.0575 , 422.3617 , 404.78137, 397.22607,\n",
    "       395.95535, 402.99728, 410.1695 , 430.85004, 476.80298, 546.1606 ,\n",
    "       629.58405, 721.15564, 786.5959 , 822.59186, 836.2089 , 837.9536 ,\n",
    "       835.432  , 828.7916 , 814.7545 , 786.9878 , 748.9407 , 706.76965,\n",
    "       611.71436, 515.8975 , 464.03384, 430.43143, 410.90222, 402.03238,\n",
    "       400.5323 , 407.26727, 414.1297 , 435.1363 , 481.22034, 551.06036,\n",
    "       639.42596, 733.9288 , 797.51306, 829.7677 , 841.40234, 842.2708 ,\n",
    "       839.2884 , 831.82733, 817.5591 , 789.24927, 751.616  , 709.39325],\n",
    "      dtype=np.float32), 'H2': np.array([3648.6055, 3198.5742, 2769.7896, 2532.5613, 2367.6936, 2272.463 ,\n",
    "       2241.8467, 2279.6484, 2402.8403, 2632.213 , 2941.5076, 3264.5334,\n",
    "       3572.5544, 3819.8118, 3947.2212, 3992.1929, 4000.2188, 3999.1426,\n",
    "       3996.725 , 3994.8708, 3985.8467, 3961.5388, 3900.3215, 3832.404 ,\n",
    "       3683.63  , 3252.626 , 2809.6714, 2557.1655, 2405.5974, 2331.3054,\n",
    "       2321.322 , 2377.0835, 2512.728 , 2751.2598, 3051.8052, 3373.4436,\n",
    "       3671.6187, 3877.7148, 3973.837 , 4007.355 , 4013.4058, 4015.5168,\n",
    "       4010.6128, 4008.2886, 4000.525 , 3977.0308, 3913.165 , 3833.0796],\n",
    "      dtype=np.float32)}"
   ]
  },
  {
   "cell_type": "code",
   "execution_count": null,
   "metadata": {},
   "outputs": [],
   "source": []
  },
  {
   "cell_type": "code",
   "execution_count": 51,
   "metadata": {},
   "outputs": [],
   "source": [
    "tft_tuned = pd.read_csv('../../results/m4/TFT/test/y_hat_df_tft_bm7_tuned_new.csv')"
   ]
  },
  {
   "cell_type": "code",
   "execution_count": 52,
   "metadata": {},
   "outputs": [
    {
     "data": {
      "text/html": [
       "<div>\n",
       "<style scoped>\n",
       "    .dataframe tbody tr th:only-of-type {\n",
       "        vertical-align: middle;\n",
       "    }\n",
       "\n",
       "    .dataframe tbody tr th {\n",
       "        vertical-align: top;\n",
       "    }\n",
       "\n",
       "    .dataframe thead th {\n",
       "        text-align: right;\n",
       "    }\n",
       "</style>\n",
       "<table border=\"1\" class=\"dataframe\">\n",
       "  <thead>\n",
       "    <tr style=\"text-align: right;\">\n",
       "      <th></th>\n",
       "      <th>unique_id</th>\n",
       "      <th>ds</th>\n",
       "      <th>y_hat</th>\n",
       "    </tr>\n",
       "  </thead>\n",
       "  <tbody>\n",
       "    <tr>\n",
       "      <th>0</th>\n",
       "      <td>H1</td>\n",
       "      <td>1970-01-30 04:00:00</td>\n",
       "      <td>580.92900</td>\n",
       "    </tr>\n",
       "    <tr>\n",
       "      <th>1</th>\n",
       "      <td>H1</td>\n",
       "      <td>1970-01-30 05:00:00</td>\n",
       "      <td>500.33313</td>\n",
       "    </tr>\n",
       "    <tr>\n",
       "      <th>2</th>\n",
       "      <td>H1</td>\n",
       "      <td>1970-01-30 06:00:00</td>\n",
       "      <td>453.05750</td>\n",
       "    </tr>\n",
       "    <tr>\n",
       "      <th>3</th>\n",
       "      <td>H1</td>\n",
       "      <td>1970-01-30 07:00:00</td>\n",
       "      <td>422.36170</td>\n",
       "    </tr>\n",
       "    <tr>\n",
       "      <th>4</th>\n",
       "      <td>H1</td>\n",
       "      <td>1970-01-30 08:00:00</td>\n",
       "      <td>404.78137</td>\n",
       "    </tr>\n",
       "    <tr>\n",
       "      <th>...</th>\n",
       "      <td>...</td>\n",
       "      <td>...</td>\n",
       "      <td>...</td>\n",
       "    </tr>\n",
       "    <tr>\n",
       "      <th>19867</th>\n",
       "      <td>H99</td>\n",
       "      <td>1970-01-31 23:00:00</td>\n",
       "      <td>24270.91800</td>\n",
       "    </tr>\n",
       "    <tr>\n",
       "      <th>19868</th>\n",
       "      <td>H99</td>\n",
       "      <td>1970-02-01 00:00:00</td>\n",
       "      <td>23822.91000</td>\n",
       "    </tr>\n",
       "    <tr>\n",
       "      <th>19869</th>\n",
       "      <td>H99</td>\n",
       "      <td>1970-02-01 01:00:00</td>\n",
       "      <td>23406.44000</td>\n",
       "    </tr>\n",
       "    <tr>\n",
       "      <th>19870</th>\n",
       "      <td>H99</td>\n",
       "      <td>1970-02-01 02:00:00</td>\n",
       "      <td>23360.03300</td>\n",
       "    </tr>\n",
       "    <tr>\n",
       "      <th>19871</th>\n",
       "      <td>H99</td>\n",
       "      <td>1970-02-01 03:00:00</td>\n",
       "      <td>22408.79700</td>\n",
       "    </tr>\n",
       "  </tbody>\n",
       "</table>\n",
       "<p>19872 rows × 3 columns</p>\n",
       "</div>"
      ],
      "text/plain": [
       "      unique_id                   ds        y_hat\n",
       "0            H1  1970-01-30 04:00:00    580.92900\n",
       "1            H1  1970-01-30 05:00:00    500.33313\n",
       "2            H1  1970-01-30 06:00:00    453.05750\n",
       "3            H1  1970-01-30 07:00:00    422.36170\n",
       "4            H1  1970-01-30 08:00:00    404.78137\n",
       "...         ...                  ...          ...\n",
       "19867       H99  1970-01-31 23:00:00  24270.91800\n",
       "19868       H99  1970-02-01 00:00:00  23822.91000\n",
       "19869       H99  1970-02-01 01:00:00  23406.44000\n",
       "19870       H99  1970-02-01 02:00:00  23360.03300\n",
       "19871       H99  1970-02-01 03:00:00  22408.79700\n",
       "\n",
       "[19872 rows x 3 columns]"
      ]
     },
     "execution_count": 52,
     "metadata": {},
     "output_type": "execute_result"
    }
   ],
   "source": [
    "tft_tuned"
   ]
  },
  {
   "cell_type": "code",
   "execution_count": 53,
   "metadata": {},
   "outputs": [
    {
     "name": "stdout",
     "output_type": "stream",
     "text": [
      "===============  Model evaluation  ==============\n",
      "OWA: 0.861 \n",
      "SMAPE: 16.69 \n",
      "MASE: 1.952 \n"
     ]
    },
    {
     "data": {
      "text/plain": [
       "(0.8614346926341729, 1.951847742892237, 16.69009549604036)"
      ]
     },
     "execution_count": 53,
     "metadata": {},
     "output_type": "execute_result"
    }
   ],
   "source": [
    "evaluate_prediction_owa(tft_tuned, y_train_df, X_test_df, y_test_df, naive2_seasonality=24)"
   ]
  },
  {
   "cell_type": "code",
   "execution_count": null,
   "metadata": {},
   "outputs": [],
   "source": []
  },
  {
   "cell_type": "code",
   "execution_count": 3,
   "metadata": {},
   "outputs": [],
   "source": [
    "tft_tuned = pd.read_csv('../../results/m4/TFT/test/y_hat_df_tft_bm14_tuned.csv')"
   ]
  },
  {
   "cell_type": "code",
   "execution_count": 6,
   "metadata": {},
   "outputs": [
    {
     "data": {
      "text/html": [
       "<div>\n",
       "<style scoped>\n",
       "    .dataframe tbody tr th:only-of-type {\n",
       "        vertical-align: middle;\n",
       "    }\n",
       "\n",
       "    .dataframe tbody tr th {\n",
       "        vertical-align: top;\n",
       "    }\n",
       "\n",
       "    .dataframe thead th {\n",
       "        text-align: right;\n",
       "    }\n",
       "</style>\n",
       "<table border=\"1\" class=\"dataframe\">\n",
       "  <thead>\n",
       "    <tr style=\"text-align: right;\">\n",
       "      <th></th>\n",
       "      <th>unique_id</th>\n",
       "      <th>y_hat</th>\n",
       "      <th>ds</th>\n",
       "    </tr>\n",
       "  </thead>\n",
       "  <tbody>\n",
       "    <tr>\n",
       "      <th>0</th>\n",
       "      <td>H1</td>\n",
       "      <td>619.75390</td>\n",
       "      <td>1970-01-30 04:00:00</td>\n",
       "    </tr>\n",
       "    <tr>\n",
       "      <th>1</th>\n",
       "      <td>H1</td>\n",
       "      <td>522.50684</td>\n",
       "      <td>1970-01-30 05:00:00</td>\n",
       "    </tr>\n",
       "    <tr>\n",
       "      <th>2</th>\n",
       "      <td>H1</td>\n",
       "      <td>464.61578</td>\n",
       "      <td>1970-01-30 06:00:00</td>\n",
       "    </tr>\n",
       "    <tr>\n",
       "      <th>3</th>\n",
       "      <td>H1</td>\n",
       "      <td>426.94696</td>\n",
       "      <td>1970-01-30 07:00:00</td>\n",
       "    </tr>\n",
       "    <tr>\n",
       "      <th>4</th>\n",
       "      <td>H1</td>\n",
       "      <td>405.61185</td>\n",
       "      <td>1970-01-30 08:00:00</td>\n",
       "    </tr>\n",
       "    <tr>\n",
       "      <th>...</th>\n",
       "      <td>...</td>\n",
       "      <td>...</td>\n",
       "      <td>...</td>\n",
       "    </tr>\n",
       "    <tr>\n",
       "      <th>19867</th>\n",
       "      <td>H99</td>\n",
       "      <td>22974.89000</td>\n",
       "      <td>1970-01-31 23:00:00</td>\n",
       "    </tr>\n",
       "    <tr>\n",
       "      <th>19868</th>\n",
       "      <td>H99</td>\n",
       "      <td>22505.16800</td>\n",
       "      <td>1970-02-01 00:00:00</td>\n",
       "    </tr>\n",
       "    <tr>\n",
       "      <th>19869</th>\n",
       "      <td>H99</td>\n",
       "      <td>22216.00400</td>\n",
       "      <td>1970-02-01 01:00:00</td>\n",
       "    </tr>\n",
       "    <tr>\n",
       "      <th>19870</th>\n",
       "      <td>H99</td>\n",
       "      <td>21997.82600</td>\n",
       "      <td>1970-02-01 02:00:00</td>\n",
       "    </tr>\n",
       "    <tr>\n",
       "      <th>19871</th>\n",
       "      <td>H99</td>\n",
       "      <td>21348.35400</td>\n",
       "      <td>1970-02-01 03:00:00</td>\n",
       "    </tr>\n",
       "  </tbody>\n",
       "</table>\n",
       "<p>19872 rows × 3 columns</p>\n",
       "</div>"
      ],
      "text/plain": [
       "      unique_id        y_hat                  ds\n",
       "0            H1    619.75390 1970-01-30 04:00:00\n",
       "1            H1    522.50684 1970-01-30 05:00:00\n",
       "2            H1    464.61578 1970-01-30 06:00:00\n",
       "3            H1    426.94696 1970-01-30 07:00:00\n",
       "4            H1    405.61185 1970-01-30 08:00:00\n",
       "...         ...          ...                 ...\n",
       "19867       H99  22974.89000 1970-01-31 23:00:00\n",
       "19868       H99  22505.16800 1970-02-01 00:00:00\n",
       "19869       H99  22216.00400 1970-02-01 01:00:00\n",
       "19870       H99  21997.82600 1970-02-01 02:00:00\n",
       "19871       H99  21348.35400 1970-02-01 03:00:00\n",
       "\n",
       "[19872 rows x 3 columns]"
      ]
     },
     "execution_count": 6,
     "metadata": {},
     "output_type": "execute_result"
    }
   ],
   "source": [
    "y_hat_df = tft_tuned.copy()\n",
    "y_hat_df['ds'] = X_test_df['ds']\n",
    "y_hat_df"
   ]
  },
  {
   "cell_type": "code",
   "execution_count": 8,
   "metadata": {},
   "outputs": [
    {
     "name": "stdout",
     "output_type": "stream",
     "text": [
      "===============  Model evaluation  ==============\n",
      "OWA: 0.795 \n",
      "SMAPE: 17.43 \n",
      "MASE: 1.536 \n"
     ]
    },
    {
     "data": {
      "text/plain": [
       "(0.7948093527266985, 1.5362972607125935, 17.430078587235677)"
      ]
     },
     "execution_count": 8,
     "metadata": {},
     "output_type": "execute_result"
    }
   ],
   "source": [
    "evaluate_prediction_owa(y_hat_df, y_train_df, X_test_df, y_test_df, naive2_seasonality=24)"
   ]
  },
  {
   "cell_type": "code",
   "execution_count": null,
   "metadata": {},
   "outputs": [],
   "source": []
  }
 ],
 "metadata": {
  "kernelspec": {
   "display_name": "tsff_env",
   "language": "python",
   "name": "python3"
  },
  "language_info": {
   "codemirror_mode": {
    "name": "ipython",
    "version": 3
   },
   "file_extension": ".py",
   "mimetype": "text/x-python",
   "name": "python",
   "nbconvert_exporter": "python",
   "pygments_lexer": "ipython3",
   "version": "3.9.0"
  }
 },
 "nbformat": 4,
 "nbformat_minor": 2
}
