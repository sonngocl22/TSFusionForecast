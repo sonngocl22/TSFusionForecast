{
 "cells": [
  {
   "cell_type": "code",
   "execution_count": 1,
   "metadata": {},
   "outputs": [
    {
     "name": "stderr",
     "output_type": "stream",
     "text": [
      "c:\\Users\\sonng\\anaconda3\\envs\\tsff_env\\lib\\site-packages\\pytorch_forecasting\\models\\base_model.py:30: TqdmWarning: IProgress not found. Please update jupyter and ipywidgets. See https://ipywidgets.readthedocs.io/en/stable/user_install.html\n",
      "  from tqdm.autonotebook import tqdm\n"
     ]
    }
   ],
   "source": [
    "import lightning.pytorch as pl\n",
    "from lightning.pytorch.callbacks import EarlyStopping, LearningRateMonitor\n",
    "from lightning.pytorch.loggers import TensorBoardLogger\n",
    "\n",
    "# import os\n",
    "# os.environ['PYTORCH_CUDA_ALLOC_CONF'] = \"max_split_size_mb:128\"\n",
    "import torch\n",
    "import numpy as np\n",
    "import pandas as pd\n",
    "\n",
    "from pytorch_forecasting import Baseline, TemporalFusionTransformer, TimeSeriesDataSet\n",
    "from pytorch_forecasting.data import GroupNormalizer\n",
    "from pytorch_forecasting.metrics import MAE, SMAPE, PoissonLoss, QuantileLoss\n",
    "from pytorch_forecasting.models.temporal_fusion_transformer.tuning import optimize_hyperparameters"
   ]
  },
  {
   "cell_type": "code",
   "execution_count": 2,
   "metadata": {},
   "outputs": [],
   "source": [
    "from ESRNN.m4_data import *\n",
    "from ESRNN.utils_evaluation import evaluate_prediction_owa\n",
    "from ESRNN.utils_visualization import plot_grid_prediction"
   ]
  },
  {
   "cell_type": "code",
   "execution_count": 3,
   "metadata": {},
   "outputs": [
    {
     "name": "stdout",
     "output_type": "stream",
     "text": [
      "\n",
      "\n"
     ]
    }
   ],
   "source": [
    "X_train_df, y_train_df, X_test_df, y_test_df = prepare_m4_data(dataset_name=\"Hourly\",\n",
    "                                                               directory=\"../../data/M4\",\n",
    "                                                               num_obs=414)"
   ]
  },
  {
   "cell_type": "code",
   "execution_count": 6,
   "metadata": {},
   "outputs": [],
   "source": [
    "unique_ids = y_train_df['unique_id'].unique()"
   ]
  },
  {
   "cell_type": "code",
   "execution_count": 7,
   "metadata": {},
   "outputs": [],
   "source": [
    "all_forecasts = {}"
   ]
  },
  {
   "cell_type": "code",
   "execution_count": 8,
   "metadata": {},
   "outputs": [
    {
     "name": "stderr",
     "output_type": "stream",
     "text": [
      "Seed set to 42\n"
     ]
    },
    {
     "data": {
      "text/plain": [
       "42"
      ]
     },
     "execution_count": 8,
     "metadata": {},
     "output_type": "execute_result"
    }
   ],
   "source": [
    "pl.seed_everything(42)"
   ]
  },
  {
   "cell_type": "code",
   "execution_count": 9,
   "metadata": {},
   "outputs": [],
   "source": [
    "df_arima_train = pd.read_csv('../../results/m4/base_model_train_set/y_hat_df_arima_ts.csv')\n",
    "df_theta_train = pd.read_csv('../../results/m4/base_model_train_set/y_hat_df_theta_ts.csv')\n",
    "df_xgb_train = pd.read_csv('../../results/m4/base_model_train_set/y_hat_df_xgb_ts.csv')\n",
    "df_gru_train = pd.read_csv('../../results/m4/base_model_train_set/y_hat_df_gru_ts.csv')\n",
    "df_lstm_train = pd.read_csv('../../results/m4/base_model_train_set/y_hat_df_lstm_ts.csv')"
   ]
  },
  {
   "cell_type": "code",
   "execution_count": 10,
   "metadata": {},
   "outputs": [],
   "source": [
    "df_arima_test = pd.read_csv('../../results/m4/y_hat_df_arima.csv')\n",
    "df_theta_test = pd.read_csv('../../results/m4/y_hat_df_theta.csv')\n",
    "df_xgb_test = pd.read_csv('../../results/m4/y_hat_df_xgb.csv')\n",
    "df_gru_test = pd.read_csv('../../results/m4/y_hat_df_gru.csv')\n",
    "df_lstm_test = pd.read_csv('../../results/m4/y_hat_df_lstm.csv')"
   ]
  },
  {
   "cell_type": "code",
   "execution_count": 1,
   "metadata": {},
   "outputs": [
    {
     "ename": "NameError",
     "evalue": "name 'unique_ids' is not defined",
     "output_type": "error",
     "traceback": [
      "\u001b[1;31m---------------------------------------------------------------------------\u001b[0m",
      "\u001b[1;31mNameError\u001b[0m                                 Traceback (most recent call last)",
      "\u001b[1;32mc:\\Users\\sonng\\Desktop\\Important Files - Sep 2023\\Hildesheim University - Masters in Data Analytics\\Master Thesis\\Code\\Git\\TSFusionForecast\\TSFusionForecast\\notebooks\\TFT_model\\TFT_model_m4_test_2.ipynb Cell 9\u001b[0m line \u001b[0;36m1\n\u001b[1;32m----> <a href='vscode-notebook-cell:/c%3A/Users/sonng/Desktop/Important%20Files%20-%20Sep%202023/Hildesheim%20University%20-%20Masters%20in%20Data%20Analytics/Master%20Thesis/Code/Git/TSFusionForecast/TSFusionForecast/notebooks/TFT_model/TFT_model_m4_test_2.ipynb#X25sZmlsZQ%3D%3D?line=0'>1</a>\u001b[0m \u001b[39mfor\u001b[39;00m unique_id \u001b[39min\u001b[39;00m unique_ids[\u001b[39m100\u001b[39m:]:\n\u001b[0;32m      <a href='vscode-notebook-cell:/c%3A/Users/sonng/Desktop/Important%20Files%20-%20Sep%202023/Hildesheim%20University%20-%20Masters%20in%20Data%20Analytics/Master%20Thesis/Code/Git/TSFusionForecast/TSFusionForecast/notebooks/TFT_model/TFT_model_m4_test_2.ipynb#X25sZmlsZQ%3D%3D?line=2'>3</a>\u001b[0m     \u001b[39mprint\u001b[39m(\u001b[39mf\u001b[39m\u001b[39m'\u001b[39m\u001b[39mCurrently training: \u001b[39m\u001b[39m{\u001b[39;00munique_id\u001b[39m}\u001b[39;00m\u001b[39m'\u001b[39m)\n\u001b[0;32m      <a href='vscode-notebook-cell:/c%3A/Users/sonng/Desktop/Important%20Files%20-%20Sep%202023/Hildesheim%20University%20-%20Masters%20in%20Data%20Analytics/Master%20Thesis/Code/Git/TSFusionForecast/TSFusionForecast/notebooks/TFT_model/TFT_model_m4_test_2.ipynb#X25sZmlsZQ%3D%3D?line=4'>5</a>\u001b[0m     df_base_models_train\u001b[39m=\u001b[39m pd\u001b[39m.\u001b[39mDataFrame({\n\u001b[0;32m      <a href='vscode-notebook-cell:/c%3A/Users/sonng/Desktop/Important%20Files%20-%20Sep%202023/Hildesheim%20University%20-%20Masters%20in%20Data%20Analytics/Master%20Thesis/Code/Git/TSFusionForecast/TSFusionForecast/notebooks/TFT_model/TFT_model_m4_test_2.ipynb#X25sZmlsZQ%3D%3D?line=5'>6</a>\u001b[0m     \u001b[39m'\u001b[39m\u001b[39munique_id\u001b[39m\u001b[39m'\u001b[39m : df_arima_train\u001b[39m.\u001b[39munique_id,\n\u001b[0;32m      <a href='vscode-notebook-cell:/c%3A/Users/sonng/Desktop/Important%20Files%20-%20Sep%202023/Hildesheim%20University%20-%20Masters%20in%20Data%20Analytics/Master%20Thesis/Code/Git/TSFusionForecast/TSFusionForecast/notebooks/TFT_model/TFT_model_m4_test_2.ipynb#X25sZmlsZQ%3D%3D?line=6'>7</a>\u001b[0m     \u001b[39m'\u001b[39m\u001b[39my_arima\u001b[39m\u001b[39m'\u001b[39m : df_arima_train\u001b[39m.\u001b[39my_hat,\n\u001b[1;32m   (...)\u001b[0m\n\u001b[0;32m     <a href='vscode-notebook-cell:/c%3A/Users/sonng/Desktop/Important%20Files%20-%20Sep%202023/Hildesheim%20University%20-%20Masters%20in%20Data%20Analytics/Master%20Thesis/Code/Git/TSFusionForecast/TSFusionForecast/notebooks/TFT_model/TFT_model_m4_test_2.ipynb#X25sZmlsZQ%3D%3D?line=10'>11</a>\u001b[0m     \u001b[39m'\u001b[39m\u001b[39my_lstm\u001b[39m\u001b[39m'\u001b[39m : df_lstm_train\u001b[39m.\u001b[39my_hat\n\u001b[0;32m     <a href='vscode-notebook-cell:/c%3A/Users/sonng/Desktop/Important%20Files%20-%20Sep%202023/Hildesheim%20University%20-%20Masters%20in%20Data%20Analytics/Master%20Thesis/Code/Git/TSFusionForecast/TSFusionForecast/notebooks/TFT_model/TFT_model_m4_test_2.ipynb#X25sZmlsZQ%3D%3D?line=11'>12</a>\u001b[0m     })\n",
      "\u001b[1;31mNameError\u001b[0m: name 'unique_ids' is not defined"
     ]
    }
   ],
   "source": [
    "for unique_id in unique_ids:\n",
    "\n",
    "    print(f'Currently training: {unique_id}')\n",
    "\n",
    "    df_base_models_train= pd.DataFrame({\n",
    "    'unique_id' : df_arima_train.unique_id,\n",
    "    'y_arima' : df_arima_train.y_hat,\n",
    "    'y_theta' : df_theta_train.y_hat,\n",
    "    'y_xgb' : df_xgb_train.y,\n",
    "    'y_gru' : df_gru_train.y_hat,\n",
    "    'y_lstm' : df_lstm_train.y_hat\n",
    "    })\n",
    "\n",
    "    df_base_models_test= pd.DataFrame({\n",
    "    'unique_id' : df_arima_test.unique_id,\n",
    "    'y_arima' : df_arima_test.y_hat,\n",
    "    'y_theta' : df_theta_test.y_hat,\n",
    "    'y_xgb' : df_xgb_test.y_hat,\n",
    "    'y_gru' : df_gru_test.y_hat,\n",
    "    'y_lstm' : df_lstm_test.y_hat\n",
    "    })\n",
    "\n",
    "    # Filter data for the current series (train and val data)\n",
    "    df = y_train_df[y_train_df['unique_id'] == unique_id].copy()\n",
    "    df['ds'] = (df['ds'] - df['ds'].min()).dt.total_seconds() // 3600\n",
    "    df['ds'] = df['ds'].astype(int)\n",
    "    df_train_val = pd.concat([df.iloc[-24*7:].reset_index(drop=True).drop(columns=['unique_id']), \n",
    "                              df_base_models_train[df_base_models_train['unique_id']==unique_id].reset_index(drop=True)], axis=1)\n",
    "    \n",
    "    # Test data\n",
    "    df = y_test_df.drop(columns=['y_hat_naive2'])[y_test_df['unique_id'] == unique_id].copy()\n",
    "    df['ds'] = (df['ds'] - df['ds'].min()).dt.total_seconds() // 3600 + df_train_val['ds'].max() + 1  #700\n",
    "    df['ds'] = df['ds'].astype(int)\n",
    "    df_test = pd.concat([df.reset_index(drop=True).drop(columns=['unique_id']), \n",
    "                         df_base_models_test[df_base_models_test['unique_id']==unique_id].reset_index(drop=True)], axis=1)\n",
    "\n",
    "    # Create the TimeSeriesDataSet for training\n",
    "    max_encoder_length = 24*7\n",
    "    max_prediction_length = 48\n",
    "\n",
    "    training = TimeSeriesDataSet(\n",
    "        df_train_val.iloc[:-max_prediction_length],\n",
    "        time_idx=\"ds\",\n",
    "        target=\"y\",\n",
    "        group_ids=['unique_id'],\n",
    "        max_encoder_length=max_encoder_length,\n",
    "        # min_encoder_length=max_encoder_length // 2,\n",
    "        min_encoder_length=1,\n",
    "        max_prediction_length=max_prediction_length,\n",
    "        # min_prediction_length=max_prediction_length // 2,\n",
    "        min_prediction_length=1,\n",
    "        time_varying_known_reals=['y_arima', 'y_theta', 'y_xgb', 'y_gru', 'y_lstm'],  # Base model forecasts\n",
    "        target_normalizer=GroupNormalizer(\n",
    "            groups=[\"unique_id\"], transformation=\"softplus\"\n",
    "        ),\n",
    "        add_relative_time_idx=True,\n",
    "        add_target_scales=True,\n",
    "        add_encoder_length=True,\n",
    "        # allow_missing_timesteps=Truex\n",
    "        )\n",
    "    \n",
    "    validation = TimeSeriesDataSet.from_dataset(training, df_train_val, predict=True, stop_randomization=True)\n",
    "    # test = TimeSeriesDataSet.from_dataset(validation, df_test, \n",
    "    #                                       min_encoder_length=1,\n",
    "    #                                       min_prediction_length=1,\n",
    "    #                                       max_encoder_length = max_encoder_length,\n",
    "    #                                       max_prediction_length = max_prediction_length,\n",
    "    #                                     #   min_prediction_idx=df_test['ds'].min(), \n",
    "    #                                       predict=True, \n",
    "    #                                       stop_randomization=True)\n",
    "\n",
    "    # creating the test data that includes the encoder and decoder data\n",
    "    encoder_data = df_train_val[lambda x: x.ds > x.ds.max() - max_encoder_length]\n",
    "    df_test.y = df_train_val.y[df_train_val.ds == df_train_val.ds.max()].values[0]\n",
    "    decoder_data = df_test\n",
    "    new_prediction_data = pd.concat([encoder_data, decoder_data], ignore_index=True)\n",
    "\n",
    "    batch_size = 64  # set this between 32 to 128\n",
    "    train_dataloader = training.to_dataloader(train=True, batch_size=batch_size, num_workers=0)\n",
    "    val_dataloader = validation.to_dataloader(train=False, batch_size=batch_size * 10, num_workers=0)\n",
    "    # test_dataloader = test.to_dataloader(train=False, batch_size=batch_size * 10, num_workers=0)\n",
    "\n",
    "    # configure network and trainer\n",
    "    early_stop_callback = EarlyStopping(monitor=\"val_loss\", min_delta=1e-5, patience=50, verbose=False, mode=\"min\")\n",
    "    lr_logger = LearningRateMonitor()  # log the learning rate\n",
    "    logger = TensorBoardLogger(\"lightning_logs\")  # logging results to a tensorboard\n",
    "\n",
    "    trainer = pl.Trainer(\n",
    "        max_epochs=150,\n",
    "        accelerator=\"gpu\",\n",
    "        # enable_model_summary=True,\n",
    "        gradient_clip_val=0.43012832204522905,\n",
    "        limit_train_batches=50,  # coment in for training, running valiation every 30 batches\n",
    "        # fast_dev_run=True,  # comment in to check that networkor dataset has no serious bugs\n",
    "        callbacks=[early_stop_callback],\n",
    "        logger=False,\n",
    "        enable_model_summary=False\n",
    "    )\n",
    "\n",
    "    tft = TemporalFusionTransformer.from_dataset(\n",
    "        training,\n",
    "        learning_rate=0.05352813757705075,\n",
    "        hidden_size=60,\n",
    "        attention_head_size=4,\n",
    "        dropout=0.12384425005697666,\n",
    "        hidden_continuous_size=27,\n",
    "        loss=SMAPE(),\n",
    "        # log_interval=10,  # uncomment for learning rate finder and otherwise, e.g. to 10 for logging every 10 batches\n",
    "        optimizer=\"Ranger\",\n",
    "        reduce_on_plateau_patience=4,\n",
    "        # print_summary=False\n",
    "    )\n",
    "\n",
    "    trainer.fit(\n",
    "    tft,\n",
    "    train_dataloaders=train_dataloader,\n",
    "    val_dataloaders=val_dataloader,\n",
    "\n",
    "    )\n",
    "\n",
    "    # predictions = tft.predict(test_dataloader, return_y=False, trainer_kwargs=dict(accelerator=\"gpu\"))\n",
    "    new_raw_predictions = tft.predict(new_prediction_data, mode=\"raw\", return_x=True, trainer_kwargs=dict(accelerator=\"gpu\"))\n",
    "    all_forecasts[unique_id] = new_raw_predictions.output.prediction.cpu().numpy().flatten()\n",
    "\n"
   ]
  },
  {
   "cell_type": "code",
   "execution_count": 11,
   "metadata": {},
   "outputs": [],
   "source": [
    "y_hat_df = pd.read_csv('../../results/m4/TFT/training/y_hat_df_tft_bm7_fix.csv')"
   ]
  },
  {
   "cell_type": "code",
   "execution_count": 12,
   "metadata": {},
   "outputs": [
    {
     "name": "stdout",
     "output_type": "stream",
     "text": [
      "===============  Model evaluation  ==============\n",
      "OWA: 0.789 \n",
      "SMAPE: 15.595 \n",
      "MASE: 1.749 \n"
     ]
    },
    {
     "data": {
      "text/plain": [
       "(0.7892891470266732, 1.7489556614022561, 15.594886822602454)"
      ]
     },
     "execution_count": 12,
     "metadata": {},
     "output_type": "execute_result"
    }
   ],
   "source": [
    "evaluate_prediction_owa(y_hat_df, y_train_df, X_test_df, y_test_df, naive2_seasonality=24)"
   ]
  },
  {
   "cell_type": "markdown",
   "metadata": {},
   "source": [
    "First tuned run\n",
    "===============  Model evaluation  ==============\n",
    "OWA: 0.789 \n",
    "SMAPE: 15.595 \n",
    "MASE: 1.749 \n"
   ]
  },
  {
   "cell_type": "code",
   "execution_count": 15,
   "metadata": {},
   "outputs": [],
   "source": [
    "y_hat_df = pd.read_csv('../../results/m4/TFT/test/y_hat_df_tft_bm7_tuned_2.csv')"
   ]
  },
  {
   "cell_type": "code",
   "execution_count": 14,
   "metadata": {},
   "outputs": [
    {
     "data": {
      "text/html": [
       "<div>\n",
       "<style scoped>\n",
       "    .dataframe tbody tr th:only-of-type {\n",
       "        vertical-align: middle;\n",
       "    }\n",
       "\n",
       "    .dataframe tbody tr th {\n",
       "        vertical-align: top;\n",
       "    }\n",
       "\n",
       "    .dataframe thead th {\n",
       "        text-align: right;\n",
       "    }\n",
       "</style>\n",
       "<table border=\"1\" class=\"dataframe\">\n",
       "  <thead>\n",
       "    <tr style=\"text-align: right;\">\n",
       "      <th></th>\n",
       "      <th>ds</th>\n",
       "    </tr>\n",
       "  </thead>\n",
       "  <tbody>\n",
       "    <tr>\n",
       "      <th>0</th>\n",
       "      <td>1970-01-30 04:00:00</td>\n",
       "    </tr>\n",
       "    <tr>\n",
       "      <th>1</th>\n",
       "      <td>1970-01-30 05:00:00</td>\n",
       "    </tr>\n",
       "    <tr>\n",
       "      <th>2</th>\n",
       "      <td>1970-01-30 06:00:00</td>\n",
       "    </tr>\n",
       "    <tr>\n",
       "      <th>3</th>\n",
       "      <td>1970-01-30 07:00:00</td>\n",
       "    </tr>\n",
       "    <tr>\n",
       "      <th>4</th>\n",
       "      <td>1970-01-30 08:00:00</td>\n",
       "    </tr>\n",
       "    <tr>\n",
       "      <th>...</th>\n",
       "      <td>...</td>\n",
       "    </tr>\n",
       "    <tr>\n",
       "      <th>19867</th>\n",
       "      <td>1970-01-31 23:00:00</td>\n",
       "    </tr>\n",
       "    <tr>\n",
       "      <th>19868</th>\n",
       "      <td>1970-02-01 00:00:00</td>\n",
       "    </tr>\n",
       "    <tr>\n",
       "      <th>19869</th>\n",
       "      <td>1970-02-01 01:00:00</td>\n",
       "    </tr>\n",
       "    <tr>\n",
       "      <th>19870</th>\n",
       "      <td>1970-02-01 02:00:00</td>\n",
       "    </tr>\n",
       "    <tr>\n",
       "      <th>19871</th>\n",
       "      <td>1970-02-01 03:00:00</td>\n",
       "    </tr>\n",
       "  </tbody>\n",
       "</table>\n",
       "<p>19872 rows × 1 columns</p>\n",
       "</div>"
      ],
      "text/plain": [
       "                        ds\n",
       "0      1970-01-30 04:00:00\n",
       "1      1970-01-30 05:00:00\n",
       "2      1970-01-30 06:00:00\n",
       "3      1970-01-30 07:00:00\n",
       "4      1970-01-30 08:00:00\n",
       "...                    ...\n",
       "19867  1970-01-31 23:00:00\n",
       "19868  1970-02-01 00:00:00\n",
       "19869  1970-02-01 01:00:00\n",
       "19870  1970-02-01 02:00:00\n",
       "19871  1970-02-01 03:00:00\n",
       "\n",
       "[19872 rows x 1 columns]"
      ]
     },
     "execution_count": 14,
     "metadata": {},
     "output_type": "execute_result"
    }
   ],
   "source": [
    "ds = y_hat_df[['ds']]\n",
    "ds"
   ]
  },
  {
   "cell_type": "code",
   "execution_count": 17,
   "metadata": {},
   "outputs": [],
   "source": [
    "y_hat_df['ds'] = ds"
   ]
  },
  {
   "cell_type": "code",
   "execution_count": 19,
   "metadata": {},
   "outputs": [
    {
     "name": "stdout",
     "output_type": "stream",
     "text": [
      "===============  Model evaluation  ==============\n",
      "OWA: 0.809 \n",
      "SMAPE: 15.889 \n",
      "MASE: 1.805 \n"
     ]
    },
    {
     "data": {
      "text/plain": [
       "(0.808897238039389, 1.8045535715957854, 15.889057194551462)"
      ]
     },
     "execution_count": 19,
     "metadata": {},
     "output_type": "execute_result"
    }
   ],
   "source": [
    "evaluate_prediction_owa(y_hat_df, y_train_df, X_test_df, y_test_df, naive2_seasonality=24)"
   ]
  },
  {
   "cell_type": "markdown",
   "metadata": {},
   "source": [
    "Second tuned run\n",
    "===============  Model evaluation  ==============\n",
    "OWA: 0.809 \n",
    "SMAPE: 15.889 \n",
    "MASE: 1.805 \n"
   ]
  },
  {
   "cell_type": "markdown",
   "metadata": {},
   "source": []
  }
 ],
 "metadata": {
  "kernelspec": {
   "display_name": "tsff_env",
   "language": "python",
   "name": "python3"
  },
  "language_info": {
   "codemirror_mode": {
    "name": "ipython",
    "version": 3
   },
   "file_extension": ".py",
   "mimetype": "text/x-python",
   "name": "python",
   "nbconvert_exporter": "python",
   "pygments_lexer": "ipython3",
   "version": "3.9.0"
  }
 },
 "nbformat": 4,
 "nbformat_minor": 2
}
