{
 "cells": [
  {
   "cell_type": "code",
   "execution_count": 1,
   "metadata": {},
   "outputs": [],
   "source": [
    "from configs import configs"
   ]
  },
  {
   "cell_type": "code",
   "execution_count": null,
   "metadata": {},
   "outputs": [],
   "source": [
    "configs.GLOBAL_PARAMS"
   ]
  },
  {
   "cell_type": "code",
   "execution_count": null,
   "metadata": {},
   "outputs": [],
   "source": [
    "configs.XGB_TUNING_PARAMS"
   ]
  },
  {
   "cell_type": "code",
   "execution_count": null,
   "metadata": {},
   "outputs": [],
   "source": [
    "from models.base_models import XGBoostModel\n",
    "\n",
    "xgb_model = XGBoostModel(configs)\n",
    "xgb_model.load_data()\n",
    "xgb_model.train(retune=False)\n",
    "xgb_model.save_model()\n",
    "xgb_model.load_model()\n",
    "xgb_model.generate_meta()"
   ]
  },
  {
   "cell_type": "code",
   "execution_count": null,
   "metadata": {},
   "outputs": [],
   "source": [
    "from models.base_models import LightGBMModel\n",
    "\n",
    "lgb_model = LightGBMModel(configs)\n",
    "lgb_model.load_data()\n",
    "lgb_model.train(retune=False)\n",
    "lgb_model.save_model()\n",
    "lgb_model.load_model()\n",
    "lgb_model.generate_meta()"
   ]
  },
  {
   "cell_type": "code",
   "execution_count": null,
   "metadata": {},
   "outputs": [],
   "source": [
    "from models.base_models import GRUModel\n",
    "\n",
    "gru_model = GRUModel(configs)\n",
    "gru_model.load_data()\n",
    "gru_model.train(retune=False)\n",
    "gru_model.save_model()\n",
    "gru_model.load_model()\n",
    "gru_model.generate_meta()"
   ]
  },
  {
   "cell_type": "code",
   "execution_count": 3,
   "metadata": {},
   "outputs": [
    {
     "name": "stdout",
     "output_type": "stream",
     "text": [
      "Epoch [20/60], Loss: 0.14857260882854462\n",
      "Epoch [40/60], Loss: 0.15535546839237213\n",
      "Epoch [60/60], Loss: 0.17265605926513672\n"
     ]
    }
   ],
   "source": [
    "from models.base_models import LSTMModel\n",
    "\n",
    "lstm_model = LSTMModel(configs)\n",
    "lstm_model.load_data()\n",
    "lstm_model.train(retune=False)\n",
    "# lstm_model.save_model()\n",
    "# lstm_model.load_model()\n",
    "# lstm_model.generate_meta()"
   ]
  },
  {
   "cell_type": "code",
   "execution_count": 4,
   "metadata": {},
   "outputs": [],
   "source": [
    "lstm_model.save_model()"
   ]
  },
  {
   "cell_type": "code",
   "execution_count": 5,
   "metadata": {},
   "outputs": [],
   "source": [
    "lstm_model.load_data()"
   ]
  },
  {
   "cell_type": "code",
   "execution_count": 6,
   "metadata": {},
   "outputs": [
    {
     "name": "stdout",
     "output_type": "stream",
     "text": [
      "The LSTM SMAPE loss for 0 slice: 23.84386246111486\n",
      "The LSTM SMAPE loss for 1 slice: 134.60125221397092\n",
      "The LSTM SMAPE loss for 2 slice: 56.26601641139318\n",
      "The LSTM SMAPE loss for 3 slice: 21.095411922311694\n",
      "The LSTM SMAPE loss for 4 slice: 43.189984359199364\n",
      "The LSTM SMAPE loss for 5 slice: 53.88512708184925\n",
      "The LSTM SMAPE loss for 6 slice: 61.90170750793541\n",
      "The LSTM SMAPE loss for 7 slice: 119.42163476579223\n",
      "The LSTM SMAPE loss for 8 slice: 113.81551452526246\n",
      "The LSTM SMAPE loss for 9 slice: 64.14232400280206\n",
      "The LSTM SMAPE loss for 10 slice: 19.017584624813846\n",
      "The LSTM SMAPE loss for 11 slice: 19.82563679583234\n",
      "The LSTM SMAPE loss for 12 slice: 17.997908908624858\n",
      "The LSTM SMAPE loss for 13 slice: 23.626892599229937\n",
      "The LSTM SMAPE loss for 14 slice: 10.66307412312734\n"
     ]
    }
   ],
   "source": [
    "lstm_model.generate_meta()"
   ]
  },
  {
   "cell_type": "code",
   "execution_count": null,
   "metadata": {},
   "outputs": [],
   "source": []
  }
 ],
 "metadata": {
  "kernelspec": {
   "display_name": "tsff_env",
   "language": "python",
   "name": "python3"
  },
  "language_info": {
   "codemirror_mode": {
    "name": "ipython",
    "version": 3
   },
   "file_extension": ".py",
   "mimetype": "text/x-python",
   "name": "python",
   "nbconvert_exporter": "python",
   "pygments_lexer": "ipython3",
   "version": "3.9.0"
  }
 },
 "nbformat": 4,
 "nbformat_minor": 2
}
