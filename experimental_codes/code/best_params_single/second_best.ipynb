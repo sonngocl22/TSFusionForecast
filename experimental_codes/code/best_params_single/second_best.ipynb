{
 "cells": [
  {
   "cell_type": "markdown",
   "metadata": {},
   "source": [
    "[I 2023-12-14 13:56:38,793] Trial 321 finished with value: 16.26838493347168 and parameters: {'gradient_clip_val': 0.19042221897546271, 'hidden_size': 91, 'dropout': 0.21443835083252977, 'hidden_continuous_size': 22, 'attention_head_size': 2, 'learning_rate': 0.014551880542259794}. Best is trial 50 with value: 16.165285110473633."
   ]
  },
  {
   "cell_type": "code",
   "execution_count": null,
   "metadata": {},
   "outputs": [],
   "source": []
  }
 ],
 "metadata": {
  "language_info": {
   "name": "python"
  }
 },
 "nbformat": 4,
 "nbformat_minor": 2
}
