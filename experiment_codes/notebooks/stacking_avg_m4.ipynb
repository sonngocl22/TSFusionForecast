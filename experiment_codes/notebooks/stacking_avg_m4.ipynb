{
 "cells": [
  {
   "cell_type": "code",
   "execution_count": 1,
   "metadata": {},
   "outputs": [],
   "source": [
    "import numpy as np\n",
    "import pandas as pd"
   ]
  },
  {
   "cell_type": "code",
   "execution_count": 19,
   "metadata": {},
   "outputs": [],
   "source": [
    "from ESRNN.m4_data import *\n",
    "from ESRNN.utils_evaluation import evaluate_prediction_owa\n",
    "from ESRNN.utils_visualization import plot_grid_prediction"
   ]
  },
  {
   "cell_type": "code",
   "execution_count": 20,
   "metadata": {},
   "outputs": [
    {
     "name": "stdout",
     "output_type": "stream",
     "text": [
      "\n",
      "\n"
     ]
    }
   ],
   "source": [
    "X_train_df, y_train_df, X_test_df, y_test_df = prepare_m4_data(dataset_name=\"Hourly\",\n",
    "                                                               directory=\"../data/M4\",\n",
    "                                                               num_obs=414)"
   ]
  },
  {
   "cell_type": "code",
   "execution_count": 4,
   "metadata": {},
   "outputs": [],
   "source": [
    "arima = pd.read_csv('../results/m4/y_hat_df_arima.csv')\n",
    "theta = pd.read_csv('../results/m4/y_hat_df_theta.csv')\n",
    "xgb = pd.read_csv('../results/m4/y_hat_df_arima.csv')\n",
    "gru = pd.read_csv('../results/m4/y_hat_df_gru.csv')\n",
    "lstm = pd.read_csv('../results/m4/y_hat_df_lstm.csv')"
   ]
  },
  {
   "cell_type": "code",
   "execution_count": 6,
   "metadata": {},
   "outputs": [],
   "source": [
    "y_hat_df_avg = arima.copy()"
   ]
  },
  {
   "cell_type": "code",
   "execution_count": 15,
   "metadata": {},
   "outputs": [],
   "source": [
    "avg_df = pd.concat([arima['y_hat'], theta['y_hat'], xgb['y_hat'], gru['y_hat'], lstm['y_hat']], axis=1).mean(axis=1)"
   ]
  },
  {
   "cell_type": "code",
   "execution_count": 16,
   "metadata": {},
   "outputs": [
    {
     "data": {
      "text/plain": [
       "0          645.735820\n",
       "1          579.507358\n",
       "2          530.940158\n",
       "3          494.857012\n",
       "4          469.797596\n",
       "             ...     \n",
       "19867    26274.804800\n",
       "19868    25713.065600\n",
       "19869    25123.394400\n",
       "19870    24737.243000\n",
       "19871    23300.674800\n",
       "Length: 19872, dtype: float64"
      ]
     },
     "execution_count": 16,
     "metadata": {},
     "output_type": "execute_result"
    }
   ],
   "source": [
    "avg_df"
   ]
  },
  {
   "cell_type": "code",
   "execution_count": 17,
   "metadata": {},
   "outputs": [],
   "source": [
    "y_hat_df_avg['y_hat'] = avg_df"
   ]
  },
  {
   "cell_type": "code",
   "execution_count": 18,
   "metadata": {},
   "outputs": [
    {
     "data": {
      "text/html": [
       "<div>\n",
       "<style scoped>\n",
       "    .dataframe tbody tr th:only-of-type {\n",
       "        vertical-align: middle;\n",
       "    }\n",
       "\n",
       "    .dataframe tbody tr th {\n",
       "        vertical-align: top;\n",
       "    }\n",
       "\n",
       "    .dataframe thead th {\n",
       "        text-align: right;\n",
       "    }\n",
       "</style>\n",
       "<table border=\"1\" class=\"dataframe\">\n",
       "  <thead>\n",
       "    <tr style=\"text-align: right;\">\n",
       "      <th></th>\n",
       "      <th>unique_id</th>\n",
       "      <th>ds</th>\n",
       "      <th>y_hat</th>\n",
       "    </tr>\n",
       "  </thead>\n",
       "  <tbody>\n",
       "    <tr>\n",
       "      <th>0</th>\n",
       "      <td>H1</td>\n",
       "      <td>1970-01-30 04:00:00</td>\n",
       "      <td>645.735820</td>\n",
       "    </tr>\n",
       "    <tr>\n",
       "      <th>1</th>\n",
       "      <td>H1</td>\n",
       "      <td>1970-01-30 05:00:00</td>\n",
       "      <td>579.507358</td>\n",
       "    </tr>\n",
       "    <tr>\n",
       "      <th>2</th>\n",
       "      <td>H1</td>\n",
       "      <td>1970-01-30 06:00:00</td>\n",
       "      <td>530.940158</td>\n",
       "    </tr>\n",
       "    <tr>\n",
       "      <th>3</th>\n",
       "      <td>H1</td>\n",
       "      <td>1970-01-30 07:00:00</td>\n",
       "      <td>494.857012</td>\n",
       "    </tr>\n",
       "    <tr>\n",
       "      <th>4</th>\n",
       "      <td>H1</td>\n",
       "      <td>1970-01-30 08:00:00</td>\n",
       "      <td>469.797596</td>\n",
       "    </tr>\n",
       "    <tr>\n",
       "      <th>...</th>\n",
       "      <td>...</td>\n",
       "      <td>...</td>\n",
       "      <td>...</td>\n",
       "    </tr>\n",
       "    <tr>\n",
       "      <th>19867</th>\n",
       "      <td>H99</td>\n",
       "      <td>1970-01-31 23:00:00</td>\n",
       "      <td>26274.804800</td>\n",
       "    </tr>\n",
       "    <tr>\n",
       "      <th>19868</th>\n",
       "      <td>H99</td>\n",
       "      <td>1970-02-01 00:00:00</td>\n",
       "      <td>25713.065600</td>\n",
       "    </tr>\n",
       "    <tr>\n",
       "      <th>19869</th>\n",
       "      <td>H99</td>\n",
       "      <td>1970-02-01 01:00:00</td>\n",
       "      <td>25123.394400</td>\n",
       "    </tr>\n",
       "    <tr>\n",
       "      <th>19870</th>\n",
       "      <td>H99</td>\n",
       "      <td>1970-02-01 02:00:00</td>\n",
       "      <td>24737.243000</td>\n",
       "    </tr>\n",
       "    <tr>\n",
       "      <th>19871</th>\n",
       "      <td>H99</td>\n",
       "      <td>1970-02-01 03:00:00</td>\n",
       "      <td>23300.674800</td>\n",
       "    </tr>\n",
       "  </tbody>\n",
       "</table>\n",
       "<p>19872 rows × 3 columns</p>\n",
       "</div>"
      ],
      "text/plain": [
       "      unique_id                   ds         y_hat\n",
       "0            H1  1970-01-30 04:00:00    645.735820\n",
       "1            H1  1970-01-30 05:00:00    579.507358\n",
       "2            H1  1970-01-30 06:00:00    530.940158\n",
       "3            H1  1970-01-30 07:00:00    494.857012\n",
       "4            H1  1970-01-30 08:00:00    469.797596\n",
       "...         ...                  ...           ...\n",
       "19867       H99  1970-01-31 23:00:00  26274.804800\n",
       "19868       H99  1970-02-01 00:00:00  25713.065600\n",
       "19869       H99  1970-02-01 01:00:00  25123.394400\n",
       "19870       H99  1970-02-01 02:00:00  24737.243000\n",
       "19871       H99  1970-02-01 03:00:00  23300.674800\n",
       "\n",
       "[19872 rows x 3 columns]"
      ]
     },
     "execution_count": 18,
     "metadata": {},
     "output_type": "execute_result"
    }
   ],
   "source": [
    "y_hat_df_avg"
   ]
  },
  {
   "cell_type": "code",
   "execution_count": null,
   "metadata": {},
   "outputs": [],
   "source": []
  },
  {
   "cell_type": "code",
   "execution_count": 21,
   "metadata": {},
   "outputs": [
    {
     "name": "stdout",
     "output_type": "stream",
     "text": [
      "===============  Model evaluation  ==============\n",
      "OWA: 0.874 \n",
      "SMAPE: 16.265 \n",
      "MASE: 2.069 \n"
     ]
    },
    {
     "data": {
      "text/plain": [
       "(0.8744226165997981, 2.06941449445906, 16.26523508424328)"
      ]
     },
     "execution_count": 21,
     "metadata": {},
     "output_type": "execute_result"
    }
   ],
   "source": [
    "evaluate_prediction_owa(y_hat_df_avg, y_train_df, X_test_df, y_test_df, naive2_seasonality=24)"
   ]
  },
  {
   "cell_type": "code",
   "execution_count": null,
   "metadata": {},
   "outputs": [],
   "source": []
  }
 ],
 "metadata": {
  "kernelspec": {
   "display_name": "tsff_env",
   "language": "python",
   "name": "python3"
  },
  "language_info": {
   "codemirror_mode": {
    "name": "ipython",
    "version": 3
   },
   "file_extension": ".py",
   "mimetype": "text/x-python",
   "name": "python",
   "nbconvert_exporter": "python",
   "pygments_lexer": "ipython3",
   "version": "3.9.0"
  }
 },
 "nbformat": 4,
 "nbformat_minor": 2
}
